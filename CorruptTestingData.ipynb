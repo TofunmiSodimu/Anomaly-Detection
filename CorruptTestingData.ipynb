{
  "nbformat": 4,
  "nbformat_minor": 0,
  "metadata": {
    "colab": {
      "provenance": [],
      "authorship_tag": "ABX9TyNRM9RhGq04Z75yqe0NEJTq",
      "include_colab_link": true
    },
    "kernelspec": {
      "name": "python3",
      "display_name": "Python 3"
    },
    "language_info": {
      "name": "python"
    }
  },
  "cells": [
    {
      "cell_type": "markdown",
      "metadata": {
        "id": "view-in-github",
        "colab_type": "text"
      },
      "source": [
        "<a href=\"https://colab.research.google.com/github/TofunmiSodimu/Novelty-Detection/blob/main/CorruptTestingData.ipynb\" target=\"_parent\"><img src=\"https://colab.research.google.com/assets/colab-badge.svg\" alt=\"Open In Colab\"/></a>"
      ]
    },
    {
      "cell_type": "code",
      "execution_count": null,
      "metadata": {
        "colab": {
          "base_uri": "https://localhost:8080/",
          "height": 52
        },
        "id": "ZlFEaVM1o9lr",
        "outputId": "bef7738d-705c-4453-9997-ef3310126537"
      },
      "outputs": [
        {
          "output_type": "execute_result",
          "data": {
            "text/plain": [
              "'\\nThis code gets all movable/grabbable objs, their locations at certain times of the day,\\nand the activities being performed at that time from the HOMER_PLUS dataset.\\n'"
            ],
            "application/vnd.google.colaboratory.intrinsic+json": {
              "type": "string"
            }
          },
          "metadata": {},
          "execution_count": 1
        }
      ],
      "source": [
        "\"\"\"\n",
        "This code gets all movable/grabbable objs, their locations at certain times of the day,\n",
        "and the activities being performed at that time from the HOMER_PLUS dataset.\n",
        "\"\"\""
      ]
    },
    {
      "cell_type": "code",
      "source": [
        "# Download HOMER_PLUS dataset from github\n",
        "!wget https://github.com/TofunmiSodimu/Novelty-Detection/zipball/master.zip\n"
      ],
      "metadata": {
        "colab": {
          "base_uri": "https://localhost:8080/"
        },
        "id": "JjnAOGsJJZzv",
        "outputId": "2a0599e3-341c-4e0e-ce5f-78c6184b3e06"
      },
      "execution_count": null,
      "outputs": [
        {
          "output_type": "stream",
          "name": "stdout",
          "text": [
            "--2024-04-02 13:05:28--  https://github.com/TofunmiSodimu/Novelty-Detection/zipball/master.zip\n",
            "Resolving github.com (github.com)... 20.27.177.113\n",
            "Connecting to github.com (github.com)|20.27.177.113|:443... connected.\n",
            "HTTP request sent, awaiting response... 302 Found\n",
            "Location: https://codeload.github.com/TofunmiSodimu/Novelty-Detection/legacy.zip/main [following]\n",
            "--2024-04-02 13:05:29--  https://codeload.github.com/TofunmiSodimu/Novelty-Detection/legacy.zip/main\n",
            "Resolving codeload.github.com (codeload.github.com)... 20.27.177.114\n",
            "Connecting to codeload.github.com (codeload.github.com)|20.27.177.114|:443... connected.\n",
            "HTTP request sent, awaiting response... 200 OK\n",
            "Length: unspecified [application/zip]\n",
            "Saving to: ‘master.zip’\n",
            "\n",
            "master.zip              [    <=>             ]   3.80M  4.77MB/s    in 0.8s    \n",
            "\n",
            "2024-04-02 13:05:30 (4.77 MB/s) - ‘master.zip’ saved [3987572]\n",
            "\n"
          ]
        }
      ]
    },
    {
      "cell_type": "code",
      "source": [
        "# Unzip folder\n",
        "!unzip /content/master.zip"
      ],
      "metadata": {
        "id": "sTXbkIM3KLaJ"
      },
      "execution_count": null,
      "outputs": []
    },
    {
      "cell_type": "code",
      "source": [
        "import random\n",
        "import numpy as np\n",
        "import csv\n",
        "\n",
        "class novelty:\n",
        "  def __init__(self):\n",
        "    # Create time_arr and room_id arr\n",
        "    self.room_ids = ['1','41','162','241']\n",
        "    self.room_dict = {'1':'bathroom','41':'dining_room','162':'bedroom','241':'home_office'}\n",
        "    self.data = []\n",
        "    self.corrupt_dets = []\n",
        "\n",
        "  def corrupt_data(self):\n",
        "    # For each csv file in testing_data file\n",
        "    for num in range(24):\n",
        "\n",
        "      # Reset everything\n",
        "      self.data = []\n",
        "      self.corrupt_dets = []\n",
        "\n",
        "      # Open CSV file and get data\n",
        "      number = str(num).zfill(3)\n",
        "      file_name = '/content/TofunmiSodimu-Novelty-Detection-5226dff/Uncorrupt_Testing_Data_RoomsOnly/test' + number + '.csv'\n",
        "\n",
        "      with open(file_name,\"r\") as file:\n",
        "        csvreader = csv.DictReader(file)\n",
        "        for row in csvreader:\n",
        "          self.data.append(row)\n",
        "\n",
        "      # Randomly pick 50 instances from the data for corruption\n",
        "      indices_chosen = np.random.choice(len(self.data),50,False)\n",
        "\n",
        "      # Randomly change the room location of these randomly chosen instances\n",
        "      for idx in indices_chosen:\n",
        "        value = {'Index':idx,'Room_Og':self.data[idx]['Room_ID']}\n",
        "        self.data[idx]['Room_ID'] = random.choice(self.room_ids)\n",
        "        self.data[idx]['Room_name'] = self.room_dict[self.data[idx]['Room_ID']]\n",
        "        value['Room_Changed'] = self.data[idx]['Room_ID']\n",
        "\n",
        "        # Store corrupting details\n",
        "        self.corrupt_dets.append(value)\n",
        "\n",
        "      # Save corrupted data as csv\n",
        "      self.convert_csv(number,'test')\n",
        "\n",
        "      # Save corruption details as csv\n",
        "      self.convert_csv_corrupt(number,'corrupt_dets')\n",
        "\n",
        "  def convert_csv(self,number,name):\n",
        "    field_names = ['Time', 'Obj_ID', 'Obj_name', 'Room_ID', 'Room_name', 'Activity']\n",
        "    name += number + '.csv'\n",
        "    with open(name,'w') as csvfile:\n",
        "      writer = csv.DictWriter(csvfile, fieldnames=field_names)\n",
        "      writer.writeheader()\n",
        "      writer.writerows(self.data)\n",
        "\n",
        "  def convert_csv_corrupt(self,number,name):\n",
        "    field_names = ['Index', 'Room_Og', 'Room_Changed']\n",
        "    name += number + '.csv'\n",
        "    with open(name,'w') as csvfile:\n",
        "      writer = csv.DictWriter(csvfile, fieldnames=field_names)\n",
        "      writer.writeheader()\n",
        "      writer.writerows(self.corrupt_dets)\n"
      ],
      "metadata": {
        "id": "hr5mV_XsoGc8"
      },
      "execution_count": null,
      "outputs": []
    },
    {
      "cell_type": "code",
      "source": [
        "novelty().corrupt_data()"
      ],
      "metadata": {
        "id": "e3hlkDSDXZch"
      },
      "execution_count": null,
      "outputs": []
    }
  ]
}