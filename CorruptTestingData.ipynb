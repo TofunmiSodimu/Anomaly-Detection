{
  "nbformat": 4,
  "nbformat_minor": 0,
  "metadata": {
    "colab": {
      "provenance": [],
      "authorship_tag": "ABX9TyN2lz6/d9PNnxkO6OU6fX/T",
      "include_colab_link": true
    },
    "kernelspec": {
      "name": "python3",
      "display_name": "Python 3"
    },
    "language_info": {
      "name": "python"
    }
  },
  "cells": [
    {
      "cell_type": "markdown",
      "metadata": {
        "id": "view-in-github",
        "colab_type": "text"
      },
      "source": [
        "<a href=\"https://colab.research.google.com/github/TofunmiSodimu/Novelty-Detection/blob/main/CorruptTestingData.ipynb\" target=\"_parent\"><img src=\"https://colab.research.google.com/assets/colab-badge.svg\" alt=\"Open In Colab\"/></a>"
      ]
    },
    {
      "cell_type": "code",
      "execution_count": 1,
      "metadata": {
        "colab": {
          "base_uri": "https://localhost:8080/",
          "height": 35
        },
        "id": "ZlFEaVM1o9lr",
        "outputId": "338d5caa-7458-41e6-c63a-564d6e1ae5cd"
      },
      "outputs": [
        {
          "output_type": "execute_result",
          "data": {
            "text/plain": [
              "'\\nThis code gets all movable/grabbable objs, their locations at certain times of the day,\\nand the activities being performed at that time from the HOMER_PLUS dataset.\\n'"
            ],
            "application/vnd.google.colaboratory.intrinsic+json": {
              "type": "string"
            }
          },
          "metadata": {},
          "execution_count": 1
        }
      ],
      "source": [
        "\"\"\"\n",
        "This code gets all movable/grabbable objs, their locations at certain times of the day,\n",
        "and the activities being performed at that time from the HOMER_PLUS dataset.\n",
        "\"\"\""
      ]
    },
    {
      "cell_type": "code",
      "source": [
        "# Download HOMER_PLUS dataset from github\n",
        "!wget https://github.com/TofunmiSodimu/Novelty-Detection/zipball/master.zip\n"
      ],
      "metadata": {
        "id": "JjnAOGsJJZzv"
      },
      "execution_count": null,
      "outputs": []
    },
    {
      "cell_type": "code",
      "source": [
        "# Unzip folder\n",
        "!unzip /content/master.zip"
      ],
      "metadata": {
        "id": "sTXbkIM3KLaJ"
      },
      "execution_count": null,
      "outputs": []
    },
    {
      "cell_type": "code",
      "source": [
        "import random\n",
        "import numpy as np\n",
        "import csv\n",
        "\n",
        "class novelty:\n",
        "  def __init__(self):\n",
        "    # Create time_arr and room_id arr\n",
        "    self.room_ids = ['1','41','162','241']\n",
        "    self.room_dict = {'1':'bathroom','41':'dining_room','162':'bedroom','241':'home_office'}\n",
        "    self.data = []\n",
        "    self.corrupt_dets = []\n",
        "    self.corrupt_percent = [1, 5, 10, 20]\n",
        "\n",
        "  def corrupt_data(self):\n",
        "    # For each csv file in testing_data file\n",
        "    for num in range(24):\n",
        "\n",
        "      # Reset everything\n",
        "      self.data = []\n",
        "      self.corrupt_dets = []\n",
        "\n",
        "      # Open CSV file and get data\n",
        "      number = str(num).zfill(3)\n",
        "      file_name = '/content/TofunmiSodimu-Novelty-Detection-b0e7828/Uncorrupt_Testing_Data_RoomsOnly/test' + number + '.csv'\n",
        "\n",
        "      with open(file_name,\"r\") as file:\n",
        "        csvreader = csv.DictReader(file)\n",
        "        for row in csvreader:\n",
        "          self.data.append(row)\n",
        "\n",
        "      # Randomly corrupt each day by percentages in self.corrupt_percent\n",
        "      for percent in self.corrupt_percent:\n",
        "        self.corrupt_data_percent(percent,number)\n",
        "\n",
        "  def corrupt_data_percent(self,percent,number):\n",
        "\n",
        "      # Randomly pick instances from the data for corruption\n",
        "      indices_chosen = np.random.choice(len(self.data),int(0.01*percent*len(self.data)),False)\n",
        "\n",
        "      # Randomly change the room location of these randomly chosen instances\n",
        "      for idx in indices_chosen:\n",
        "        value = {'Index':idx,'Room_Og':self.data[idx]['Room_ID']}\n",
        "        while value['Room_Og'] == self.data[idx]['Room_ID']:\n",
        "          self.data[idx]['Room_ID'] = random.choice(self.room_ids)\n",
        "        self.data[idx]['Room_name'] = self.room_dict[self.data[idx]['Room_ID']]\n",
        "        value['Room_Changed'] = self.data[idx]['Room_ID']\n",
        "        self.data[idx]['Anomaly_Label'] = 1\n",
        "\n",
        "        # Store corrupting details\n",
        "        self.corrupt_dets.append(value)\n",
        "\n",
        "      # Save corrupted data as csv\n",
        "      self.convert_csv(number,percent,'test')\n",
        "\n",
        "      # Save corruption details as csv\n",
        "      self.convert_csv_corrupt(number,percent,'corrupt_dets')\n",
        "\n",
        "  def convert_csv(self,number,percent,name):\n",
        "    field_names = ['Time', 'Obj_ID', 'Obj_name', 'Room_ID', 'Room_name', 'Activity', 'Anomaly_Label']\n",
        "    name = name + number + '_' + str(percent) + 'percent.csv'\n",
        "    with open(name,'w') as csvfile:\n",
        "      writer = csv.DictWriter(csvfile, fieldnames=field_names)\n",
        "      writer.writeheader()\n",
        "      writer.writerows(self.data)\n",
        "\n",
        "  def convert_csv_corrupt(self,number,percent,name):\n",
        "    field_names = ['Index', 'Room_Og', 'Room_Changed']\n",
        "    name = name + number + '_' + str(percent) + 'percent.csv'\n",
        "    with open(name,'w') as csvfile:\n",
        "      writer = csv.DictWriter(csvfile, fieldnames=field_names)\n",
        "      writer.writeheader()\n",
        "      writer.writerows(self.corrupt_dets)\n"
      ],
      "metadata": {
        "id": "hr5mV_XsoGc8"
      },
      "execution_count": 14,
      "outputs": []
    },
    {
      "cell_type": "code",
      "source": [
        "novelty().corrupt_data()"
      ],
      "metadata": {
        "id": "e3hlkDSDXZch"
      },
      "execution_count": 15,
      "outputs": []
    }
  ]
}