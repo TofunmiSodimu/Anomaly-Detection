{
  "nbformat": 4,
  "nbformat_minor": 0,
  "metadata": {
    "colab": {
      "provenance": [],
      "authorship_tag": "ABX9TyMG+9kvOAu0KXznsd+dPxus",
      "include_colab_link": true
    },
    "kernelspec": {
      "name": "python3",
      "display_name": "Python 3"
    },
    "language_info": {
      "name": "python"
    }
  },
  "cells": [
    {
      "cell_type": "markdown",
      "metadata": {
        "id": "view-in-github",
        "colab_type": "text"
      },
      "source": [
        "<a href=\"https://colab.research.google.com/github/TofunmiSodimu/Novelty-Detection/blob/main/Model1_Local_Outlier_Factor.ipynb\" target=\"_parent\"><img src=\"https://colab.research.google.com/assets/colab-badge.svg\" alt=\"Open In Colab\"/></a>"
      ]
    },
    {
      "cell_type": "code",
      "execution_count": null,
      "metadata": {
        "colab": {
          "base_uri": "https://localhost:8080/"
        },
        "id": "5xEbdY6u4JW9",
        "outputId": "84206942-3a57-43ad-ef0a-4cfa84d01855"
      },
      "outputs": [
        {
          "output_type": "stream",
          "name": "stdout",
          "text": [
            "--2024-04-02 19:41:59--  https://github.com/TofunmiSodimu/Novelty-Detection/zipball/master.zip\n",
            "Resolving github.com (github.com)... 140.82.113.3\n",
            "Connecting to github.com (github.com)|140.82.113.3|:443... connected.\n",
            "HTTP request sent, awaiting response... 302 Found\n",
            "Location: https://codeload.github.com/TofunmiSodimu/Novelty-Detection/legacy.zip/main [following]\n",
            "--2024-04-02 19:41:59--  https://codeload.github.com/TofunmiSodimu/Novelty-Detection/legacy.zip/main\n",
            "Resolving codeload.github.com (codeload.github.com)... 140.82.113.10\n",
            "Connecting to codeload.github.com (codeload.github.com)|140.82.113.10|:443... connected.\n",
            "HTTP request sent, awaiting response... 200 OK\n",
            "Length: unspecified [application/zip]\n",
            "Saving to: ‘master.zip’\n",
            "\n",
            "master.zip              [     <=>            ]   4.41M  4.84MB/s    in 0.9s    \n",
            "\n",
            "2024-04-02 19:42:00 (4.84 MB/s) - ‘master.zip’ saved [4627689]\n",
            "\n"
          ]
        }
      ],
      "source": [
        "# Download csv training data from github\n",
        "!wget https://github.com/TofunmiSodimu/Novelty-Detection/zipball/master.zip"
      ]
    },
    {
      "cell_type": "code",
      "source": [
        "# Unzip folder\n",
        "!unzip /content/master.zip"
      ],
      "metadata": {
        "id": "RVFURICp5XtE"
      },
      "execution_count": null,
      "outputs": []
    },
    {
      "cell_type": "code",
      "source": [
        "import numpy as np\n",
        "import pandas as pd\n",
        "import matplotlib.pyplot as plt\n",
        "from mpl_toolkits import mplot3d\n",
        "from sklearn import preprocessing\n",
        "from sklearn.impute import SimpleImputer\n",
        "# from sklearn import svm\n",
        "# from sklearn.cluster import KMeans\n",
        "# from sklearn.neighbors import KNeighborsClassifier"
      ],
      "metadata": {
        "id": "Pofv41tl5gN2"
      },
      "execution_count": null,
      "outputs": []
    },
    {
      "cell_type": "code",
      "source": [
        "time_arr = np.array([])\n",
        "room_id = np.array([])\n",
        "objname = 'instrument_guitar'\n",
        "for i in range(51):\n",
        "  number = str(i).zfill(3)\n",
        "  file_name = \"/content/TofunmiSodimu-Novelty-Detection-71e6b58/Training_Data_RoomsOnly/train\"+number+\".csv\"\n",
        "  data = pd.read_csv(file_name)\n",
        "  names = data[['Obj_name']].values.astype(str)\n",
        "  obj_idx = np.where(names == objname)[0]\n",
        "\n",
        "  time = data[['Time']].values.astype(float)\n",
        "  time_arr = np.append(time_arr,time[obj_idx])\n",
        "\n",
        "  vals = data[['Room_name']].values.astype(str)\n",
        "  vals = vals[obj_idx]\n",
        "  # Convert room id to binary values (e.g.,'bathroom'=0,'bedroom'=1, 'home_office'=2, 'dining_room'=3)\n",
        "  ids = preprocessing.LabelEncoder()\n",
        "  ids.fit(['bathroom','dining_room','bedroom','home_office'])\n",
        "  vals = ids.transform(vals.reshape(vals.shape[0]))\n",
        "  room_id = np.append(room_id,vals)\n"
      ],
      "metadata": {
        "id": "WYiA2Nuy6BSs"
      },
      "execution_count": null,
      "outputs": []
    },
    {
      "cell_type": "code",
      "source": [
        "print(time_arr.shape)\n",
        "print(objname)\n",
        "print(room_id.shape)"
      ],
      "metadata": {
        "colab": {
          "base_uri": "https://localhost:8080/"
        },
        "id": "s7uPxv6d6BFh",
        "outputId": "5fa01f76-3d67-4528-f553-28ab52b0d93c"
      },
      "execution_count": null,
      "outputs": [
        {
          "output_type": "stream",
          "name": "stdout",
          "text": [
            "(12648,)\n",
            "instrument_guitar\n",
            "(12648,)\n"
          ]
        }
      ]
    },
    {
      "cell_type": "code",
      "source": [
        "time_arr = time_arr.reshape(time_arr.shape[0],1)\n",
        "room_id = room_id.reshape(room_id.shape[0],1)\n",
        "train_input = np.concatenate((time_arr,room_id),axis=1)"
      ],
      "metadata": {
        "id": "tGpV8pfgWf0u"
      },
      "execution_count": null,
      "outputs": []
    },
    {
      "cell_type": "code",
      "source": [
        "print(train_input.shape)"
      ],
      "metadata": {
        "colab": {
          "base_uri": "https://localhost:8080/"
        },
        "id": "LTPYtngLrZoS",
        "outputId": "05abee27-d8df-4c0f-b2eb-fb91d5e25750"
      },
      "execution_count": null,
      "outputs": [
        {
          "output_type": "stream",
          "name": "stdout",
          "text": [
            "(12648, 2)\n"
          ]
        }
      ]
    },
    {
      "cell_type": "code",
      "source": [
        "# Cluster training data based on occurence of same (time,location)\n",
        "cluster_dict = {}\n",
        "for i in range(train_input.shape[0]):\n",
        "  # print('here')\n",
        "  if (str(train_input[i,0]),str(train_input[i,1])) not in cluster_dict:\n",
        "    cluster_dict[(str(train_input[i,0]),str(train_input[i,1]))] = 1\n",
        "  else:\n",
        "    cluster_dict[(str(train_input[i,0]),str(train_input[i,1]))] += 1"
      ],
      "metadata": {
        "id": "S-D0b_N-q0bL"
      },
      "execution_count": null,
      "outputs": []
    },
    {
      "cell_type": "code",
      "source": [
        "print(sum(cluster_dict.values()))\n",
        "print(cluster_dict.values())\n",
        "print(cluster_dict.keys())"
      ],
      "metadata": {
        "colab": {
          "base_uri": "https://localhost:8080/"
        },
        "id": "AbG-pcV8IlgE",
        "outputId": "71967daa-086e-4956-bbe3-d2becead869d"
      },
      "execution_count": null,
      "outputs": [
        {
          "output_type": "stream",
          "name": "stdout",
          "text": [
            "12648\n",
            "dict_values([51, 51, 51, 51, 51, 51, 51, 51, 51, 51, 51, 51, 51, 51, 51, 51, 51, 51, 51, 51, 51, 51, 51, 51, 51, 51, 51, 51, 51, 51, 51, 51, 51, 51, 51, 51, 51, 51, 51, 51, 51, 51, 51, 51, 51, 51, 51, 51, 51, 51, 51, 51, 51, 51, 51, 51, 51, 51, 51, 51, 51, 51, 51, 51, 51, 51, 51, 51, 51, 51, 51, 51, 51, 51, 51, 51, 51, 51, 51, 51, 51, 51, 51, 51, 51, 51, 51, 51, 51, 51, 51, 51, 51, 51, 51, 51, 51, 51, 51, 51, 51, 51, 51, 51, 51, 51, 51, 51, 51, 2, 3, 5, 7, 46, 45, 43, 45, 45, 46, 48, 47, 48, 50, 50, 51, 51, 51, 51, 51, 51, 51, 51, 51, 51, 51, 51, 51, 51, 51, 51, 51, 51, 51, 51, 51, 51, 51, 51, 51, 51, 51, 51, 51, 51, 51, 51, 51, 51, 50, 50, 50, 50, 51, 51, 51, 51, 49, 48, 48, 46, 44, 42, 41, 44, 46, 48, 49, 3, 3, 3, 3, 49, 50, 51, 51, 51, 51, 51, 51, 51, 51, 51, 51, 51, 51, 51, 51, 51, 51, 51, 51, 51, 51, 51, 51, 51, 51, 51, 51, 51, 51, 51, 51, 51, 51, 51, 51, 51, 51, 51, 51, 51, 51, 51, 51, 51, 51, 51, 51, 51, 51, 51, 51, 51, 51, 51, 51, 51, 51, 51, 51, 51, 51, 51, 51, 51, 51, 51, 49, 48, 46, 44, 48, 48, 48, 48, 9, 10, 7, 5, 3, 5, 6, 8, 6, 2, 3, 3, 5, 7, 2, 6, 5, 2, 1, 3, 4, 3, 1, 1, 1, 1, 1, 1])\n",
            "dict_keys([('360.0', '3.0'), ('365.0', '3.0'), ('370.0', '3.0'), ('375.0', '3.0'), ('380.0', '3.0'), ('385.0', '3.0'), ('390.0', '3.0'), ('395.0', '3.0'), ('400.0', '3.0'), ('405.0', '3.0'), ('410.0', '3.0'), ('415.0', '3.0'), ('420.0', '3.0'), ('425.0', '3.0'), ('430.0', '3.0'), ('435.0', '3.0'), ('440.0', '3.0'), ('445.0', '3.0'), ('450.0', '3.0'), ('455.0', '3.0'), ('460.0', '3.0'), ('465.0', '3.0'), ('470.0', '3.0'), ('475.0', '3.0'), ('480.0', '3.0'), ('485.0', '3.0'), ('490.0', '3.0'), ('495.0', '3.0'), ('500.0', '3.0'), ('505.0', '3.0'), ('510.0', '3.0'), ('515.0', '3.0'), ('520.0', '3.0'), ('525.0', '3.0'), ('530.0', '3.0'), ('535.0', '3.0'), ('540.0', '3.0'), ('545.0', '3.0'), ('550.0', '3.0'), ('555.0', '3.0'), ('560.0', '3.0'), ('565.0', '3.0'), ('570.0', '3.0'), ('575.0', '3.0'), ('580.0', '3.0'), ('585.0', '3.0'), ('590.0', '3.0'), ('595.0', '3.0'), ('600.0', '3.0'), ('605.0', '3.0'), ('610.0', '3.0'), ('615.0', '3.0'), ('620.0', '3.0'), ('625.0', '3.0'), ('630.0', '3.0'), ('635.0', '3.0'), ('640.0', '3.0'), ('645.0', '3.0'), ('650.0', '3.0'), ('655.0', '3.0'), ('660.0', '3.0'), ('665.0', '3.0'), ('670.0', '3.0'), ('675.0', '3.0'), ('680.0', '3.0'), ('685.0', '3.0'), ('690.0', '3.0'), ('695.0', '3.0'), ('700.0', '3.0'), ('705.0', '3.0'), ('710.0', '3.0'), ('715.0', '3.0'), ('720.0', '3.0'), ('725.0', '3.0'), ('730.0', '3.0'), ('735.0', '3.0'), ('740.0', '3.0'), ('745.0', '3.0'), ('750.0', '3.0'), ('755.0', '3.0'), ('760.0', '3.0'), ('765.0', '3.0'), ('770.0', '3.0'), ('775.0', '3.0'), ('780.0', '3.0'), ('785.0', '3.0'), ('790.0', '3.0'), ('795.0', '3.0'), ('800.0', '3.0'), ('805.0', '3.0'), ('810.0', '3.0'), ('815.0', '3.0'), ('820.0', '3.0'), ('825.0', '3.0'), ('830.0', '3.0'), ('835.0', '3.0'), ('840.0', '3.0'), ('845.0', '3.0'), ('850.0', '3.0'), ('855.0', '3.0'), ('860.0', '3.0'), ('865.0', '3.0'), ('870.0', '3.0'), ('875.0', '3.0'), ('880.0', '3.0'), ('885.0', '3.0'), ('890.0', '3.0'), ('895.0', '3.0'), ('900.0', '3.0'), ('905.0', '1.0'), ('910.0', '1.0'), ('915.0', '1.0'), ('920.0', '1.0'), ('925.0', '3.0'), ('930.0', '3.0'), ('935.0', '3.0'), ('940.0', '3.0'), ('945.0', '3.0'), ('950.0', '3.0'), ('955.0', '3.0'), ('960.0', '3.0'), ('965.0', '3.0'), ('970.0', '3.0'), ('975.0', '3.0'), ('980.0', '3.0'), ('985.0', '3.0'), ('990.0', '3.0'), ('995.0', '3.0'), ('1000.0', '3.0'), ('1005.0', '3.0'), ('1010.0', '3.0'), ('1015.0', '3.0'), ('1020.0', '3.0'), ('1025.0', '3.0'), ('1030.0', '3.0'), ('1035.0', '3.0'), ('1040.0', '3.0'), ('1045.0', '3.0'), ('1050.0', '3.0'), ('1055.0', '3.0'), ('1060.0', '3.0'), ('1065.0', '3.0'), ('1070.0', '3.0'), ('1075.0', '3.0'), ('1080.0', '3.0'), ('1085.0', '3.0'), ('1090.0', '3.0'), ('1095.0', '3.0'), ('1100.0', '3.0'), ('1105.0', '3.0'), ('1110.0', '3.0'), ('1115.0', '3.0'), ('1120.0', '3.0'), ('1125.0', '3.0'), ('1130.0', '3.0'), ('1135.0', '3.0'), ('1140.0', '3.0'), ('1145.0', '3.0'), ('1150.0', '3.0'), ('1155.0', '3.0'), ('1160.0', '3.0'), ('1165.0', '3.0'), ('1170.0', '3.0'), ('1175.0', '3.0'), ('1180.0', '3.0'), ('1185.0', '3.0'), ('1190.0', '3.0'), ('1195.0', '3.0'), ('1200.0', '3.0'), ('1205.0', '3.0'), ('1210.0', '3.0'), ('1215.0', '3.0'), ('1220.0', '3.0'), ('1225.0', '3.0'), ('1230.0', '3.0'), ('1235.0', '3.0'), ('1240.0', '3.0'), ('1245.0', '1.0'), ('1250.0', '1.0'), ('1255.0', '1.0'), ('1260.0', '1.0'), ('1265.0', '3.0'), ('1270.0', '3.0'), ('1275.0', '3.0'), ('1280.0', '3.0'), ('1285.0', '3.0'), ('1290.0', '3.0'), ('1295.0', '3.0'), ('1300.0', '3.0'), ('1305.0', '3.0'), ('1310.0', '3.0'), ('1315.0', '3.0'), ('1320.0', '3.0'), ('1325.0', '3.0'), ('1330.0', '3.0'), ('1335.0', '3.0'), ('1340.0', '3.0'), ('1345.0', '3.0'), ('1350.0', '3.0'), ('1355.0', '3.0'), ('1360.0', '3.0'), ('1365.0', '3.0'), ('1370.0', '3.0'), ('1375.0', '3.0'), ('1380.0', '3.0'), ('1385.0', '3.0'), ('1390.0', '3.0'), ('1395.0', '3.0'), ('1400.0', '3.0'), ('1405.0', '3.0'), ('1410.0', '3.0'), ('1415.0', '3.0'), ('1420.0', '3.0'), ('1425.0', '3.0'), ('1430.0', '3.0'), ('1435.0', '3.0'), ('1440.0', '3.0'), ('1445.0', '3.0'), ('1450.0', '3.0'), ('1455.0', '3.0'), ('1460.0', '3.0'), ('1465.0', '3.0'), ('1470.0', '3.0'), ('1475.0', '3.0'), ('1480.0', '3.0'), ('1485.0', '3.0'), ('1490.0', '3.0'), ('1495.0', '3.0'), ('1500.0', '3.0'), ('1505.0', '3.0'), ('1510.0', '3.0'), ('1515.0', '3.0'), ('1520.0', '3.0'), ('1525.0', '3.0'), ('1530.0', '3.0'), ('1535.0', '3.0'), ('1540.0', '3.0'), ('1545.0', '3.0'), ('1550.0', '3.0'), ('1555.0', '3.0'), ('1560.0', '3.0'), ('1565.0', '3.0'), ('1570.0', '3.0'), ('1575.0', '3.0'), ('1580.0', '3.0'), ('1585.0', '3.0'), ('1590.0', '3.0'), ('1595.0', '3.0'), ('905.0', '3.0'), ('910.0', '3.0'), ('915.0', '3.0'), ('920.0', '3.0'), ('1245.0', '3.0'), ('1250.0', '3.0'), ('1255.0', '3.0'), ('1260.0', '3.0'), ('1215.0', '1.0'), ('1220.0', '1.0'), ('1225.0', '1.0'), ('1230.0', '1.0'), ('1235.0', '1.0'), ('925.0', '1.0'), ('930.0', '1.0'), ('935.0', '1.0'), ('940.0', '1.0'), ('1190.0', '1.0'), ('1195.0', '1.0'), ('1200.0', '1.0'), ('1205.0', '1.0'), ('1210.0', '1.0'), ('1240.0', '1.0'), ('945.0', '1.0'), ('950.0', '1.0'), ('1265.0', '1.0'), ('1270.0', '1.0'), ('955.0', '1.0'), ('960.0', '1.0'), ('965.0', '1.0'), ('1150.0', '1.0'), ('1155.0', '1.0'), ('1160.0', '1.0'), ('1165.0', '1.0'), ('970.0', '1.0'), ('975.0', '1.0')])\n"
          ]
        }
      ]
    },
    {
      "cell_type": "code",
      "source": [
        "plt.scatter(train_input[:,0],train_input[:,1])\n",
        "plt.xlabel(\"Time(seconds)\")\n",
        "plt.ylabel(\"Room_ID\")\n",
        "title = \"Training data for  \" + objname\n",
        "plt.title(title)\n",
        "plt.show()"
      ],
      "metadata": {
        "colab": {
          "base_uri": "https://localhost:8080/",
          "height": 472
        },
        "id": "Uhr_qgwcamVJ",
        "outputId": "5dbf541f-5813-4c2d-9ede-b1e17916935b"
      },
      "execution_count": null,
      "outputs": [
        {
          "output_type": "display_data",
          "data": {
            "text/plain": [
              "<Figure size 640x480 with 1 Axes>"
            ],
            "image/png": "[encoded data removed]"
          },
          "metadata": {}
        }
      ]
    },
    {
      "cell_type": "code",
      "source": [
        "time_arr_test = np.array([])\n",
        "room_id_test = np.array([])\n",
        "y_true = np.array([])\n",
        "\n",
        "for i in range(0,24):\n",
        "  number = str(i).zfill(3)\n",
        "  file_name = \"/content/TofunmiSodimu-Novelty-Detection-71e6b58/Corrupt_Testing_Data_RoomsOnly/test\"+number+\".csv\"\n",
        "  data = pd.read_csv(file_name)\n",
        "  names = data[['Obj_name']].values.astype(str)\n",
        "  obj_idx = np.where(names == objname)[0]\n",
        "\n",
        "  time = data[['Time']].values.astype(float)\n",
        "  time_arr_test = np.append(time_arr_test,time[obj_idx])\n",
        "\n",
        "  vals = data[['Room_name']].values.astype(str)\n",
        "  vals = vals[obj_idx]\n",
        "  # Convert room id to binary values (e.g.,'bathroom'=0,'bedroom'=1, 'home_office'=2, 'dining_room'=3)\n",
        "  vals = ids.transform(vals.reshape(vals.shape[0]))\n",
        "  room_id_test = np.append(room_id_test,vals)\n",
        "\n",
        "  # Get true y values\n",
        "  # Normal - 1\n",
        "  # Novel - -1\n",
        "\n",
        "  file_name = \"/content/TofunmiSodimu-Novelty-Detection-71e6b58/Corrupting_Details/corrupt_dets\"+number+\".csv\"\n",
        "  data = pd.read_csv(file_name)\n",
        "  Indices = data[['Index']].values.astype(int)\n",
        "  Room_Og = data[['Room_Og']].values.astype(float)\n",
        "  Room_Changed = data[['Room_Changed']].values.astype(float)\n",
        "  value = np.ones(names.shape[0])\n",
        "  for j in range(len(Indices)):\n",
        "    if (Room_Og[j] != Room_Changed[j]):\n",
        "      value[Indices[j]] = -1\n",
        "  y_true = np.append(y_true,value[obj_idx])"
      ],
      "metadata": {
        "id": "KdBP_Hoanp5l"
      },
      "execution_count": null,
      "outputs": []
    },
    {
      "cell_type": "code",
      "source": [
        "print(time_arr_test.shape)\n",
        "print(objname)\n",
        "print(room_id_test.shape)\n",
        "print(y_true.shape)"
      ],
      "metadata": {
        "colab": {
          "base_uri": "https://localhost:8080/"
        },
        "id": "MpMVIU8st90I",
        "outputId": "7557b61c-9454-4d7c-c998-31453a9df3b9"
      },
      "execution_count": null,
      "outputs": [
        {
          "output_type": "stream",
          "name": "stdout",
          "text": [
            "(5952,)\n",
            "instrument_guitar\n",
            "(5952,)\n",
            "(5952,)\n"
          ]
        }
      ]
    },
    {
      "cell_type": "code",
      "source": [
        "time_arr_test = time_arr_test.reshape(time_arr_test.shape[0],1)\n",
        "room_id_test = room_id_test.reshape(room_id_test.shape[0],1)\n",
        "test_input = np.concatenate((time_arr_test,room_id_test),axis=1)"
      ],
      "metadata": {
        "id": "KeW74x8ipYWD"
      },
      "execution_count": null,
      "outputs": []
    },
    {
      "cell_type": "code",
      "source": [
        "print(test_input.shape)\n",
        "print(test_input[0])"
      ],
      "metadata": {
        "colab": {
          "base_uri": "https://localhost:8080/"
        },
        "id": "Gtb8B7RQvOxD",
        "outputId": "b78a17e0-99e8-4446-b985-a43f3269d48c"
      },
      "execution_count": null,
      "outputs": [
        {
          "output_type": "stream",
          "name": "stdout",
          "text": [
            "(5952, 2)\n",
            "[360.   3.]\n"
          ]
        }
      ]
    },
    {
      "cell_type": "code",
      "source": [
        "# Normal - 1\n",
        "# Novel - -1\n",
        "\n",
        "min_pts = 5\n",
        "counter = 0\n",
        "y_output = np.ones(test_input.shape[0])*-1\n",
        "for i in range(test_input.shape[0]):\n",
        "  # If we have atleast min_pts identical points - not an anomaly\n",
        "  if ((str(test_input[i][0]),str(test_input[i][1])) in cluster_dict) and (cluster_dict[(str(test_input[i][0]),str(test_input[i][1]))] >= min_pts):\n",
        "    y_output[i] = 1\n",
        "  # Else, calculate degree to which instance is an anomaly\n",
        "  else:\n",
        "    counter += 1\n",
        "print(counter,'done')\n",
        "print(y_output)\n",
        "print(np.where(y_output == 1))"
      ],
      "metadata": {
        "id": "jT_-0MQWa9yw"
      },
      "execution_count": null,
      "outputs": []
    },
    {
      "cell_type": "code",
      "source": [
        "min_pts = 5\n",
        "vals = np.array(list(cluster_dict.values()))\n",
        "outliers_ratio = len(np.where(vals < min_pts)[0])/train_input.shape[0]\n",
        "if outliers_ratio > 0.5:\n",
        "  outliers_ratio = 0.5"
      ],
      "metadata": {
        "id": "DbdxwP8exft9"
      },
      "execution_count": null,
      "outputs": []
    },
    {
      "cell_type": "code",
      "source": [
        "#  Euclidean distance being used as distance metric may not be  appropriate because it uses distance between\n",
        "# rooms which is arbitrary in this case\n",
        "from sklearn.neighbors import LocalOutlierFactor\n",
        "clf = LocalOutlierFactor(n_neighbors=min_pts, novelty=True)\n",
        "clf.fit(train_input)\n",
        "y_pred = clf.predict(test_input)"
      ],
      "metadata": {
        "id": "OihVFyfJa-W-"
      },
      "execution_count": null,
      "outputs": []
    },
    {
      "cell_type": "code",
      "source": [
        "import sys\n",
        "np.set_printoptions(threshold=sys.maxsize)\n",
        "print(y_pred.shape)"
      ],
      "metadata": {
        "colab": {
          "base_uri": "https://localhost:8080/"
        },
        "id": "bI7qvL4d5RJF",
        "outputId": "17cd3d37-2123-4d1b-dd03-75b1c4aefbb5"
      },
      "execution_count": null,
      "outputs": [
        {
          "output_type": "stream",
          "name": "stdout",
          "text": [
            "(5952,)\n"
          ]
        }
      ]
    },
    {
      "cell_type": "code",
      "source": [
        "novel = test_input[np.where(y_pred == -1)[0]]\n",
        "normal = test_input[np.where(y_pred == 1)[0]]\n",
        "\n",
        "# Plot novel instances\n",
        "plt.scatter(novel[:,0],novel[:,1],color=\"b\")\n",
        "# Plot normal instances\n",
        "plt.scatter(normal[:,0],normal[:,1],color=\"r\")\n",
        "plt.xlabel(\"Time(seconds)\")\n",
        "plt.ylabel(\"Room_ID\")\n",
        "plt.legend([\"Novel\",\"Normal\"])\n",
        "title = \"Local Outlier Factor (LOF) for \" + objname\n",
        "plt.title(title)\n",
        "plt.show()"
      ],
      "metadata": {
        "colab": {
          "base_uri": "https://localhost:8080/",
          "height": 472
        },
        "id": "IjQvYspQ4pzS",
        "outputId": "277ff20c-7c12-47c1-c52f-bc744e6a3a97"
      },
      "execution_count": null,
      "outputs": [
        {
          "output_type": "display_data",
          "data": {
            "text/plain": [
              "<Figure size 640x480 with 1 Axes>"
            ],
            "image/png": "[encoded data removed]"
          },
          "metadata": {}
        }
      ]
    },
    {
      "cell_type": "code",
      "source": [
        "#  Test Accuracy at finding anomalies\n",
        "# Normal - 1\n",
        "# Novel - -1\n",
        "from sklearn.metrics import accuracy_score\n",
        "accuracy = accuracy_score(y_true, y_pred)\n",
        "print(accuracy)"
      ],
      "metadata": {
        "id": "B3PkIdjeO9a2",
        "colab": {
          "base_uri": "https://localhost:8080/"
        },
        "outputId": "36b51310-3341-4282-933c-79fc10f5d43f"
      },
      "execution_count": null,
      "outputs": [
        {
          "output_type": "stream",
          "name": "stdout",
          "text": [
            "0.9956317204301075\n"
          ]
        }
      ]
    },
    {
      "cell_type": "code",
      "source": [
        "normal_count = 0\n",
        "for instance in normal:\n",
        "  if (str(instance[0]),str(instance[1])) in cluster_dict:\n",
        "    # print(cluster_dict[(str(instance[0]),str(instance[1]))])\n",
        "    normal_count += 1\n",
        "print('done',normal_count,len(normal))\n",
        "print('done',normal_count,len(normal))\n",
        "# novel_count = 0\n",
        "# for instance in novel:\n",
        "#   if (str(instance[0]),str(instance[1])) in cluster_dict:\n",
        "#     print(cluster_dict[(str(instance[0]),str(instance[1]))])\n",
        "#     novel_count += 1"
      ],
      "metadata": {
        "colab": {
          "base_uri": "https://localhost:8080/"
        },
        "id": "7L7pK7cbPThw",
        "outputId": "bed2881f-104e-463b-afa6-98a9b54dccf9"
      },
      "execution_count": null,
      "outputs": [
        {
          "output_type": "stream",
          "name": "stdout",
          "text": [
            "65\n",
            "65\n",
            "33\n",
            "33\n",
            "29\n",
            "29\n",
            "29\n",
            "29\n",
            "29\n",
            "39\n",
            "14\n",
            "9\n",
            "9\n",
            "9\n",
            "9\n",
            "9\n",
            "9\n",
            "9\n",
            "11\n",
            "13\n",
            "3\n",
            "3\n",
            "3\n",
            "3\n",
            "3\n",
            "3\n",
            "4\n",
            "2\n",
            "2\n",
            "2\n",
            "4\n",
            "3\n",
            "2\n",
            "8\n",
            "1\n",
            "4\n",
            "1\n",
            "1\n",
            "1\n",
            "1\n",
            "1\n",
            "1\n",
            "1\n",
            "1\n",
            "1\n",
            "1\n",
            "1\n",
            "1\n",
            "1\n",
            "1\n",
            "1\n",
            "1\n",
            "1\n",
            "1\n",
            "1\n",
            "1\n",
            "1\n",
            "1\n",
            "1\n",
            "1\n",
            "1\n",
            "1\n",
            "65\n",
            "65\n",
            "33\n",
            "33\n",
            "29\n",
            "29\n",
            "29\n",
            "29\n",
            "29\n",
            "39\n",
            "10\n",
            "5\n",
            "6\n",
            "2\n",
            "2\n",
            "6\n",
            "2\n",
            "2\n",
            "2\n",
            "2\n",
            "2\n",
            "2\n",
            "3\n",
            "1\n",
            "1\n",
            "4\n",
            "1\n",
            "1\n",
            "1\n",
            "1\n",
            "1\n",
            "1\n",
            "1\n",
            "1\n",
            "2\n",
            "1\n",
            "1\n",
            "3\n",
            "1\n",
            "5\n",
            "1\n",
            "1\n",
            "1\n",
            "1\n",
            "1\n",
            "1\n",
            "2\n",
            "2\n",
            "1\n",
            "1\n",
            "65\n",
            "65\n",
            "33\n",
            "33\n",
            "29\n",
            "29\n",
            "29\n",
            "29\n",
            "29\n",
            "39\n",
            "10\n",
            "5\n",
            "6\n",
            "2\n",
            "2\n",
            "6\n",
            "2\n",
            "2\n",
            "2\n",
            "2\n",
            "2\n",
            "2\n",
            "3\n",
            "2\n",
            "2\n",
            "2\n",
            "2\n",
            "1\n",
            "1\n",
            "1\n",
            "3\n",
            "1\n",
            "1\n",
            "1\n",
            "1\n",
            "1\n",
            "1\n",
            "1\n",
            "2\n",
            "1\n",
            "1\n",
            "1\n",
            "1\n",
            "65\n",
            "65\n",
            "33\n",
            "33\n",
            "29\n",
            "29\n",
            "29\n",
            "29\n",
            "29\n",
            "39\n",
            "14\n",
            "9\n",
            "9\n",
            "9\n",
            "9\n",
            "9\n",
            "9\n",
            "9\n",
            "11\n",
            "13\n",
            "2\n",
            "8\n",
            "2\n",
            "2\n",
            "6\n",
            "2\n",
            "1\n",
            "1\n",
            "1\n",
            "1\n",
            "1\n",
            "1\n",
            "2\n",
            "1\n",
            "1\n",
            "1\n",
            "1\n",
            "1\n",
            "2\n",
            "1\n",
            "1\n",
            "1\n",
            "1\n",
            "1\n",
            "2\n",
            "1\n",
            "65\n",
            "65\n",
            "33\n",
            "33\n",
            "4\n",
            "4\n",
            "4\n",
            "11\n",
            "4\n",
            "5\n",
            "2\n",
            "2\n",
            "4\n",
            "2\n",
            "4\n",
            "2\n",
            "2\n",
            "2\n",
            "2\n",
            "5\n",
            "4\n",
            "1\n",
            "1\n",
            "4\n",
            "1\n",
            "1\n",
            "1\n",
            "1\n",
            "1\n",
            "1\n",
            "6\n",
            "3\n",
            "3\n",
            "3\n",
            "5\n",
            "3\n",
            "4\n",
            "2\n",
            "2\n",
            "2\n",
            "5\n",
            "1\n",
            "3\n",
            "1\n",
            "1\n",
            "1\n",
            "1\n",
            "3\n",
            "3\n",
            "3\n",
            "3\n",
            "1\n",
            "1\n",
            "1\n",
            "1\n",
            "1\n",
            "1\n",
            "1\n",
            "1\n",
            "1\n",
            "1\n",
            "1\n",
            "2\n",
            "1\n",
            "1\n",
            "2\n",
            "65\n",
            "65\n",
            "33\n",
            "33\n",
            "29\n",
            "29\n",
            "29\n",
            "29\n",
            "29\n",
            "39\n",
            "6\n",
            "5\n",
            "5\n",
            "5\n",
            "5\n",
            "5\n",
            "5\n",
            "5\n",
            "13\n",
            "8\n",
            "1\n",
            "3\n",
            "5\n",
            "1\n",
            "1\n",
            "1\n",
            "1\n",
            "2\n",
            "2\n",
            "1\n",
            "1\n",
            "1\n",
            "1\n",
            "1\n",
            "1\n",
            "1\n",
            "1\n",
            "1\n",
            "1\n",
            "1\n",
            "1\n",
            "2\n",
            "1\n",
            "2\n",
            "1\n",
            "2\n",
            "1\n",
            "1\n",
            "1\n",
            "65\n",
            "65\n",
            "33\n",
            "33\n",
            "29\n",
            "29\n",
            "29\n",
            "29\n",
            "29\n",
            "39\n",
            "21\n",
            "17\n",
            "10\n",
            "10\n",
            "10\n",
            "10\n",
            "10\n",
            "10\n",
            "11\n",
            "13\n",
            "5\n",
            "5\n",
            "5\n",
            "5\n",
            "5\n",
            "5\n",
            "5\n",
            "6\n",
            "6\n",
            "5\n",
            "7\n",
            "7\n",
            "7\n",
            "7\n",
            "7\n",
            "7\n",
            "7\n",
            "13\n",
            "2\n",
            "2\n",
            "2\n",
            "1\n",
            "1\n",
            "1\n",
            "1\n",
            "1\n",
            "1\n",
            "1\n",
            "1\n",
            "1\n",
            "1\n",
            "1\n",
            "1\n",
            "1\n",
            "1\n",
            "1\n",
            "1\n",
            "1\n",
            "1\n",
            "1\n",
            "1\n",
            "1\n",
            "1\n",
            "1\n",
            "1\n",
            "1\n",
            "1\n",
            "1\n",
            "1\n",
            "1\n",
            "1\n",
            "1\n",
            "1\n",
            "65\n",
            "65\n",
            "25\n",
            "25\n",
            "25\n",
            "25\n",
            "25\n",
            "25\n",
            "14\n",
            "10\n",
            "5\n",
            "6\n",
            "2\n",
            "2\n",
            "6\n",
            "1\n",
            "1\n",
            "1\n",
            "1\n",
            "1\n",
            "1\n",
            "1\n",
            "1\n",
            "1\n",
            "1\n",
            "1\n",
            "1\n",
            "1\n",
            "1\n",
            "1\n",
            "2\n",
            "1\n",
            "1\n",
            "1\n",
            "1\n",
            "1\n",
            "1\n",
            "1\n",
            "3\n",
            "1\n",
            "1\n",
            "1\n",
            "1\n",
            "1\n",
            "65\n",
            "65\n",
            "7\n",
            "7\n",
            "17\n",
            "7\n",
            "9\n",
            "7\n",
            "11\n",
            "3\n",
            "3\n",
            "3\n",
            "3\n",
            "3\n",
            "5\n",
            "2\n",
            "1\n",
            "4\n",
            "3\n",
            "1\n",
            "1\n",
            "1\n",
            "1\n",
            "5\n",
            "3\n",
            "3\n",
            "5\n",
            "3\n",
            "3\n",
            "1\n",
            "1\n",
            "1\n",
            "2\n",
            "3\n",
            "3\n",
            "4\n",
            "3\n",
            "3\n",
            "3\n",
            "3\n",
            "1\n",
            "1\n",
            "3\n",
            "1\n",
            "1\n",
            "1\n",
            "1\n",
            "2\n",
            "1\n",
            "1\n",
            "1\n",
            "2\n",
            "65\n",
            "65\n",
            "33\n",
            "33\n",
            "29\n",
            "29\n",
            "29\n",
            "29\n",
            "29\n",
            "39\n",
            "10\n",
            "5\n",
            "6\n",
            "2\n",
            "2\n",
            "6\n",
            "2\n",
            "2\n",
            "2\n",
            "2\n",
            "2\n",
            "2\n",
            "3\n",
            "2\n",
            "2\n",
            "2\n",
            "2\n",
            "1\n",
            "1\n",
            "1\n",
            "1\n",
            "1\n",
            "1\n",
            "1\n",
            "1\n",
            "1\n",
            "1\n",
            "1\n",
            "1\n",
            "1\n",
            "1\n",
            "1\n",
            "1\n",
            "1\n",
            "1\n",
            "3\n",
            "1\n",
            "1\n",
            "1\n",
            "1\n",
            "1\n",
            "2\n",
            "1\n",
            "2\n",
            "1\n",
            "1\n",
            "1\n",
            "1\n",
            "1\n",
            "1\n",
            "done 545 1610\n"
          ]
        }
      ]
    }
  ]
}