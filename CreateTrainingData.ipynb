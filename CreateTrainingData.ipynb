{
  "nbformat": 4,
  "nbformat_minor": 0,
  "metadata": {
    "colab": {
      "provenance": [],
      "authorship_tag": "ABX9TyMiOljbAuIu8N+9RsfGF+9l",
      "include_colab_link": true
    },
    "kernelspec": {
      "name": "python3",
      "display_name": "Python 3"
    },
    "language_info": {
      "name": "python"
    }
  },
  "cells": [
    {
      "cell_type": "markdown",
      "metadata": {
        "id": "view-in-github",
        "colab_type": "text"
      },
      "source": [
        "<a href=\"https://colab.research.google.com/github/TofunmiSodimu/Novelty-Detection/blob/main/CreateTrainingData.ipynb\" target=\"_parent\"><img src=\"https://colab.research.google.com/assets/colab-badge.svg\" alt=\"Open In Colab\"/></a>"
      ]
    },
    {
      "cell_type": "code",
      "execution_count": null,
      "metadata": {
        "colab": {
          "base_uri": "https://localhost:8080/",
          "height": 35
        },
        "id": "ZlFEaVM1o9lr",
        "outputId": "04b4ef67-708a-4bcf-8a34-b75fefb64471"
      },
      "outputs": [
        {
          "output_type": "execute_result",
          "data": {
            "text/plain": [
              "'\\nThis code gets all movable/grabbable objs, their locations at certain times of the day,\\nand the activities being performed at that time from the HOMER_PLUS dataset.\\n'"
            ],
            "application/vnd.google.colaboratory.intrinsic+json": {
              "type": "string"
            }
          },
          "metadata": {},
          "execution_count": 1
        }
      ],
      "source": [
        "\"\"\"\n",
        "This code gets all movable/grabbable objs, their locations at certain times of the day,\n",
        "and the activities being performed at that time from the HOMER_PLUS dataset.\n",
        "\"\"\""
      ]
    },
    {
      "cell_type": "code",
      "source": [
        "# Download HOMER_PLUS dataset from github\n",
        "!wget https://github.com/Maithili/HOMER_PLUS/zipball/master.zip\n"
      ],
      "metadata": {
        "colab": {
          "base_uri": "https://localhost:8080/"
        },
        "id": "JjnAOGsJJZzv",
        "outputId": "baf778c2-e464-425b-ee28-ab4cf2048804"
      },
      "execution_count": null,
      "outputs": [
        {
          "output_type": "stream",
          "name": "stdout",
          "text": [
            "--2024-04-01 17:02:00--  https://github.com/Maithili/HOMER_PLUS/zipball/master.zip\n",
            "Resolving github.com (github.com)... 140.82.114.4\n",
            "Connecting to github.com (github.com)|140.82.114.4|:443... connected.\n",
            "HTTP request sent, awaiting response... 302 Found\n",
            "Location: https://codeload.github.com/Maithili/HOMER_PLUS/legacy.zip/main [following]\n",
            "--2024-04-01 17:02:00--  https://codeload.github.com/Maithili/HOMER_PLUS/legacy.zip/main\n",
            "Resolving codeload.github.com (codeload.github.com)... 140.82.114.10\n",
            "Connecting to codeload.github.com (codeload.github.com)|140.82.114.10|:443... connected.\n",
            "HTTP request sent, awaiting response... 200 OK\n",
            "Length: unspecified [application/zip]\n",
            "Saving to: ‘master.zip’\n",
            "\n",
            "master.zip              [ <=>                ] 108.78M  4.61MB/s    in 24s     \n",
            "\n",
            "2024-04-01 17:02:24 (4.48 MB/s) - ‘master.zip’ saved [114059998]\n",
            "\n"
          ]
        }
      ]
    },
    {
      "cell_type": "code",
      "source": [
        "# Unzip folder\n",
        "!unzip /content/master.zip"
      ],
      "metadata": {
        "id": "sTXbkIM3KLaJ"
      },
      "execution_count": null,
      "outputs": []
    },
    {
      "cell_type": "code",
      "source": [
        "import json\n",
        "import random\n",
        "import numpy as np\n",
        "import csv\n",
        "\n",
        "class novelty:\n",
        "  def __init__(self):\n",
        "    # Create time_arr and room_id arr\n",
        "    self.time_arr = np.arange(360,1600,5)\n",
        "    self.room_ids = ['1','41','162','241']\n",
        "    self.data = {}\n",
        "    self.time_obj = {}\n",
        "    self.id_obj = {}\n",
        "    self.graph_times = []\n",
        "    self.time_obj_arr = []\n",
        "\n",
        "  def get_data(self):\n",
        "    # For each day in Household A HOMER PLUS, convert training data to csv form\n",
        "    for num in range(65):\n",
        "\n",
        "      # Reset everything\n",
        "      self.data = {}\n",
        "      self.time_obj = {}\n",
        "      self.id_obj = {}\n",
        "      self.graph_times = []\n",
        "      self.time_obj_arr = []\n",
        "\n",
        "      # Open JSON file\n",
        "      number = str(num).zfill(3)\n",
        "      file_name = '/content/Maithili-HOMER_PLUS-006621c/HouseholdA/routines_train/' + number + '.json'\n",
        "      f = open(file_name)\n",
        "\n",
        "      # Returns JSON object as a dictionary\n",
        "      self.data = json.load(f)\n",
        "\n",
        "      # Get times at which all scene graphs in current JSON were captured\n",
        "      self.graph_times = self.data['times']\n",
        "\n",
        "      # Call function to get matching scene graph for each time in time_arr\n",
        "      self.get_dets()\n",
        "\n",
        "      # Call function to convert time_obj dict to list\n",
        "      self.convert_list_rooms()\n",
        "\n",
        "      # Call function to convert time_obj_list to csv\n",
        "      self.convert_csv(number,'train')\n",
        "\n",
        "    # For each day in Household A HOMER PLUS, convert testing data to csv form and add to traning dataset\n",
        "    for num in range(10):\n",
        "\n",
        "      # Reset everything\n",
        "      self.data = {}\n",
        "      self.time_obj = {}\n",
        "      self.id_obj = {}\n",
        "      self.graph_times = []\n",
        "      self.time_obj_arr = []\n",
        "\n",
        "      # Open JSON file\n",
        "      number = str(num).zfill(3)\n",
        "      file_name = '/content/Maithili-HOMER_PLUS-006621c/HouseholdA/routines_test/' + number + '.json'\n",
        "      f = open(file_name)\n",
        "\n",
        "      # Returns JSON object as a dictionary\n",
        "      self.data = json.load(f)\n",
        "\n",
        "      # Get times at which all scene graphs in current JSON were captured\n",
        "      self.graph_times = self.data['times']\n",
        "\n",
        "      # Call function to get matching scene graph for each time in time_arr\n",
        "      self.get_dets()\n",
        "\n",
        "      # Call function to convert time_obj dict to list\n",
        "      self.convert_list_rooms()\n",
        "\n",
        "      # Call function to convert time_obj_list to csv\n",
        "      self.convert_csv(str(num+65).zfill(3),'train')\n",
        "\n",
        "  def get_dets(self):\n",
        "    # Iterating through the json to get the names and ids of all of all placable/grabbable objects.\n",
        "\n",
        "    # Iterate through all times in time_arr and get the nearest/corresponding scene graph from the JSON\n",
        "    for a in range(len(self.time_arr)):\n",
        "\n",
        "      # Get index of nearest/corresponding time from JSON\n",
        "      chosen_time = self.time_arr[a]\n",
        "      difference = self.graph_times-self.time_arr[a]\n",
        "      nearest_idx = np.where(difference >= 0, difference, np.inf).argmin()\n",
        "      nearest_time = self.graph_times[nearest_idx]\n",
        "\n",
        "      nodes = self.data['graphs'][nearest_idx]['nodes']\n",
        "      edges = self.data['graphs'][nearest_idx]['edges']\n",
        "\n",
        "      # Iterate through all objects in each node\n",
        "      for j in nodes:\n",
        "\n",
        "        # Add objects and their ids to dictionary for ease of matching\n",
        "        if j['id'] not in self.id_obj:\n",
        "          self.id_obj[j['id']] = j['class_name']\n",
        "\n",
        "        # Add objects,their ids,and current activity being performed at chosen time to another dictionary\n",
        "        if ('Furniture' not in j['category']) and (('MOVABLE' in j['properties']) or ('GRABBABLE' in j['properties'])):\n",
        "          idx = a\n",
        "          # This is done to make sure we always record an activity because the activity list is sometimes shorter than the number of scene graphs\n",
        "          while idx >= len(self.data['activities']):\n",
        "            idx -= 1\n",
        "\n",
        "          if chosen_time in self.time_obj:\n",
        "            self.time_obj[chosen_time][j['id']] = [j['class_name'],self.data['activities'][idx]]\n",
        "          else:\n",
        "            self.time_obj[chosen_time] = {j['id']:[j['class_name'],self.data['activities'][idx]]}\n",
        "\n",
        "      # Iterate through all edges to get current location of objects\n",
        "      for k in edges:\n",
        "        from_ids = list(self.time_obj[chosen_time].keys())\n",
        "        if (chosen_time in self.time_obj) and (k[\"from_id\"] in from_ids) and (k[\"relation_type\"] != \"CLOSE\"):\n",
        "          self.time_obj[chosen_time][k[\"from_id\"]].append(str(k[\"to_id\"]))\n",
        "          self.time_obj[chosen_time][k[\"from_id\"]].append(self.id_obj[k[\"to_id\"]])\n",
        "\n",
        "  def convert_list_rooms(self):\n",
        "    # Create a list with obj names, activity, location and location id, surface and surface id for all times in our time_arr\n",
        "    for time in self.time_obj:\n",
        "      for obj_id in self.time_obj[time]:\n",
        "        activity = self.time_obj[time][obj_id][1]\n",
        "\n",
        "\n",
        "        # e.g., ['toothbrush', 'Wakeup', '1012', 'toothbrush_holder', '18', 'bathroom_counter', '1', 'bathroom']\n",
        "        if (len(self.time_obj[time][obj_id]) > 6):\n",
        "          if self.time_obj[time][obj_id][2] in self.room_ids:\n",
        "            room_id = self.time_obj[time][obj_id][2]\n",
        "            room_name = self.time_obj[time][obj_id][3]\n",
        "          elif self.time_obj[time][obj_id][4] in self.room_ids:\n",
        "            room_id = self.time_obj[time][obj_id][4]\n",
        "            room_name = self.time_obj[time][obj_id][5]\n",
        "          else:\n",
        "            room_id = self.time_obj[time][obj_id][6]\n",
        "            room_name = self.time_obj[time][obj_id][7]\n",
        "\n",
        "        # e.g., ['coffee', 'Wakeup', '117', 'cupboard', '41', 'dining_room']\n",
        "        elif (len(self.time_obj[time][obj_id]) > 4):\n",
        "          if self.time_obj[time][obj_id][2] in self.room_ids:\n",
        "            room_id = self.time_obj[time][obj_id][2]\n",
        "            room_name = self.time_obj[time][obj_id][3]\n",
        "          else:\n",
        "            room_id = self.time_obj[time][obj_id][4]\n",
        "            room_name = self.time_obj[time][obj_id][5]\n",
        "\n",
        "        # e.g., ['trashcan', 'Wakeup', '41', 'dining_room']\n",
        "        else:\n",
        "          room_id = self.time_obj[time][obj_id][2]\n",
        "          room_name = self.time_obj[time][obj_id][3]\n",
        "        self.time_obj_arr.append({'Time':time,'Obj_ID':obj_id,'Obj_name':self.id_obj[obj_id],'Room_ID':room_id,'Room_name':room_name,'Activity':activity})\n",
        "\n",
        "  def convert_list_all(self):\n",
        "    # Create a list with obj names, activity, location and location id, surface and surface id for all times in our time_arr\n",
        "    for time in self.time_obj:\n",
        "      for obj_id in self.time_obj[time]:\n",
        "        activity = self.time_obj[time][obj_id][1]\n",
        "\n",
        "\n",
        "        # e.g., ['toothbrush', 'Wakeup', '1012', 'toothbrush_holder', '18', 'bathroom_counter', '1', 'bathroom']\n",
        "        if (len(self.time_obj[time][obj_id]) > 6):\n",
        "          if self.time_obj[time][obj_id][2] in self.room_ids:\n",
        "            room_id = self.time_obj[time][obj_id][2]\n",
        "            room_name = self.time_obj[time][obj_id][3]\n",
        "            surface_id = self.time_obj[time][obj_id][4]\n",
        "            surface_name = self.time_obj[time][obj_id][5]\n",
        "          elif self.time_obj[time][obj_id][4] in self.room_ids:\n",
        "            surface_id = self.time_obj[time][obj_id][2]\n",
        "            surface_name = self.time_obj[time][obj_id][3]\n",
        "            room_id = self.time_obj[time][obj_id][4]\n",
        "            room_name = self.time_obj[time][obj_id][5]\n",
        "          else:\n",
        "            surface_id = self.time_obj[time][obj_id][4]\n",
        "            surface_name = self.time_obj[time][obj_id][5]\n",
        "            room_id = self.time_obj[time][obj_id][6]\n",
        "            room_name = self.time_obj[time][obj_id][7]\n",
        "\n",
        "        # e.g., ['coffee', 'Wakeup', '117', 'cupboard', '41', 'dining_room']\n",
        "        elif (len(self.time_obj[time][obj_id]) > 4):\n",
        "          if self.time_obj[time][obj_id][2] in self.room_ids:\n",
        "            room_id = self.time_obj[time][obj_id][2]\n",
        "            room_name = self.time_obj[time][obj_id][3]\n",
        "            surface_id = self.time_obj[time][obj_id][4]\n",
        "            surface_name = self.time_obj[time][obj_id][5]\n",
        "          else:\n",
        "            surface_id = self.time_obj[time][obj_id][2]\n",
        "            surface_name = self.time_obj[time][obj_id][3]\n",
        "            room_id = self.time_obj[time][obj_id][4]\n",
        "            room_name = self.time_obj[time][obj_id][5]\n",
        "\n",
        "        # e.g., ['trashcan', 'Wakeup', '41', 'dining_room']\n",
        "        else:\n",
        "          room_id = self.time_obj[time][obj_id][2]\n",
        "          room_name = self.time_obj[time][obj_id][3]\n",
        "          surface_id = float('inf')\n",
        "          surface_name = ''\n",
        "        self.time_obj_arr.append({'Time':time,'Obj_ID':obj_id,'Obj_name':self.id_obj[obj_id],'Room_ID':room_id,'Room_name':room_name,'Surface_ID':surface_id,'Surface_name':surface_name,'Activity':activity})\n",
        "\n",
        "  def convert_csv(self,number,name):\n",
        "\n",
        "    field_names= ['Time', 'Obj_ID', 'Obj_name', 'Room_ID', 'Room_name', 'Surface_ID', 'Surface_name', 'Activity']\n",
        "    name += number + '.csv'\n",
        "    with open(name,'w') as csvfile:\n",
        "      writer = csv.DictWriter(csvfile, fieldnames=field_names)\n",
        "      writer.writeheader()\n",
        "      writer.writerows(self.time_obj_arr)\n"
      ],
      "metadata": {
        "id": "hr5mV_XsoGc8"
      },
      "execution_count": 32,
      "outputs": []
    },
    {
      "cell_type": "code",
      "source": [
        "novelty().get_data()"
      ],
      "metadata": {
        "id": "e3hlkDSDXZch"
      },
      "execution_count": 33,
      "outputs": []
    }
  ]
}