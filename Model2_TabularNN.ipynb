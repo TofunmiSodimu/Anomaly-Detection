{
  "cells": [
    {
      "cell_type": "markdown",
      "metadata": {
        "id": "view-in-github",
        "colab_type": "text"
      },
      "source": [
        "<a href=\"https://colab.research.google.com/github/TofunmiSodimu/Novelty-Detection/blob/main/Model2_TabularNN.ipynb\" target=\"_parent\"><img src=\"https://colab.research.google.com/assets/colab-badge.svg\" alt=\"Open In Colab\"/></a>"
      ]
    },
    {
      "cell_type": "code",
      "execution_count": 1,
      "metadata": {
        "colab": {
          "base_uri": "https://localhost:8080/"
        },
        "id": "yVI5RRIyFMTd",
        "outputId": "944fa31a-bbe4-44e8-d000-acf341de0026"
      },
      "outputs": [
        {
          "output_type": "stream",
          "name": "stdout",
          "text": [
            "--2024-04-25 13:40:34--  https://github.com/TofunmiSodimu/Novelty-Detection/zipball/master.zip\n",
            "Resolving github.com (github.com)... 140.82.112.3\n",
            "Connecting to github.com (github.com)|140.82.112.3|:443... connected.\n",
            "HTTP request sent, awaiting response... 302 Found\n",
            "Location: https://codeload.github.com/TofunmiSodimu/Novelty-Detection/legacy.zip/main [following]\n",
            "--2024-04-25 13:40:35--  https://codeload.github.com/TofunmiSodimu/Novelty-Detection/legacy.zip/main\n",
            "Resolving codeload.github.com (codeload.github.com)... 140.82.114.9\n",
            "Connecting to codeload.github.com (codeload.github.com)|140.82.114.9|:443... connected.\n",
            "HTTP request sent, awaiting response... 200 OK\n",
            "Length: unspecified [application/zip]\n",
            "Saving to: ‘master.zip’\n",
            "\n",
            "master.zip              [          <=>       ]   8.58M  4.27MB/s    in 2.0s    \n",
            "\n",
            "2024-04-25 13:40:37 (4.27 MB/s) - ‘master.zip’ saved [8992527]\n",
            "\n"
          ]
        }
      ],
      "source": [
        "# Download csv training data from github\n",
        "!wget https://github.com/TofunmiSodimu/Novelty-Detection/zipball/master.zip"
      ]
    },
    {
      "cell_type": "code",
      "execution_count": 2,
      "metadata": {
        "id": "npRG0fclFRvk",
        "colab": {
          "base_uri": "https://localhost:8080/"
        },
        "outputId": "4bd147a2-8077-458f-fa11-36cfad245ebb"
      },
      "outputs": [
        {
          "output_type": "stream",
          "name": "stdout",
          "text": [
            "Archive:  /content/master.zip\n",
            "56162c371aa62d2d1a9195da892977d3e0d67e9b\n",
            "   creating: TofunmiSodimu-Novelty-Detection-56162c3/\n",
            "  inflating: TofunmiSodimu-Novelty-Detection-56162c3/CorruptTestingData.ipynb  \n",
            "   creating: TofunmiSodimu-Novelty-Detection-56162c3/Corrupt_Testing_Data_RoomsOnly/\n",
            "   creating: TofunmiSodimu-Novelty-Detection-56162c3/Corrupt_Testing_Data_RoomsOnly/10_percent/\n",
            "  inflating: TofunmiSodimu-Novelty-Detection-56162c3/Corrupt_Testing_Data_RoomsOnly/10_percent/test000_10percent.csv  \n",
            "  inflating: TofunmiSodimu-Novelty-Detection-56162c3/Corrupt_Testing_Data_RoomsOnly/10_percent/test001_10percent.csv  \n",
            "  inflating: TofunmiSodimu-Novelty-Detection-56162c3/Corrupt_Testing_Data_RoomsOnly/10_percent/test002_10percent.csv  \n",
            "  inflating: TofunmiSodimu-Novelty-Detection-56162c3/Corrupt_Testing_Data_RoomsOnly/10_percent/test003_10percent.csv  \n",
            "  inflating: TofunmiSodimu-Novelty-Detection-56162c3/Corrupt_Testing_Data_RoomsOnly/10_percent/test004_10percent.csv  \n",
            "  inflating: TofunmiSodimu-Novelty-Detection-56162c3/Corrupt_Testing_Data_RoomsOnly/10_percent/test005_10percent.csv  \n",
            "  inflating: TofunmiSodimu-Novelty-Detection-56162c3/Corrupt_Testing_Data_RoomsOnly/10_percent/test006_10percent.csv  \n",
            "  inflating: TofunmiSodimu-Novelty-Detection-56162c3/Corrupt_Testing_Data_RoomsOnly/10_percent/test007_10percent.csv  \n",
            "  inflating: TofunmiSodimu-Novelty-Detection-56162c3/Corrupt_Testing_Data_RoomsOnly/10_percent/test008_10percent.csv  \n",
            "  inflating: TofunmiSodimu-Novelty-Detection-56162c3/Corrupt_Testing_Data_RoomsOnly/10_percent/test009_10percent.csv  \n",
            "  inflating: TofunmiSodimu-Novelty-Detection-56162c3/Corrupt_Testing_Data_RoomsOnly/10_percent/test010_10percent.csv  \n",
            "  inflating: TofunmiSodimu-Novelty-Detection-56162c3/Corrupt_Testing_Data_RoomsOnly/10_percent/test011_10percent.csv  \n",
            "  inflating: TofunmiSodimu-Novelty-Detection-56162c3/Corrupt_Testing_Data_RoomsOnly/10_percent/test012_10percent.csv  \n",
            "  inflating: TofunmiSodimu-Novelty-Detection-56162c3/Corrupt_Testing_Data_RoomsOnly/10_percent/test013_10percent.csv  \n",
            "  inflating: TofunmiSodimu-Novelty-Detection-56162c3/Corrupt_Testing_Data_RoomsOnly/10_percent/test014_10percent.csv  \n",
            "  inflating: TofunmiSodimu-Novelty-Detection-56162c3/Corrupt_Testing_Data_RoomsOnly/10_percent/test015_10percent.csv  \n",
            "  inflating: TofunmiSodimu-Novelty-Detection-56162c3/Corrupt_Testing_Data_RoomsOnly/10_percent/test016_10percent.csv  \n",
            "  inflating: TofunmiSodimu-Novelty-Detection-56162c3/Corrupt_Testing_Data_RoomsOnly/10_percent/test017_10percent.csv  \n",
            "  inflating: TofunmiSodimu-Novelty-Detection-56162c3/Corrupt_Testing_Data_RoomsOnly/10_percent/test018_10percent.csv  \n",
            "  inflating: TofunmiSodimu-Novelty-Detection-56162c3/Corrupt_Testing_Data_RoomsOnly/10_percent/test019_10percent.csv  \n",
            "  inflating: TofunmiSodimu-Novelty-Detection-56162c3/Corrupt_Testing_Data_RoomsOnly/10_percent/test020_10percent.csv  \n",
            "  inflating: TofunmiSodimu-Novelty-Detection-56162c3/Corrupt_Testing_Data_RoomsOnly/10_percent/test021_10percent.csv  \n",
            "  inflating: TofunmiSodimu-Novelty-Detection-56162c3/Corrupt_Testing_Data_RoomsOnly/10_percent/test022_10percent.csv  \n",
            "  inflating: TofunmiSodimu-Novelty-Detection-56162c3/Corrupt_Testing_Data_RoomsOnly/10_percent/test023_10percent.csv  \n",
            "   creating: TofunmiSodimu-Novelty-Detection-56162c3/Corrupt_Testing_Data_RoomsOnly/1_percent/\n",
            "  inflating: TofunmiSodimu-Novelty-Detection-56162c3/Corrupt_Testing_Data_RoomsOnly/1_percent/test000_1percent.csv  \n",
            "  inflating: TofunmiSodimu-Novelty-Detection-56162c3/Corrupt_Testing_Data_RoomsOnly/1_percent/test001_1percent.csv  \n",
            "  inflating: TofunmiSodimu-Novelty-Detection-56162c3/Corrupt_Testing_Data_RoomsOnly/1_percent/test002_1percent.csv  \n",
            "  inflating: TofunmiSodimu-Novelty-Detection-56162c3/Corrupt_Testing_Data_RoomsOnly/1_percent/test003_1percent.csv  \n",
            "  inflating: TofunmiSodimu-Novelty-Detection-56162c3/Corrupt_Testing_Data_RoomsOnly/1_percent/test004_1percent.csv  \n",
            "  inflating: TofunmiSodimu-Novelty-Detection-56162c3/Corrupt_Testing_Data_RoomsOnly/1_percent/test005_1percent.csv  \n",
            "  inflating: TofunmiSodimu-Novelty-Detection-56162c3/Corrupt_Testing_Data_RoomsOnly/1_percent/test006_1percent.csv  \n",
            "  inflating: TofunmiSodimu-Novelty-Detection-56162c3/Corrupt_Testing_Data_RoomsOnly/1_percent/test007_1percent.csv  \n",
            "  inflating: TofunmiSodimu-Novelty-Detection-56162c3/Corrupt_Testing_Data_RoomsOnly/1_percent/test008_1percent.csv  \n",
            "  inflating: TofunmiSodimu-Novelty-Detection-56162c3/Corrupt_Testing_Data_RoomsOnly/1_percent/test009_1percent.csv  \n",
            "  inflating: TofunmiSodimu-Novelty-Detection-56162c3/Corrupt_Testing_Data_RoomsOnly/1_percent/test010_1percent.csv  \n",
            "  inflating: TofunmiSodimu-Novelty-Detection-56162c3/Corrupt_Testing_Data_RoomsOnly/1_percent/test011_1percent.csv  \n",
            "  inflating: TofunmiSodimu-Novelty-Detection-56162c3/Corrupt_Testing_Data_RoomsOnly/1_percent/test012_1percent.csv  \n",
            "  inflating: TofunmiSodimu-Novelty-Detection-56162c3/Corrupt_Testing_Data_RoomsOnly/1_percent/test013_1percent.csv  \n",
            "  inflating: TofunmiSodimu-Novelty-Detection-56162c3/Corrupt_Testing_Data_RoomsOnly/1_percent/test014_1percent.csv  \n",
            "  inflating: TofunmiSodimu-Novelty-Detection-56162c3/Corrupt_Testing_Data_RoomsOnly/1_percent/test015_1percent.csv  \n",
            "  inflating: TofunmiSodimu-Novelty-Detection-56162c3/Corrupt_Testing_Data_RoomsOnly/1_percent/test016_1percent.csv  \n",
            "  inflating: TofunmiSodimu-Novelty-Detection-56162c3/Corrupt_Testing_Data_RoomsOnly/1_percent/test017_1percent.csv  \n",
            "  inflating: TofunmiSodimu-Novelty-Detection-56162c3/Corrupt_Testing_Data_RoomsOnly/1_percent/test018_1percent.csv  \n",
            "  inflating: TofunmiSodimu-Novelty-Detection-56162c3/Corrupt_Testing_Data_RoomsOnly/1_percent/test019_1percent.csv  \n",
            "  inflating: TofunmiSodimu-Novelty-Detection-56162c3/Corrupt_Testing_Data_RoomsOnly/1_percent/test020_1percent.csv  \n",
            "  inflating: TofunmiSodimu-Novelty-Detection-56162c3/Corrupt_Testing_Data_RoomsOnly/1_percent/test021_1percent.csv  \n",
            "  inflating: TofunmiSodimu-Novelty-Detection-56162c3/Corrupt_Testing_Data_RoomsOnly/1_percent/test022_1percent.csv  \n",
            "  inflating: TofunmiSodimu-Novelty-Detection-56162c3/Corrupt_Testing_Data_RoomsOnly/1_percent/test023_1percent.csv  \n",
            "   creating: TofunmiSodimu-Novelty-Detection-56162c3/Corrupt_Testing_Data_RoomsOnly/20_percent/\n",
            "  inflating: TofunmiSodimu-Novelty-Detection-56162c3/Corrupt_Testing_Data_RoomsOnly/20_percent/test000_20percent.csv  \n",
            "  inflating: TofunmiSodimu-Novelty-Detection-56162c3/Corrupt_Testing_Data_RoomsOnly/20_percent/test001_20percent.csv  \n",
            "  inflating: TofunmiSodimu-Novelty-Detection-56162c3/Corrupt_Testing_Data_RoomsOnly/20_percent/test002_20percent.csv  \n",
            "  inflating: TofunmiSodimu-Novelty-Detection-56162c3/Corrupt_Testing_Data_RoomsOnly/20_percent/test003_20percent.csv  \n",
            "  inflating: TofunmiSodimu-Novelty-Detection-56162c3/Corrupt_Testing_Data_RoomsOnly/20_percent/test004_20percent.csv  \n",
            "  inflating: TofunmiSodimu-Novelty-Detection-56162c3/Corrupt_Testing_Data_RoomsOnly/20_percent/test005_20percent.csv  \n",
            "  inflating: TofunmiSodimu-Novelty-Detection-56162c3/Corrupt_Testing_Data_RoomsOnly/20_percent/test006_20percent.csv  \n",
            "  inflating: TofunmiSodimu-Novelty-Detection-56162c3/Corrupt_Testing_Data_RoomsOnly/20_percent/test007_20percent.csv  \n",
            "  inflating: TofunmiSodimu-Novelty-Detection-56162c3/Corrupt_Testing_Data_RoomsOnly/20_percent/test008_20percent.csv  \n",
            "  inflating: TofunmiSodimu-Novelty-Detection-56162c3/Corrupt_Testing_Data_RoomsOnly/20_percent/test009_20percent.csv  \n",
            "  inflating: TofunmiSodimu-Novelty-Detection-56162c3/Corrupt_Testing_Data_RoomsOnly/20_percent/test010_20percent.csv  \n",
            "  inflating: TofunmiSodimu-Novelty-Detection-56162c3/Corrupt_Testing_Data_RoomsOnly/20_percent/test011_20percent.csv  \n",
            "  inflating: TofunmiSodimu-Novelty-Detection-56162c3/Corrupt_Testing_Data_RoomsOnly/20_percent/test012_20percent.csv  \n",
            "  inflating: TofunmiSodimu-Novelty-Detection-56162c3/Corrupt_Testing_Data_RoomsOnly/20_percent/test013_20percent.csv  \n",
            "  inflating: TofunmiSodimu-Novelty-Detection-56162c3/Corrupt_Testing_Data_RoomsOnly/20_percent/test014_20percent.csv  \n",
            "  inflating: TofunmiSodimu-Novelty-Detection-56162c3/Corrupt_Testing_Data_RoomsOnly/20_percent/test015_20percent.csv  \n",
            "  inflating: TofunmiSodimu-Novelty-Detection-56162c3/Corrupt_Testing_Data_RoomsOnly/20_percent/test016_20percent.csv  \n",
            "  inflating: TofunmiSodimu-Novelty-Detection-56162c3/Corrupt_Testing_Data_RoomsOnly/20_percent/test017_20percent.csv  \n",
            "  inflating: TofunmiSodimu-Novelty-Detection-56162c3/Corrupt_Testing_Data_RoomsOnly/20_percent/test018_20percent.csv  \n",
            "  inflating: TofunmiSodimu-Novelty-Detection-56162c3/Corrupt_Testing_Data_RoomsOnly/20_percent/test019_20percent.csv  \n",
            "  inflating: TofunmiSodimu-Novelty-Detection-56162c3/Corrupt_Testing_Data_RoomsOnly/20_percent/test020_20percent.csv  \n",
            "  inflating: TofunmiSodimu-Novelty-Detection-56162c3/Corrupt_Testing_Data_RoomsOnly/20_percent/test021_20percent.csv  \n",
            "  inflating: TofunmiSodimu-Novelty-Detection-56162c3/Corrupt_Testing_Data_RoomsOnly/20_percent/test022_20percent.csv  \n",
            "  inflating: TofunmiSodimu-Novelty-Detection-56162c3/Corrupt_Testing_Data_RoomsOnly/20_percent/test023_20percent.csv  \n",
            "   creating: TofunmiSodimu-Novelty-Detection-56162c3/Corrupt_Testing_Data_RoomsOnly/5_percent/\n",
            "  inflating: TofunmiSodimu-Novelty-Detection-56162c3/Corrupt_Testing_Data_RoomsOnly/5_percent/test000_5percent.csv  \n",
            "  inflating: TofunmiSodimu-Novelty-Detection-56162c3/Corrupt_Testing_Data_RoomsOnly/5_percent/test001_5percent.csv  \n",
            "  inflating: TofunmiSodimu-Novelty-Detection-56162c3/Corrupt_Testing_Data_RoomsOnly/5_percent/test002_5percent.csv  \n",
            "  inflating: TofunmiSodimu-Novelty-Detection-56162c3/Corrupt_Testing_Data_RoomsOnly/5_percent/test003_5percent.csv  \n",
            "  inflating: TofunmiSodimu-Novelty-Detection-56162c3/Corrupt_Testing_Data_RoomsOnly/5_percent/test004_5percent.csv  \n",
            "  inflating: TofunmiSodimu-Novelty-Detection-56162c3/Corrupt_Testing_Data_RoomsOnly/5_percent/test005_5percent.csv  \n",
            "  inflating: TofunmiSodimu-Novelty-Detection-56162c3/Corrupt_Testing_Data_RoomsOnly/5_percent/test006_5percent.csv  \n",
            "  inflating: TofunmiSodimu-Novelty-Detection-56162c3/Corrupt_Testing_Data_RoomsOnly/5_percent/test007_5percent.csv  \n",
            "  inflating: TofunmiSodimu-Novelty-Detection-56162c3/Corrupt_Testing_Data_RoomsOnly/5_percent/test008_5percent.csv  \n",
            "  inflating: TofunmiSodimu-Novelty-Detection-56162c3/Corrupt_Testing_Data_RoomsOnly/5_percent/test009_5percent.csv  \n",
            "  inflating: TofunmiSodimu-Novelty-Detection-56162c3/Corrupt_Testing_Data_RoomsOnly/5_percent/test010_5percent.csv  \n",
            "  inflating: TofunmiSodimu-Novelty-Detection-56162c3/Corrupt_Testing_Data_RoomsOnly/5_percent/test011_5percent.csv  \n",
            "  inflating: TofunmiSodimu-Novelty-Detection-56162c3/Corrupt_Testing_Data_RoomsOnly/5_percent/test012_5percent.csv  \n",
            "  inflating: TofunmiSodimu-Novelty-Detection-56162c3/Corrupt_Testing_Data_RoomsOnly/5_percent/test013_5percent.csv  \n",
            "  inflating: TofunmiSodimu-Novelty-Detection-56162c3/Corrupt_Testing_Data_RoomsOnly/5_percent/test014_5percent.csv  \n",
            "  inflating: TofunmiSodimu-Novelty-Detection-56162c3/Corrupt_Testing_Data_RoomsOnly/5_percent/test015_5percent.csv  \n",
            "  inflating: TofunmiSodimu-Novelty-Detection-56162c3/Corrupt_Testing_Data_RoomsOnly/5_percent/test016_5percent.csv  \n",
            "  inflating: TofunmiSodimu-Novelty-Detection-56162c3/Corrupt_Testing_Data_RoomsOnly/5_percent/test017_5percent.csv  \n",
            "  inflating: TofunmiSodimu-Novelty-Detection-56162c3/Corrupt_Testing_Data_RoomsOnly/5_percent/test018_5percent.csv  \n",
            "  inflating: TofunmiSodimu-Novelty-Detection-56162c3/Corrupt_Testing_Data_RoomsOnly/5_percent/test019_5percent.csv  \n",
            "  inflating: TofunmiSodimu-Novelty-Detection-56162c3/Corrupt_Testing_Data_RoomsOnly/5_percent/test020_5percent.csv  \n",
            "  inflating: TofunmiSodimu-Novelty-Detection-56162c3/Corrupt_Testing_Data_RoomsOnly/5_percent/test021_5percent.csv  \n",
            "  inflating: TofunmiSodimu-Novelty-Detection-56162c3/Corrupt_Testing_Data_RoomsOnly/5_percent/test022_5percent.csv  \n",
            "  inflating: TofunmiSodimu-Novelty-Detection-56162c3/Corrupt_Testing_Data_RoomsOnly/5_percent/test023_5percent.csv  \n",
            "   creating: TofunmiSodimu-Novelty-Detection-56162c3/Corrupting_Details/\n",
            "   creating: TofunmiSodimu-Novelty-Detection-56162c3/Corrupting_Details/10_percent/\n",
            "  inflating: TofunmiSodimu-Novelty-Detection-56162c3/Corrupting_Details/10_percent/corrupt_dets000_10percent.csv  \n",
            "  inflating: TofunmiSodimu-Novelty-Detection-56162c3/Corrupting_Details/10_percent/corrupt_dets001_10percent.csv  \n",
            "  inflating: TofunmiSodimu-Novelty-Detection-56162c3/Corrupting_Details/10_percent/corrupt_dets002_10percent.csv  \n",
            "  inflating: TofunmiSodimu-Novelty-Detection-56162c3/Corrupting_Details/10_percent/corrupt_dets003_10percent.csv  \n",
            "  inflating: TofunmiSodimu-Novelty-Detection-56162c3/Corrupting_Details/10_percent/corrupt_dets004_10percent.csv  \n",
            "  inflating: TofunmiSodimu-Novelty-Detection-56162c3/Corrupting_Details/10_percent/corrupt_dets005_10percent.csv  \n",
            "  inflating: TofunmiSodimu-Novelty-Detection-56162c3/Corrupting_Details/10_percent/corrupt_dets006_10percent.csv  \n",
            "  inflating: TofunmiSodimu-Novelty-Detection-56162c3/Corrupting_Details/10_percent/corrupt_dets007_10percent.csv  \n",
            "  inflating: TofunmiSodimu-Novelty-Detection-56162c3/Corrupting_Details/10_percent/corrupt_dets008_10percent.csv  \n",
            "  inflating: TofunmiSodimu-Novelty-Detection-56162c3/Corrupting_Details/10_percent/corrupt_dets009_10percent.csv  \n",
            "  inflating: TofunmiSodimu-Novelty-Detection-56162c3/Corrupting_Details/10_percent/corrupt_dets010_10percent.csv  \n",
            "  inflating: TofunmiSodimu-Novelty-Detection-56162c3/Corrupting_Details/10_percent/corrupt_dets011_10percent.csv  \n",
            "  inflating: TofunmiSodimu-Novelty-Detection-56162c3/Corrupting_Details/10_percent/corrupt_dets012_10percent.csv  \n",
            "  inflating: TofunmiSodimu-Novelty-Detection-56162c3/Corrupting_Details/10_percent/corrupt_dets013_10percent.csv  \n",
            "  inflating: TofunmiSodimu-Novelty-Detection-56162c3/Corrupting_Details/10_percent/corrupt_dets014_10percent.csv  \n",
            "  inflating: TofunmiSodimu-Novelty-Detection-56162c3/Corrupting_Details/10_percent/corrupt_dets015_10percent.csv  \n",
            "  inflating: TofunmiSodimu-Novelty-Detection-56162c3/Corrupting_Details/10_percent/corrupt_dets016_10percent.csv  \n",
            "  inflating: TofunmiSodimu-Novelty-Detection-56162c3/Corrupting_Details/10_percent/corrupt_dets017_10percent.csv  \n",
            "  inflating: TofunmiSodimu-Novelty-Detection-56162c3/Corrupting_Details/10_percent/corrupt_dets018_10percent.csv  \n",
            "  inflating: TofunmiSodimu-Novelty-Detection-56162c3/Corrupting_Details/10_percent/corrupt_dets019_10percent.csv  \n",
            "  inflating: TofunmiSodimu-Novelty-Detection-56162c3/Corrupting_Details/10_percent/corrupt_dets020_10percent.csv  \n",
            "  inflating: TofunmiSodimu-Novelty-Detection-56162c3/Corrupting_Details/10_percent/corrupt_dets021_10percent.csv  \n",
            "  inflating: TofunmiSodimu-Novelty-Detection-56162c3/Corrupting_Details/10_percent/corrupt_dets022_10percent.csv  \n",
            "  inflating: TofunmiSodimu-Novelty-Detection-56162c3/Corrupting_Details/10_percent/corrupt_dets023_10percent.csv  \n",
            "   creating: TofunmiSodimu-Novelty-Detection-56162c3/Corrupting_Details/1_percent/\n",
            "  inflating: TofunmiSodimu-Novelty-Detection-56162c3/Corrupting_Details/1_percent/corrupt_dets000_1percent.csv  \n",
            "  inflating: TofunmiSodimu-Novelty-Detection-56162c3/Corrupting_Details/1_percent/corrupt_dets001_1percent.csv  \n",
            "  inflating: TofunmiSodimu-Novelty-Detection-56162c3/Corrupting_Details/1_percent/corrupt_dets002_1percent.csv  \n",
            "  inflating: TofunmiSodimu-Novelty-Detection-56162c3/Corrupting_Details/1_percent/corrupt_dets003_1percent.csv  \n",
            "  inflating: TofunmiSodimu-Novelty-Detection-56162c3/Corrupting_Details/1_percent/corrupt_dets004_1percent.csv  \n",
            "  inflating: TofunmiSodimu-Novelty-Detection-56162c3/Corrupting_Details/1_percent/corrupt_dets005_1percent.csv  \n",
            "  inflating: TofunmiSodimu-Novelty-Detection-56162c3/Corrupting_Details/1_percent/corrupt_dets006_1percent.csv  \n",
            "  inflating: TofunmiSodimu-Novelty-Detection-56162c3/Corrupting_Details/1_percent/corrupt_dets007_1percent.csv  \n",
            "  inflating: TofunmiSodimu-Novelty-Detection-56162c3/Corrupting_Details/1_percent/corrupt_dets008_1percent.csv  \n",
            "  inflating: TofunmiSodimu-Novelty-Detection-56162c3/Corrupting_Details/1_percent/corrupt_dets009_1percent.csv  \n",
            "  inflating: TofunmiSodimu-Novelty-Detection-56162c3/Corrupting_Details/1_percent/corrupt_dets010_1percent.csv  \n",
            "  inflating: TofunmiSodimu-Novelty-Detection-56162c3/Corrupting_Details/1_percent/corrupt_dets011_1percent.csv  \n",
            "  inflating: TofunmiSodimu-Novelty-Detection-56162c3/Corrupting_Details/1_percent/corrupt_dets012_1percent.csv  \n",
            "  inflating: TofunmiSodimu-Novelty-Detection-56162c3/Corrupting_Details/1_percent/corrupt_dets013_1percent.csv  \n",
            "  inflating: TofunmiSodimu-Novelty-Detection-56162c3/Corrupting_Details/1_percent/corrupt_dets014_1percent.csv  \n",
            "  inflating: TofunmiSodimu-Novelty-Detection-56162c3/Corrupting_Details/1_percent/corrupt_dets015_1percent.csv  \n",
            "  inflating: TofunmiSodimu-Novelty-Detection-56162c3/Corrupting_Details/1_percent/corrupt_dets016_1percent.csv  \n",
            "  inflating: TofunmiSodimu-Novelty-Detection-56162c3/Corrupting_Details/1_percent/corrupt_dets017_1percent.csv  \n",
            "  inflating: TofunmiSodimu-Novelty-Detection-56162c3/Corrupting_Details/1_percent/corrupt_dets018_1percent.csv  \n",
            "  inflating: TofunmiSodimu-Novelty-Detection-56162c3/Corrupting_Details/1_percent/corrupt_dets019_1percent.csv  \n",
            "  inflating: TofunmiSodimu-Novelty-Detection-56162c3/Corrupting_Details/1_percent/corrupt_dets020_1percent.csv  \n",
            "  inflating: TofunmiSodimu-Novelty-Detection-56162c3/Corrupting_Details/1_percent/corrupt_dets021_1percent.csv  \n",
            "  inflating: TofunmiSodimu-Novelty-Detection-56162c3/Corrupting_Details/1_percent/corrupt_dets022_1percent.csv  \n",
            "  inflating: TofunmiSodimu-Novelty-Detection-56162c3/Corrupting_Details/1_percent/corrupt_dets023_1percent.csv  \n",
            "   creating: TofunmiSodimu-Novelty-Detection-56162c3/Corrupting_Details/20_percent/\n",
            "  inflating: TofunmiSodimu-Novelty-Detection-56162c3/Corrupting_Details/20_percent/corrupt_dets000_20percent.csv  \n",
            "  inflating: TofunmiSodimu-Novelty-Detection-56162c3/Corrupting_Details/20_percent/corrupt_dets001_20percent.csv  \n",
            "  inflating: TofunmiSodimu-Novelty-Detection-56162c3/Corrupting_Details/20_percent/corrupt_dets002_20percent.csv  \n",
            "  inflating: TofunmiSodimu-Novelty-Detection-56162c3/Corrupting_Details/20_percent/corrupt_dets003_20percent.csv  \n",
            "  inflating: TofunmiSodimu-Novelty-Detection-56162c3/Corrupting_Details/20_percent/corrupt_dets004_20percent.csv  \n",
            "  inflating: TofunmiSodimu-Novelty-Detection-56162c3/Corrupting_Details/20_percent/corrupt_dets005_20percent.csv  \n",
            "  inflating: TofunmiSodimu-Novelty-Detection-56162c3/Corrupting_Details/20_percent/corrupt_dets006_20percent.csv  \n",
            "  inflating: TofunmiSodimu-Novelty-Detection-56162c3/Corrupting_Details/20_percent/corrupt_dets007_20percent.csv  \n",
            "  inflating: TofunmiSodimu-Novelty-Detection-56162c3/Corrupting_Details/20_percent/corrupt_dets008_20percent.csv  \n",
            "  inflating: TofunmiSodimu-Novelty-Detection-56162c3/Corrupting_Details/20_percent/corrupt_dets009_20percent.csv  \n",
            "  inflating: TofunmiSodimu-Novelty-Detection-56162c3/Corrupting_Details/20_percent/corrupt_dets010_20percent.csv  \n",
            "  inflating: TofunmiSodimu-Novelty-Detection-56162c3/Corrupting_Details/20_percent/corrupt_dets011_20percent.csv  \n",
            "  inflating: TofunmiSodimu-Novelty-Detection-56162c3/Corrupting_Details/20_percent/corrupt_dets012_20percent.csv  \n",
            "  inflating: TofunmiSodimu-Novelty-Detection-56162c3/Corrupting_Details/20_percent/corrupt_dets013_20percent.csv  \n",
            "  inflating: TofunmiSodimu-Novelty-Detection-56162c3/Corrupting_Details/20_percent/corrupt_dets014_20percent.csv  \n",
            "  inflating: TofunmiSodimu-Novelty-Detection-56162c3/Corrupting_Details/20_percent/corrupt_dets015_20percent.csv  \n",
            "  inflating: TofunmiSodimu-Novelty-Detection-56162c3/Corrupting_Details/20_percent/corrupt_dets016_20percent.csv  \n",
            "  inflating: TofunmiSodimu-Novelty-Detection-56162c3/Corrupting_Details/20_percent/corrupt_dets017_20percent.csv  \n",
            "  inflating: TofunmiSodimu-Novelty-Detection-56162c3/Corrupting_Details/20_percent/corrupt_dets018_20percent.csv  \n",
            "  inflating: TofunmiSodimu-Novelty-Detection-56162c3/Corrupting_Details/20_percent/corrupt_dets019_20percent.csv  \n",
            "  inflating: TofunmiSodimu-Novelty-Detection-56162c3/Corrupting_Details/20_percent/corrupt_dets020_20percent.csv  \n",
            "  inflating: TofunmiSodimu-Novelty-Detection-56162c3/Corrupting_Details/20_percent/corrupt_dets021_20percent.csv  \n",
            "  inflating: TofunmiSodimu-Novelty-Detection-56162c3/Corrupting_Details/20_percent/corrupt_dets022_20percent.csv  \n",
            "  inflating: TofunmiSodimu-Novelty-Detection-56162c3/Corrupting_Details/20_percent/corrupt_dets023_20percent.csv  \n",
            "   creating: TofunmiSodimu-Novelty-Detection-56162c3/Corrupting_Details/5_percent/\n",
            "  inflating: TofunmiSodimu-Novelty-Detection-56162c3/Corrupting_Details/5_percent/corrupt_dets000_5percent.csv  \n",
            "  inflating: TofunmiSodimu-Novelty-Detection-56162c3/Corrupting_Details/5_percent/corrupt_dets001_5percent.csv  \n",
            "  inflating: TofunmiSodimu-Novelty-Detection-56162c3/Corrupting_Details/5_percent/corrupt_dets002_5percent.csv  \n",
            "  inflating: TofunmiSodimu-Novelty-Detection-56162c3/Corrupting_Details/5_percent/corrupt_dets003_5percent.csv  \n",
            "  inflating: TofunmiSodimu-Novelty-Detection-56162c3/Corrupting_Details/5_percent/corrupt_dets004_5percent.csv  \n",
            "  inflating: TofunmiSodimu-Novelty-Detection-56162c3/Corrupting_Details/5_percent/corrupt_dets005_5percent.csv  \n",
            "  inflating: TofunmiSodimu-Novelty-Detection-56162c3/Corrupting_Details/5_percent/corrupt_dets006_5percent.csv  \n",
            "  inflating: TofunmiSodimu-Novelty-Detection-56162c3/Corrupting_Details/5_percent/corrupt_dets007_5percent.csv  \n",
            "  inflating: TofunmiSodimu-Novelty-Detection-56162c3/Corrupting_Details/5_percent/corrupt_dets008_5percent.csv  \n",
            "  inflating: TofunmiSodimu-Novelty-Detection-56162c3/Corrupting_Details/5_percent/corrupt_dets009_5percent.csv  \n",
            "  inflating: TofunmiSodimu-Novelty-Detection-56162c3/Corrupting_Details/5_percent/corrupt_dets010_5percent.csv  \n",
            "  inflating: TofunmiSodimu-Novelty-Detection-56162c3/Corrupting_Details/5_percent/corrupt_dets011_5percent.csv  \n",
            "  inflating: TofunmiSodimu-Novelty-Detection-56162c3/Corrupting_Details/5_percent/corrupt_dets012_5percent.csv  \n",
            "  inflating: TofunmiSodimu-Novelty-Detection-56162c3/Corrupting_Details/5_percent/corrupt_dets013_5percent.csv  \n",
            "  inflating: TofunmiSodimu-Novelty-Detection-56162c3/Corrupting_Details/5_percent/corrupt_dets014_5percent.csv  \n",
            "  inflating: TofunmiSodimu-Novelty-Detection-56162c3/Corrupting_Details/5_percent/corrupt_dets015_5percent.csv  \n",
            "  inflating: TofunmiSodimu-Novelty-Detection-56162c3/Corrupting_Details/5_percent/corrupt_dets016_5percent.csv  \n",
            "  inflating: TofunmiSodimu-Novelty-Detection-56162c3/Corrupting_Details/5_percent/corrupt_dets017_5percent.csv  \n",
            "  inflating: TofunmiSodimu-Novelty-Detection-56162c3/Corrupting_Details/5_percent/corrupt_dets018_5percent.csv  \n",
            "  inflating: TofunmiSodimu-Novelty-Detection-56162c3/Corrupting_Details/5_percent/corrupt_dets019_5percent.csv  \n",
            "  inflating: TofunmiSodimu-Novelty-Detection-56162c3/Corrupting_Details/5_percent/corrupt_dets020_5percent.csv  \n",
            "  inflating: TofunmiSodimu-Novelty-Detection-56162c3/Corrupting_Details/5_percent/corrupt_dets021_5percent.csv  \n",
            "  inflating: TofunmiSodimu-Novelty-Detection-56162c3/Corrupting_Details/5_percent/corrupt_dets022_5percent.csv  \n",
            "  inflating: TofunmiSodimu-Novelty-Detection-56162c3/Corrupting_Details/5_percent/corrupt_dets023_5percent.csv  \n",
            "  inflating: TofunmiSodimu-Novelty-Detection-56162c3/CreateTrainingandTestingData.ipynb  \n",
            "  inflating: TofunmiSodimu-Novelty-Detection-56162c3/DataForNoveltyDetection.ipynb  \n",
            "  inflating: TofunmiSodimu-Novelty-Detection-56162c3/DataVisualization.ipynb  \n",
            "  inflating: TofunmiSodimu-Novelty-Detection-56162c3/Model1_Local_Outlier_Factor.ipynb  \n",
            "  inflating: TofunmiSodimu-Novelty-Detection-56162c3/README.md  \n",
            "   creating: TofunmiSodimu-Novelty-Detection-56162c3/Training_Data_RoomsOnly/\n",
            "  inflating: TofunmiSodimu-Novelty-Detection-56162c3/Training_Data_RoomsOnly/train000.csv  \n",
            "  inflating: TofunmiSodimu-Novelty-Detection-56162c3/Training_Data_RoomsOnly/train001.csv  \n",
            "  inflating: TofunmiSodimu-Novelty-Detection-56162c3/Training_Data_RoomsOnly/train002.csv  \n",
            "  inflating: TofunmiSodimu-Novelty-Detection-56162c3/Training_Data_RoomsOnly/train003.csv  \n",
            "  inflating: TofunmiSodimu-Novelty-Detection-56162c3/Training_Data_RoomsOnly/train004.csv  \n",
            "  inflating: TofunmiSodimu-Novelty-Detection-56162c3/Training_Data_RoomsOnly/train005.csv  \n",
            "  inflating: TofunmiSodimu-Novelty-Detection-56162c3/Training_Data_RoomsOnly/train006.csv  \n",
            "  inflating: TofunmiSodimu-Novelty-Detection-56162c3/Training_Data_RoomsOnly/train007.csv  \n",
            "  inflating: TofunmiSodimu-Novelty-Detection-56162c3/Training_Data_RoomsOnly/train008.csv  \n",
            "  inflating: TofunmiSodimu-Novelty-Detection-56162c3/Training_Data_RoomsOnly/train009.csv  \n",
            "  inflating: TofunmiSodimu-Novelty-Detection-56162c3/Training_Data_RoomsOnly/train010.csv  \n",
            "  inflating: TofunmiSodimu-Novelty-Detection-56162c3/Training_Data_RoomsOnly/train011.csv  \n",
            "  inflating: TofunmiSodimu-Novelty-Detection-56162c3/Training_Data_RoomsOnly/train012.csv  \n",
            "  inflating: TofunmiSodimu-Novelty-Detection-56162c3/Training_Data_RoomsOnly/train013.csv  \n",
            "  inflating: TofunmiSodimu-Novelty-Detection-56162c3/Training_Data_RoomsOnly/train014.csv  \n",
            "  inflating: TofunmiSodimu-Novelty-Detection-56162c3/Training_Data_RoomsOnly/train015.csv  \n",
            "  inflating: TofunmiSodimu-Novelty-Detection-56162c3/Training_Data_RoomsOnly/train016.csv  \n",
            "  inflating: TofunmiSodimu-Novelty-Detection-56162c3/Training_Data_RoomsOnly/train017.csv  \n",
            "  inflating: TofunmiSodimu-Novelty-Detection-56162c3/Training_Data_RoomsOnly/train018.csv  \n",
            "  inflating: TofunmiSodimu-Novelty-Detection-56162c3/Training_Data_RoomsOnly/train019.csv  \n",
            "  inflating: TofunmiSodimu-Novelty-Detection-56162c3/Training_Data_RoomsOnly/train020.csv  \n",
            "  inflating: TofunmiSodimu-Novelty-Detection-56162c3/Training_Data_RoomsOnly/train021.csv  \n",
            "  inflating: TofunmiSodimu-Novelty-Detection-56162c3/Training_Data_RoomsOnly/train022.csv  \n",
            "  inflating: TofunmiSodimu-Novelty-Detection-56162c3/Training_Data_RoomsOnly/train023.csv  \n",
            "  inflating: TofunmiSodimu-Novelty-Detection-56162c3/Training_Data_RoomsOnly/train024.csv  \n",
            "  inflating: TofunmiSodimu-Novelty-Detection-56162c3/Training_Data_RoomsOnly/train025.csv  \n",
            "  inflating: TofunmiSodimu-Novelty-Detection-56162c3/Training_Data_RoomsOnly/train026.csv  \n",
            "  inflating: TofunmiSodimu-Novelty-Detection-56162c3/Training_Data_RoomsOnly/train027.csv  \n",
            "  inflating: TofunmiSodimu-Novelty-Detection-56162c3/Training_Data_RoomsOnly/train028.csv  \n",
            "  inflating: TofunmiSodimu-Novelty-Detection-56162c3/Training_Data_RoomsOnly/train029.csv  \n",
            "  inflating: TofunmiSodimu-Novelty-Detection-56162c3/Training_Data_RoomsOnly/train030.csv  \n",
            "  inflating: TofunmiSodimu-Novelty-Detection-56162c3/Training_Data_RoomsOnly/train031.csv  \n",
            "  inflating: TofunmiSodimu-Novelty-Detection-56162c3/Training_Data_RoomsOnly/train032.csv  \n",
            "  inflating: TofunmiSodimu-Novelty-Detection-56162c3/Training_Data_RoomsOnly/train033.csv  \n",
            "  inflating: TofunmiSodimu-Novelty-Detection-56162c3/Training_Data_RoomsOnly/train034.csv  \n",
            "  inflating: TofunmiSodimu-Novelty-Detection-56162c3/Training_Data_RoomsOnly/train035.csv  \n",
            "  inflating: TofunmiSodimu-Novelty-Detection-56162c3/Training_Data_RoomsOnly/train036.csv  \n",
            "  inflating: TofunmiSodimu-Novelty-Detection-56162c3/Training_Data_RoomsOnly/train037.csv  \n",
            "  inflating: TofunmiSodimu-Novelty-Detection-56162c3/Training_Data_RoomsOnly/train038.csv  \n",
            "  inflating: TofunmiSodimu-Novelty-Detection-56162c3/Training_Data_RoomsOnly/train039.csv  \n",
            "  inflating: TofunmiSodimu-Novelty-Detection-56162c3/Training_Data_RoomsOnly/train040.csv  \n",
            "  inflating: TofunmiSodimu-Novelty-Detection-56162c3/Training_Data_RoomsOnly/train041.csv  \n",
            "  inflating: TofunmiSodimu-Novelty-Detection-56162c3/Training_Data_RoomsOnly/train042.csv  \n",
            "  inflating: TofunmiSodimu-Novelty-Detection-56162c3/Training_Data_RoomsOnly/train043.csv  \n",
            "  inflating: TofunmiSodimu-Novelty-Detection-56162c3/Training_Data_RoomsOnly/train044.csv  \n",
            "  inflating: TofunmiSodimu-Novelty-Detection-56162c3/Training_Data_RoomsOnly/train045.csv  \n",
            "  inflating: TofunmiSodimu-Novelty-Detection-56162c3/Training_Data_RoomsOnly/train046.csv  \n",
            "  inflating: TofunmiSodimu-Novelty-Detection-56162c3/Training_Data_RoomsOnly/train047.csv  \n",
            "  inflating: TofunmiSodimu-Novelty-Detection-56162c3/Training_Data_RoomsOnly/train048.csv  \n",
            "  inflating: TofunmiSodimu-Novelty-Detection-56162c3/Training_Data_RoomsOnly/train049.csv  \n",
            "  inflating: TofunmiSodimu-Novelty-Detection-56162c3/Training_Data_RoomsOnly/train050.csv  \n",
            "   creating: TofunmiSodimu-Novelty-Detection-56162c3/Uncorrupt_Testing_Data_RoomsOnly/\n",
            "  inflating: TofunmiSodimu-Novelty-Detection-56162c3/Uncorrupt_Testing_Data_RoomsOnly/test000.csv  \n",
            "  inflating: TofunmiSodimu-Novelty-Detection-56162c3/Uncorrupt_Testing_Data_RoomsOnly/test001.csv  \n",
            "  inflating: TofunmiSodimu-Novelty-Detection-56162c3/Uncorrupt_Testing_Data_RoomsOnly/test002.csv  \n",
            "  inflating: TofunmiSodimu-Novelty-Detection-56162c3/Uncorrupt_Testing_Data_RoomsOnly/test003.csv  \n",
            "  inflating: TofunmiSodimu-Novelty-Detection-56162c3/Uncorrupt_Testing_Data_RoomsOnly/test004.csv  \n",
            "  inflating: TofunmiSodimu-Novelty-Detection-56162c3/Uncorrupt_Testing_Data_RoomsOnly/test005.csv  \n",
            "  inflating: TofunmiSodimu-Novelty-Detection-56162c3/Uncorrupt_Testing_Data_RoomsOnly/test006.csv  \n",
            "  inflating: TofunmiSodimu-Novelty-Detection-56162c3/Uncorrupt_Testing_Data_RoomsOnly/test007.csv  \n",
            "  inflating: TofunmiSodimu-Novelty-Detection-56162c3/Uncorrupt_Testing_Data_RoomsOnly/test008.csv  \n",
            "  inflating: TofunmiSodimu-Novelty-Detection-56162c3/Uncorrupt_Testing_Data_RoomsOnly/test009.csv  \n",
            "  inflating: TofunmiSodimu-Novelty-Detection-56162c3/Uncorrupt_Testing_Data_RoomsOnly/test010.csv  \n",
            "  inflating: TofunmiSodimu-Novelty-Detection-56162c3/Uncorrupt_Testing_Data_RoomsOnly/test011.csv  \n",
            "  inflating: TofunmiSodimu-Novelty-Detection-56162c3/Uncorrupt_Testing_Data_RoomsOnly/test012.csv  \n",
            "  inflating: TofunmiSodimu-Novelty-Detection-56162c3/Uncorrupt_Testing_Data_RoomsOnly/test013.csv  \n",
            "  inflating: TofunmiSodimu-Novelty-Detection-56162c3/Uncorrupt_Testing_Data_RoomsOnly/test014.csv  \n",
            "  inflating: TofunmiSodimu-Novelty-Detection-56162c3/Uncorrupt_Testing_Data_RoomsOnly/test015.csv  \n",
            "  inflating: TofunmiSodimu-Novelty-Detection-56162c3/Uncorrupt_Testing_Data_RoomsOnly/test016.csv  \n",
            "  inflating: TofunmiSodimu-Novelty-Detection-56162c3/Uncorrupt_Testing_Data_RoomsOnly/test017.csv  \n",
            "  inflating: TofunmiSodimu-Novelty-Detection-56162c3/Uncorrupt_Testing_Data_RoomsOnly/test018.csv  \n",
            "  inflating: TofunmiSodimu-Novelty-Detection-56162c3/Uncorrupt_Testing_Data_RoomsOnly/test019.csv  \n",
            "  inflating: TofunmiSodimu-Novelty-Detection-56162c3/Uncorrupt_Testing_Data_RoomsOnly/test020.csv  \n",
            "  inflating: TofunmiSodimu-Novelty-Detection-56162c3/Uncorrupt_Testing_Data_RoomsOnly/test021.csv  \n",
            "  inflating: TofunmiSodimu-Novelty-Detection-56162c3/Uncorrupt_Testing_Data_RoomsOnly/test022.csv  \n",
            "  inflating: TofunmiSodimu-Novelty-Detection-56162c3/Uncorrupt_Testing_Data_RoomsOnly/test023.csv  \n"
          ]
        }
      ],
      "source": [
        "# Unzip folder\n",
        "!unzip /content/master.zip"
      ]
    },
    {
      "cell_type": "code",
      "execution_count": 3,
      "metadata": {
        "id": "oCfW5euIAs6p"
      },
      "outputs": [],
      "source": [
        "import numpy as np\n",
        "import pandas as pd\n",
        "import matplotlib.pyplot as plt\n",
        "from mpl_toolkits import mplot3d\n",
        "import random\n",
        "import glob\n",
        "from tensorflow import keras\n",
        "import tensorflow as tf\n",
        "from keras.preprocessing.image import load_img\n",
        "from keras.layers import Input, Conv2D, MaxPooling2D, Activation, ReLU, Add, Dense, Dropout\n",
        "from keras.layers import BatchNormalization, Conv2DTranspose, Concatenate, UpSampling2D\n",
        "from keras.models import Model, Sequential\n",
        "from keras.regularizers import l2\n",
        "import keras.metrics\n",
        "from sklearn import preprocessing\n",
        "from sklearn.impute import SimpleImputer\n",
        "from sklearn.model_selection import train_test_split\n",
        "from sys import builtin_module_names"
      ]
    },
    {
      "cell_type": "code",
      "execution_count": 4,
      "metadata": {
        "colab": {
          "base_uri": "https://localhost:8080/"
        },
        "id": "i81s6pIJFML5",
        "outputId": "2986daae-cb25-400d-c4b3-b9851f42243f"
      },
      "outputs": [
        {
          "output_type": "stream",
          "name": "stdout",
          "text": [
            "(643844, 7)\n",
            "(643844, 1)\n"
          ]
        }
      ],
      "source": [
        "#  Get Training Data\n",
        "train_time = np.array([])\n",
        "train_bathroom = np.array([])\n",
        "train_dining = np.array([])\n",
        "train_bedroom = np.array([])\n",
        "train_office = np.array([])\n",
        "train_obj = np.array([])\n",
        "train_activity = np.array([])\n",
        "train_label = np.array([])\n",
        "\n",
        "for i in range(51):\n",
        "  number = str(i).zfill(3)\n",
        "  file_name = \"/content/TofunmiSodimu-Novelty-Detection-56162c3/Training_Data_RoomsOnly/train\"+number+\".csv\"\n",
        "  data = pd.read_csv(file_name)\n",
        "  dropped_ins = np.array([],dtype=int)\n",
        "\n",
        "  # Get object_id at each instance\n",
        "  obj_ids = data[['Obj_ID']].values.astype(int)\n",
        "  # Check for nan vals and add to drop_list\n",
        "  dropped_ins = np.append(dropped_ins,np.where(np.isnan(obj_ids)))\n",
        "\n",
        "  # Get time for each instance\n",
        "  times = data[['Time']].values.astype(float)\n",
        "  # Check for nan vals and add to drop_list\n",
        "  dropped_ins = np.append(dropped_ins,np.where(np.isnan(times)))\n",
        "\n",
        "  # Get room id for each instance\n",
        "  room_ids = data[['Room_ID']].values.astype(int)\n",
        "  # Check for nan vals and add to drop_list\n",
        "  dropped_ins = np.append(dropped_ins,np.where(np.isnan(room_ids)))\n",
        "\n",
        "  # Get activity for each instance and encode\n",
        "  activities = data[['Activity']].values.astype(str)\n",
        "  # Check for nan vals and add to drop_list\n",
        "  dropped_ins = np.append(dropped_ins,np.where(activities == 'nan')[0])\n",
        "\n",
        "  # Get label for each instance. # Where 1= Anomaly and 0 = Normal.\n",
        "  labels = data[['Anomaly_Label']].values.astype(int)\n",
        "  # Check for nan vals and add to drop_list\n",
        "  dropped_ins = np.append(dropped_ins,np.where(np.isnan(labels)))\n",
        "\n",
        "  # Delete instances with Nan vals\n",
        "  obj_ids = np.delete(obj_ids,dropped_ins)\n",
        "  times = np.delete(times,dropped_ins)\n",
        "  room_ids = np.delete(room_ids,dropped_ins)\n",
        "  activities = np.delete(activities,dropped_ins)\n",
        "  labels = np.delete(labels,dropped_ins)\n",
        "\n",
        "  # Encode activity\n",
        "  activity_encoder = preprocessing.LabelEncoder()\n",
        "  activity_encoder.fit(np.unique(activities))\n",
        "  activities = activity_encoder.transform(activities)\n",
        "\n",
        "  # Encode rooms\n",
        "  bathroom = np.zeros((len(room_ids),1))\n",
        "  dining = np.zeros((len(room_ids),1))\n",
        "  bedroom = np.zeros((len(room_ids),1))\n",
        "  office = np.zeros((len(room_ids),1))\n",
        "\n",
        "  for j in range(len(room_ids)):\n",
        "    if room_ids[j] == 1:\n",
        "      bathroom[j] = 1\n",
        "    elif room_ids[j] == 41:\n",
        "      dining[j] = 1\n",
        "    elif room_ids[j] == 162:\n",
        "      bedroom[j] = 1\n",
        "    elif room_ids[j] == 241:\n",
        "      office[j] = 1\n",
        "\n",
        "  # Append values to corresponding arrays\n",
        "  train_obj = np.append(train_obj,obj_ids)\n",
        "  train_time = np.append(train_time,times)\n",
        "  train_bathroom = np.append(train_bathroom,bathroom)\n",
        "  train_dining = np.append(train_dining,dining)\n",
        "  train_bedroom = np.append(train_bedroom,bedroom)\n",
        "  train_office = np.append(train_office,office)\n",
        "  train_activity = np.append(train_activity,activities)\n",
        "  train_label = np.append(train_label,labels)\n",
        "\n",
        "# Concatenate data\n",
        "train_obj = train_obj.reshape(train_obj.shape[0],1)\n",
        "train_time = train_time.reshape(train_time.shape[0],1)\n",
        "train_bathroom = train_bathroom.reshape(train_bathroom.shape[0],1)\n",
        "train_dining = train_dining.reshape(train_dining.shape[0],1)\n",
        "train_bedroom = train_bedroom.reshape(train_bedroom.shape[0],1)\n",
        "train_office = train_office.reshape(train_office.shape[0],1)\n",
        "train_activity = train_activity.reshape(train_activity.shape[0],1)\n",
        "train_data = np.concatenate((train_obj,train_time,train_bathroom,train_dining,train_bedroom,train_office,train_activity),axis=1)\n",
        "train_label = train_label.reshape(train_label.shape[0],1)\n",
        "\n",
        "print(train_data.shape)\n",
        "print(train_label.shape)"
      ]
    },
    {
      "cell_type": "code",
      "source": [
        "#  Sort based on obj IDs\n",
        "holder = np.concatenate((train_data,train_label),axis=-1)\n",
        "holder = holder[holder[:,0].argsort()]\n",
        "train_label = holder[:,7].reshape(holder[:,7].shape[0],1)\n",
        "train_data = holder[:,0:7]\n",
        "print(train_data.shape)\n",
        "print(train_label.shape)"
      ],
      "metadata": {
        "colab": {
          "base_uri": "https://localhost:8080/"
        },
        "id": "UkkJpiqyNUfx",
        "outputId": "f98aa985-c98c-412d-ff77-44e40dfa9304"
      },
      "execution_count": 5,
      "outputs": [
        {
          "output_type": "stream",
          "name": "stdout",
          "text": [
            "(643844, 7)\n",
            "(643844, 1)\n"
          ]
        }
      ]
    },
    {
      "cell_type": "code",
      "execution_count": 6,
      "metadata": {
        "colab": {
          "base_uri": "https://localhost:8080/"
        },
        "id": "u89-GmrZFMI1",
        "outputId": "e496e2f9-3898-4992-bd5d-b1bba0bbe36b"
      },
      "outputs": [
        {
          "output_type": "stream",
          "name": "stdout",
          "text": [
            "(303160, 7)\n",
            "(303160, 1)\n",
            "(151580, 7) (151580, 1)\n",
            "(151580, 7) (151580, 1)\n"
          ]
        }
      ],
      "source": [
        "# Get Testing/Validating Data\n",
        "test_time = np.array([])\n",
        "test_bathroom = np.array([])\n",
        "test_dining = np.array([])\n",
        "test_bedroom = np.array([])\n",
        "test_office = np.array([])\n",
        "test_obj = np.array([])\n",
        "test_activity = np.array([])\n",
        "temp_labels = np.array([])\n",
        "\n",
        "for i in range(24):\n",
        "  number = str(i).zfill(3)\n",
        "  file_name = \"/content/TofunmiSodimu-Novelty-Detection-56162c3/Corrupt_Testing_Data_RoomsOnly/20_percent/test\"+number+\"_20percent.csv\"\n",
        "  data = pd.read_csv(file_name)\n",
        "  dropped_ins = np.array([],dtype=int)\n",
        "\n",
        "  # Get object_id at each instance\n",
        "  obj_ids = data[['Obj_ID']].values.astype(int)\n",
        "  # Check for nan vals and add to drop_list\n",
        "  dropped_ins = np.append(dropped_ins,np.where(np.isnan(obj_ids)))\n",
        "\n",
        "  # Get time for each instance\n",
        "  times = data[['Time']].values.astype(float)\n",
        "  # Check for nan vals and add to drop_list\n",
        "  dropped_ins = np.append(dropped_ins,np.where(np.isnan(times)))\n",
        "\n",
        "  # Get room id for each instance\n",
        "  room_ids = data[['Room_ID']].values.astype(int)\n",
        "  # Check for nan vals and add to drop_list\n",
        "  dropped_ins = np.append(dropped_ins,np.where(np.isnan(room_ids)))\n",
        "\n",
        "  # Get activity for each instance and encode\n",
        "  activities = data[['Activity']].values.astype(str)\n",
        "  # Check for nan vals and add to drop_list\n",
        "  dropped_ins = np.append(dropped_ins,np.where(activities == 'nan')[0])\n",
        "\n",
        "  # Get label for each instance. # Where 1= Anomaly and 0 = Normal.\n",
        "  labels = data[['Anomaly_Label']].values.astype(int)\n",
        "  # Check for nan vals and add to drop_list\n",
        "  dropped_ins = np.append(dropped_ins,np.where(np.isnan(labels)))\n",
        "\n",
        "  # Delete instances with Nan vals\n",
        "  obj_ids = np.delete(obj_ids,dropped_ins)\n",
        "  times = np.delete(times,dropped_ins)\n",
        "  room_ids = np.delete(room_ids,dropped_ins)\n",
        "  activities = np.delete(activities,dropped_ins)\n",
        "  labels = np.delete(labels,dropped_ins)\n",
        "\n",
        "  # Encode activity\n",
        "  activity_encoder = preprocessing.LabelEncoder()\n",
        "  activity_encoder.fit(np.unique(activities))\n",
        "  activities = activity_encoder.transform(activities)\n",
        "\n",
        "  # Encode rooms\n",
        "  bathroom = np.zeros((len(room_ids),1))\n",
        "  dining = np.zeros((len(room_ids),1))\n",
        "  bedroom = np.zeros((len(room_ids),1))\n",
        "  office = np.zeros((len(room_ids),1))\n",
        "\n",
        "  for j in range(len(room_ids)):\n",
        "    if room_ids[j] == 1:\n",
        "      bathroom[j] = 1\n",
        "    elif room_ids[j] == 41:\n",
        "      dining[j] = 1\n",
        "    elif room_ids[j] == 162:\n",
        "      bedroom[j] = 1\n",
        "    elif room_ids[j] == 241:\n",
        "      office[j] = 1\n",
        "\n",
        "  # Append values to corresponding arrays\n",
        "  test_obj = np.append(test_obj,obj_ids)\n",
        "  test_time = np.append(test_time,times)\n",
        "  test_bathroom = np.append(test_bathroom,bathroom)\n",
        "  test_dining = np.append(test_dining,dining)\n",
        "  test_bedroom = np.append(test_bedroom,bedroom)\n",
        "  test_office = np.append(test_office,office)\n",
        "  test_activity = np.append(test_activity,activities)\n",
        "  temp_labels = np.append(temp_labels,labels)\n",
        "\n",
        "# Concatenate data\n",
        "test_obj = test_obj.reshape(test_obj.shape[0],1)\n",
        "test_time = test_time.reshape(test_time.shape[0],1)\n",
        "test_bathroom = test_bathroom.reshape(test_bathroom.shape[0],1)\n",
        "test_dining = test_dining.reshape(test_dining.shape[0],1)\n",
        "test_bedroom = test_bedroom.reshape(test_bedroom.shape[0],1)\n",
        "test_office = test_office.reshape(test_office.shape[0],1)\n",
        "test_activity = test_activity.reshape(test_activity.shape[0],1)\n",
        "temp_data = np.concatenate((test_obj,test_time,test_bathroom,test_dining,test_bedroom,test_office,test_activity),axis=1)\n",
        "temp_labels = temp_labels.reshape(temp_labels.shape[0],1)\n",
        "\n",
        "print(temp_data.shape)\n",
        "print(temp_labels.shape)\n",
        "\n",
        "# Split into test and validate\n",
        "from sklearn.model_selection import train_test_split\n",
        "test_data,val_data,test_labels,val_labels = train_test_split(temp_data,temp_labels,test_size=0.50,random_state=42)\n",
        "\n",
        "print(test_data.shape, test_labels.shape)\n",
        "print(val_data.shape, val_labels.shape)"
      ]
    },
    {
      "cell_type": "code",
      "source": [
        "#  Sort based on obj IDs\n",
        "holder_test = np.concatenate((test_data,test_labels),axis=-1)\n",
        "holder_test = holder_test[holder_test[:,0].argsort()]\n",
        "test_labels = holder_test[:,7].reshape(holder_test[:,7].shape[0],1)\n",
        "test_data = holder_test[:,0:7]\n",
        "print(test_data.shape)\n",
        "print(test_labels.shape)\n",
        "\n",
        "#  Sort based on obj IDs\n",
        "holder_val = np.concatenate((val_data,val_labels),axis=-1)\n",
        "holder_val = holder_val[holder_val[:,0].argsort()]\n",
        "val_labels = holder_val[:,7].reshape(holder_val[:,7].shape[0],1)\n",
        "val_data = holder_val[:,0:7]\n",
        "print(val_data.shape)\n",
        "print(val_labels.shape)"
      ],
      "metadata": {
        "colab": {
          "base_uri": "https://localhost:8080/"
        },
        "id": "aCfIW4LNPlA4",
        "outputId": "2dc5c18d-3bfc-48a3-84af-c690a3f073c1"
      },
      "execution_count": 7,
      "outputs": [
        {
          "output_type": "stream",
          "name": "stdout",
          "text": [
            "(151580, 7)\n",
            "(151580, 1)\n",
            "(151580, 7)\n",
            "(151580, 1)\n"
          ]
        }
      ]
    },
    {
      "cell_type": "code",
      "execution_count": 8,
      "metadata": {
        "id": "sjjyQ5FC0Wjo"
      },
      "outputs": [],
      "source": [
        "class Tabular_net_model():\n",
        "  def __init__(self,input_shape,num_classes):\n",
        "    self.input_shape = input_shape\n",
        "    self.num_classes = num_classes\n",
        "\n",
        "  def Tabular_Net(self):\n",
        "      # Take the input shape\n",
        "      input1 = Input(self.input_shape)\n",
        "\n",
        "      # dense1 = Dense(32, activation=\"relu\",input_dim=7,kernel_regularizer=l2(0.01), bias_regularizer=l2(0.01))(input1)\n",
        "      # dense2 = Dense(64, activation=\"relu\",kernel_regularizer=l2(0.01), bias_regularizer=l2(0.01))(dense1)\n",
        "      # drop1 = Dropout(0.2)(dense2)\n",
        "      # dense3 = Dense(128, activation=\"relu\",kernel_regularizer=l2(0.01), bias_regularizer=l2(0.01))(drop1)\n",
        "      # dense4 = Dense(64, activation=\"relu\",kernel_regularizer=l2(0.01), bias_regularizer=l2(0.01))(dense3)\n",
        "      # drop2 = Dropout(0.2)(dense4)\n",
        "      # dense5 = Dense(32, activation=\"relu\",kernel_regularizer=l2(0.01), bias_regularizer=l2(0.01))(drop2)\n",
        "      # batch_norm = BatchNormalization()(dense5)\n",
        "\n",
        "      dense1 = Dense(16, activation=\"relu\",input_dim=7,kernel_regularizer=l2(0.01), bias_regularizer=l2(0.01))(input1)\n",
        "      dense2 = Dense(32, activation=\"relu\")(dense1)\n",
        "      drop1 = Dropout(0.2)(dense2)\n",
        "      dense3 = Dense(32, activation=\"relu\")(drop1)\n",
        "      dense4 = Dense(16, activation=\"relu\",kernel_regularizer=l2(0.01), bias_regularizer=l2(0.01))(dense3)\n",
        "      batch_norm = BatchNormalization()(dense4)\n",
        "\n",
        "      # dense1 = Dense(16, activation=\"relu\",input_dim=7,kernel_regularizer=l2(0.01), bias_regularizer=l2(0.01))(input1)\n",
        "      # dense2 = Dense(32, activation=\"relu\")(dense1)\n",
        "      # drop1 = Dropout(0.2)(dense2)\n",
        "      # dense3 = Dense(16, activation=\"relu\",kernel_regularizer=l2(0.01), bias_regularizer=l2(0.01))(drop1)\n",
        "      # batch_norm = BatchNormalization()(dense3)\n",
        "\n",
        "      out = Dense(num_classes, activation=\"sigmoid\",kernel_initializer=\"he_normal\",kernel_regularizer=l2(0.01), bias_regularizer=l2(0.01))(batch_norm)\n",
        "\n",
        "      model = Model(input1, out)\n",
        "      return model"
      ]
    },
    {
      "cell_type": "code",
      "execution_count": 9,
      "metadata": {
        "colab": {
          "base_uri": "https://localhost:8080/"
        },
        "id": "bBs9-IrkARBx",
        "outputId": "df5ec9c3-fe73-42c2-9ea9-d3da4280cf82"
      },
      "outputs": [
        {
          "output_type": "stream",
          "name": "stdout",
          "text": [
            "Model: \"model\"\n",
            "_________________________________________________________________\n",
            " Layer (type)                Output Shape              Param #   \n",
            "=================================================================\n",
            " input_1 (InputLayer)        [(None, 7)]               0         \n",
            "                                                                 \n",
            " dense (Dense)               (None, 16)                128       \n",
            "                                                                 \n",
            " dense_1 (Dense)             (None, 32)                544       \n",
            "                                                                 \n",
            " dropout (Dropout)           (None, 32)                0         \n",
            "                                                                 \n",
            " dense_2 (Dense)             (None, 32)                1056      \n",
            "                                                                 \n",
            " dense_3 (Dense)             (None, 16)                528       \n",
            "                                                                 \n",
            " batch_normalization (Batch  (None, 16)                64        \n",
            " Normalization)                                                  \n",
            "                                                                 \n",
            " dense_4 (Dense)             (None, 1)                 17        \n",
            "                                                                 \n",
            "=================================================================\n",
            "Total params: 2337 (9.13 KB)\n",
            "Trainable params: 2305 (9.00 KB)\n",
            "Non-trainable params: 32 (128.00 Byte)\n",
            "_________________________________________________________________\n"
          ]
        }
      ],
      "source": [
        "input_shape = (7)\n",
        "num_classes = 1\n",
        "model = Tabular_net_model(input_shape,num_classes).Tabular_Net()\n",
        "model.summary()"
      ]
    },
    {
      "cell_type": "code",
      "execution_count": 10,
      "metadata": {
        "id": "-BKdkb55A1BN"
      },
      "outputs": [],
      "source": [
        "class DataBatches(keras.utils.Sequence):\n",
        "    \"\"\"Helper to iterate over the data (as Numpy arrays).\"\"\"\n",
        "\n",
        "    def __init__(self,batch_size,input_shape,label_shape,input_data,label):\n",
        "        self.batch_size = batch_size\n",
        "        self.input_shape = input_shape\n",
        "        self.label_shape = label_shape\n",
        "        self.input_data = input_data\n",
        "        self.label = label\n",
        "\n",
        "    def __len__(self):\n",
        "        return len(self.label) // self.batch_size\n",
        "\n",
        "    def __getitem__(self, idx):\n",
        "        \"\"\"Returns tuple (input, target) correspond to batch #idx.\"\"\"\n",
        "        i = idx * self.batch_size\n",
        "        batch_input = self.input_data[i : i + self.batch_size]\n",
        "        batch_label = self.label[i : i + self.batch_size]\n",
        "\n",
        "        #  Input images\n",
        "        x = np.zeros((self.batch_size,self.input_shape), dtype=\"uint8\")\n",
        "        for j, val in enumerate(batch_input):\n",
        "          x[j] = val\n",
        "\n",
        "        # Labels\n",
        "        y = np.zeros((self.batch_size,self.label_shape), dtype=\"uint8\")\n",
        "        for j, val in enumerate(batch_label):\n",
        "          y[j] = val\n",
        "\n",
        "        return x, y"
      ]
    },
    {
      "cell_type": "code",
      "execution_count": 11,
      "metadata": {
        "id": "7kadleChAQ-v"
      },
      "outputs": [],
      "source": [
        "# Instantiate data sequences\n",
        "input_shape = (7)\n",
        "label_shape = (1)\n",
        "batch_size = 256\n",
        "train_gen = DataBatches(batch_size,input_shape,label_shape,train_data,train_label)\n",
        "val_gen = DataBatches(batch_size,input_shape,label_shape,val_data,val_labels)\n",
        "test_gen = DataBatches(1,input_shape,label_shape,test_data,test_labels)"
      ]
    },
    {
      "cell_type": "code",
      "execution_count": 11,
      "metadata": {
        "id": "plrI1c_JYADj"
      },
      "outputs": [],
      "source": [
        "# # Implement custom loss function - centerdistloss\n",
        "# def CenterDistLoss(y_true,y_pred):\n",
        "#   # tf.print(tf.shape(y_true))\n",
        "#   # tf.print(tf.shape(y_pred))\n",
        "\n",
        "#   z = y_pred\n",
        "#   center = tf.random.normal((1,4))\n",
        "#   dist = tf.reduce_sum((z - center) ** 2, axis=1)\n",
        "#   # tf.print(tf.shape(dist))\n",
        "#   dist = tf.reshape(dist, [128,1])\n",
        "#   # dist = (z - center) ** 2\n",
        "\n",
        "#   ln = dist\n",
        "#   la = 1/dist\n",
        "#   # tf.print(tf.shape(ln),tf.shape(la))\n",
        "#   # tf.print(ln,la)\n",
        "#   # a = ln[y_true == 0]\n",
        "#   # b = la[y_true == 1]\n",
        "#   # tf.print(tf.shape(a),tf.shape(b))\n",
        "\n",
        "#   loss_i = tf.reduce_mean(tf.concat([ln[y_true == 0], la[y_true == 1]], 0))\n",
        "#   # tf.print(loss_i)\n",
        "#   return dist"
      ]
    },
    {
      "cell_type": "code",
      "execution_count": 12,
      "metadata": {
        "id": "jUatRGCx9Q4h"
      },
      "outputs": [],
      "source": [
        "# import math\n",
        "# def scheduler(epoch, lr):\n",
        "#   # if epoch < 5:\n",
        "#   #   return lr\n",
        "#   # else:\n",
        "#     return lr * math.exp(0.1)\n",
        "\n",
        "# callback_sch = keras.callbacks.LearningRateScheduler(scheduler)"
      ]
    },
    {
      "cell_type": "code",
      "source": [
        "# Implement custom loss function - dice coeff\n",
        "def dice_loss(y_true, y_pred):\n",
        "\n",
        "  y_true = tf.cast(y_true, tf.float32)\n",
        "  pred = tf.zeros(tf.shape(y_pred))\n",
        "  pred = tf.where(y_pred >= 0.5,pred,1)\n",
        "  numerator = 2 * tf.reduce_sum(y_true * pred)\n",
        "  denominator = tf.reduce_sum(y_true + pred)\n",
        "\n",
        "  return 1 - numerator / denominator"
      ],
      "metadata": {
        "id": "P4vPmVYQXbqM"
      },
      "execution_count": 12,
      "outputs": []
    },
    {
      "cell_type": "code",
      "execution_count": 19,
      "metadata": {
        "colab": {
          "base_uri": "https://localhost:8080/",
          "height": 1000
        },
        "id": "RjCih7-8fStQ",
        "outputId": "801bc737-657a-4811-edec-d6f8fdd7d5de"
      },
      "outputs": [
        {
          "output_type": "stream",
          "name": "stdout",
          "text": [
            "Epoch 1/150\n",
            "2515/2515 [==============================] - 13s 5ms/step - loss: 1.2226 - accuracy: 0.5125 - val_loss: 1.0051 - val_accuracy: 0.5565\n",
            "Epoch 2/150\n",
            "2515/2515 [==============================] - 11s 4ms/step - loss: 1.1731 - accuracy: 0.5303 - val_loss: 0.9976 - val_accuracy: 0.5705\n",
            "Epoch 3/150\n",
            "2515/2515 [==============================] - 11s 4ms/step - loss: 1.1294 - accuracy: 0.5501 - val_loss: 0.9893 - val_accuracy: 0.5900\n",
            "Epoch 4/150\n",
            "2515/2515 [==============================] - 11s 4ms/step - loss: 1.0922 - accuracy: 0.5735 - val_loss: 0.9840 - val_accuracy: 0.6046\n",
            "Epoch 5/150\n",
            "2515/2515 [==============================] - 11s 4ms/step - loss: 1.0599 - accuracy: 0.5973 - val_loss: 0.9799 - val_accuracy: 0.6147\n",
            "Epoch 6/150\n",
            "2515/2515 [==============================] - 11s 4ms/step - loss: 1.0314 - accuracy: 0.6233 - val_loss: 0.9751 - val_accuracy: 0.6237\n",
            "Epoch 7/150\n",
            "2515/2515 [==============================] - 11s 4ms/step - loss: 1.0054 - accuracy: 0.6492 - val_loss: 0.9711 - val_accuracy: 0.6308\n",
            "Epoch 8/150\n",
            "2515/2515 [==============================] - 11s 4ms/step - loss: 0.9819 - accuracy: 0.6747 - val_loss: 0.9680 - val_accuracy: 0.6382\n",
            "Epoch 9/150\n",
            "2515/2515 [==============================] - 11s 4ms/step - loss: 0.9603 - accuracy: 0.6982 - val_loss: 0.9658 - val_accuracy: 0.6427\n",
            "Epoch 10/150\n",
            "2515/2515 [==============================] - 11s 4ms/step - loss: 0.9398 - accuracy: 0.7203 - val_loss: 0.9630 - val_accuracy: 0.6486\n",
            "Epoch 11/150\n",
            "2515/2515 [==============================] - 11s 4ms/step - loss: 0.9205 - accuracy: 0.7414 - val_loss: 0.9601 - val_accuracy: 0.6542\n",
            "Epoch 12/150\n",
            "2515/2515 [==============================] - 11s 4ms/step - loss: 0.9018 - accuracy: 0.7615 - val_loss: 0.9574 - val_accuracy: 0.6598\n",
            "Epoch 13/150\n",
            "2515/2515 [==============================] - 11s 4ms/step - loss: 0.8842 - accuracy: 0.7799 - val_loss: 0.9552 - val_accuracy: 0.6632\n",
            "Epoch 14/150\n",
            "2515/2515 [==============================] - 11s 4ms/step - loss: 0.8673 - accuracy: 0.7985 - val_loss: 0.9536 - val_accuracy: 0.6651\n",
            "Epoch 15/150\n",
            "2515/2515 [==============================] - 11s 4ms/step - loss: 0.8513 - accuracy: 0.8152 - val_loss: 0.9530 - val_accuracy: 0.6652\n",
            "Epoch 16/150\n",
            "2515/2515 [==============================] - 11s 4ms/step - loss: 0.8357 - accuracy: 0.8317 - val_loss: 0.9506 - val_accuracy: 0.6675\n",
            "Epoch 17/150\n",
            "2515/2515 [==============================] - 11s 4ms/step - loss: 0.8214 - accuracy: 0.8475 - val_loss: 0.9498 - val_accuracy: 0.6676\n",
            "Epoch 18/150\n",
            "2515/2515 [==============================] - 11s 4ms/step - loss: 0.8072 - accuracy: 0.8622 - val_loss: 0.9487 - val_accuracy: 0.6679\n",
            "Epoch 19/150\n",
            "2515/2515 [==============================] - 11s 4ms/step - loss: 0.7942 - accuracy: 0.8754 - val_loss: 0.9472 - val_accuracy: 0.6695\n",
            "Epoch 20/150\n",
            "2515/2515 [==============================] - 11s 4ms/step - loss: 0.7819 - accuracy: 0.8876 - val_loss: 0.9458 - val_accuracy: 0.6709\n",
            "Epoch 21/150\n",
            "2515/2515 [==============================] - 11s 4ms/step - loss: 0.7697 - accuracy: 0.8983 - val_loss: 0.9449 - val_accuracy: 0.6715\n",
            "Epoch 22/150\n",
            "2515/2515 [==============================] - 11s 4ms/step - loss: 0.7585 - accuracy: 0.9079 - val_loss: 0.9441 - val_accuracy: 0.6723\n",
            "Epoch 23/150\n",
            "2515/2515 [==============================] - 11s 4ms/step - loss: 0.7473 - accuracy: 0.9171 - val_loss: 0.9433 - val_accuracy: 0.6727\n",
            "Epoch 24/150\n",
            "2515/2515 [==============================] - 11s 4ms/step - loss: 0.7371 - accuracy: 0.9244 - val_loss: 0.9432 - val_accuracy: 0.6729\n",
            "Epoch 25/150\n",
            "2515/2515 [==============================] - 11s 4ms/step - loss: 0.7267 - accuracy: 0.9315 - val_loss: 0.9424 - val_accuracy: 0.6745\n",
            "Epoch 26/150\n",
            "2515/2515 [==============================] - 12s 5ms/step - loss: 0.7170 - accuracy: 0.9376 - val_loss: 0.9424 - val_accuracy: 0.6738\n",
            "Epoch 27/150\n",
            "2515/2515 [==============================] - 11s 4ms/step - loss: 0.7077 - accuracy: 0.9438 - val_loss: 0.9423 - val_accuracy: 0.6749\n",
            "Epoch 28/150\n",
            "2515/2515 [==============================] - 11s 4ms/step - loss: 0.6988 - accuracy: 0.9491 - val_loss: 0.9425 - val_accuracy: 0.6754\n",
            "Epoch 29/150\n",
            "2515/2515 [==============================] - 11s 4ms/step - loss: 0.6900 - accuracy: 0.9540 - val_loss: 0.9426 - val_accuracy: 0.6755\n",
            "Epoch 30/150\n",
            "2515/2515 [==============================] - 11s 4ms/step - loss: 0.6817 - accuracy: 0.9584 - val_loss: 0.9424 - val_accuracy: 0.6760\n",
            "Epoch 31/150\n",
            "2515/2515 [==============================] - 11s 4ms/step - loss: 0.6736 - accuracy: 0.9624 - val_loss: 0.9431 - val_accuracy: 0.6759\n",
            "Epoch 32/150\n",
            "2515/2515 [==============================] - 11s 4ms/step - loss: 0.6656 - accuracy: 0.9663 - val_loss: 0.9434 - val_accuracy: 0.6768\n",
            "Epoch 33/150\n",
            "1595/2515 [==================>...........] - ETA: 3s - loss: 0.6593 - accuracy: 0.9696"
          ]
        },
        {
          "output_type": "error",
          "ename": "KeyboardInterrupt",
          "evalue": "",
          "traceback": [
            "\u001b[0;31m---------------------------------------------------------------------------\u001b[0m",
            "\u001b[0;31mKeyboardInterrupt\u001b[0m                         Traceback (most recent call last)",
            "\u001b[0;32m<ipython-input-19-dd04b6a56b3c>\u001b[0m in \u001b[0;36m<cell line: 17>\u001b[0;34m()\u001b[0m\n\u001b[1;32m     15\u001b[0m \u001b[0;31m# Train the model, doing validation at the end of each epoch.\u001b[0m\u001b[0;34m\u001b[0m\u001b[0;34m\u001b[0m\u001b[0m\n\u001b[1;32m     16\u001b[0m \u001b[0mepochs\u001b[0m \u001b[0;34m=\u001b[0m \u001b[0;36m150\u001b[0m\u001b[0;34m\u001b[0m\u001b[0;34m\u001b[0m\u001b[0m\n\u001b[0;32m---> 17\u001b[0;31m \u001b[0mhistory\u001b[0m \u001b[0;34m=\u001b[0m \u001b[0mmodel\u001b[0m\u001b[0;34m.\u001b[0m\u001b[0mfit\u001b[0m\u001b[0;34m(\u001b[0m\u001b[0mtrain_gen\u001b[0m\u001b[0;34m,\u001b[0m \u001b[0mepochs\u001b[0m\u001b[0;34m=\u001b[0m\u001b[0mepochs\u001b[0m\u001b[0;34m,\u001b[0m \u001b[0mvalidation_data\u001b[0m\u001b[0;34m=\u001b[0m\u001b[0mval_gen\u001b[0m\u001b[0;34m,\u001b[0m \u001b[0mcallbacks\u001b[0m\u001b[0;34m=\u001b[0m\u001b[0;34m[\u001b[0m\u001b[0mcallbacks\u001b[0m\u001b[0;34m,\u001b[0m\u001b[0mcallback_stop\u001b[0m\u001b[0;34m]\u001b[0m\u001b[0;34m)\u001b[0m\u001b[0;34m\u001b[0m\u001b[0;34m\u001b[0m\u001b[0m\n\u001b[0m\u001b[1;32m     18\u001b[0m \u001b[0;31m# history = model.fit(x=train_data, y=train_data, batch_size=128, epochs=epochs, validation_data=[val_data,val_data], callbacks=[callbacks])\u001b[0m\u001b[0;34m\u001b[0m\u001b[0;34m\u001b[0m\u001b[0m\n",
            "\u001b[0;32m/usr/local/lib/python3.10/dist-packages/keras/src/utils/traceback_utils.py\u001b[0m in \u001b[0;36merror_handler\u001b[0;34m(*args, **kwargs)\u001b[0m\n\u001b[1;32m     63\u001b[0m         \u001b[0mfiltered_tb\u001b[0m \u001b[0;34m=\u001b[0m \u001b[0;32mNone\u001b[0m\u001b[0;34m\u001b[0m\u001b[0;34m\u001b[0m\u001b[0m\n\u001b[1;32m     64\u001b[0m         \u001b[0;32mtry\u001b[0m\u001b[0;34m:\u001b[0m\u001b[0;34m\u001b[0m\u001b[0;34m\u001b[0m\u001b[0m\n\u001b[0;32m---> 65\u001b[0;31m             \u001b[0;32mreturn\u001b[0m \u001b[0mfn\u001b[0m\u001b[0;34m(\u001b[0m\u001b[0;34m*\u001b[0m\u001b[0margs\u001b[0m\u001b[0;34m,\u001b[0m \u001b[0;34m**\u001b[0m\u001b[0mkwargs\u001b[0m\u001b[0;34m)\u001b[0m\u001b[0;34m\u001b[0m\u001b[0;34m\u001b[0m\u001b[0m\n\u001b[0m\u001b[1;32m     66\u001b[0m         \u001b[0;32mexcept\u001b[0m \u001b[0mException\u001b[0m \u001b[0;32mas\u001b[0m \u001b[0me\u001b[0m\u001b[0;34m:\u001b[0m\u001b[0;34m\u001b[0m\u001b[0;34m\u001b[0m\u001b[0m\n\u001b[1;32m     67\u001b[0m             \u001b[0mfiltered_tb\u001b[0m \u001b[0;34m=\u001b[0m \u001b[0m_process_traceback_frames\u001b[0m\u001b[0;34m(\u001b[0m\u001b[0me\u001b[0m\u001b[0;34m.\u001b[0m\u001b[0m__traceback__\u001b[0m\u001b[0;34m)\u001b[0m\u001b[0;34m\u001b[0m\u001b[0;34m\u001b[0m\u001b[0m\n",
            "\u001b[0;32m/usr/local/lib/python3.10/dist-packages/keras/src/engine/training.py\u001b[0m in \u001b[0;36mfit\u001b[0;34m(self, x, y, batch_size, epochs, verbose, callbacks, validation_split, validation_data, shuffle, class_weight, sample_weight, initial_epoch, steps_per_epoch, validation_steps, validation_batch_size, validation_freq, max_queue_size, workers, use_multiprocessing)\u001b[0m\n\u001b[1;32m   1797\u001b[0m                 \u001b[0;32mwith\u001b[0m \u001b[0mdata_handler\u001b[0m\u001b[0;34m.\u001b[0m\u001b[0mcatch_stop_iteration\u001b[0m\u001b[0;34m(\u001b[0m\u001b[0;34m)\u001b[0m\u001b[0;34m:\u001b[0m\u001b[0;34m\u001b[0m\u001b[0;34m\u001b[0m\u001b[0m\n\u001b[1;32m   1798\u001b[0m                     \u001b[0;32mfor\u001b[0m \u001b[0mstep\u001b[0m \u001b[0;32min\u001b[0m \u001b[0mdata_handler\u001b[0m\u001b[0;34m.\u001b[0m\u001b[0msteps\u001b[0m\u001b[0;34m(\u001b[0m\u001b[0;34m)\u001b[0m\u001b[0;34m:\u001b[0m\u001b[0;34m\u001b[0m\u001b[0;34m\u001b[0m\u001b[0m\n\u001b[0;32m-> 1799\u001b[0;31m                         with tf.profiler.experimental.Trace(\n\u001b[0m\u001b[1;32m   1800\u001b[0m                             \u001b[0;34m\"train\"\u001b[0m\u001b[0;34m,\u001b[0m\u001b[0;34m\u001b[0m\u001b[0;34m\u001b[0m\u001b[0m\n\u001b[1;32m   1801\u001b[0m                             \u001b[0mepoch_num\u001b[0m\u001b[0;34m=\u001b[0m\u001b[0mepoch\u001b[0m\u001b[0;34m,\u001b[0m\u001b[0;34m\u001b[0m\u001b[0;34m\u001b[0m\u001b[0m\n",
            "\u001b[0;32m/usr/local/lib/python3.10/dist-packages/tensorflow/python/profiler/trace.py\u001b[0m in \u001b[0;36m__init__\u001b[0;34m(self, name, **kwargs)\u001b[0m\n\u001b[1;32m     48\u001b[0m   \"\"\"\n\u001b[1;32m     49\u001b[0m \u001b[0;34m\u001b[0m\u001b[0m\n\u001b[0;32m---> 50\u001b[0;31m   \u001b[0;32mdef\u001b[0m \u001b[0m__init__\u001b[0m\u001b[0;34m(\u001b[0m\u001b[0mself\u001b[0m\u001b[0;34m,\u001b[0m \u001b[0mname\u001b[0m\u001b[0;34m,\u001b[0m \u001b[0;34m**\u001b[0m\u001b[0mkwargs\u001b[0m\u001b[0;34m)\u001b[0m\u001b[0;34m:\u001b[0m\u001b[0;34m\u001b[0m\u001b[0;34m\u001b[0m\u001b[0m\n\u001b[0m\u001b[1;32m     51\u001b[0m     \"\"\"Creates a trace event in the profiler.\n\u001b[1;32m     52\u001b[0m \u001b[0;34m\u001b[0m\u001b[0m\n",
            "\u001b[0;31mKeyboardInterrupt\u001b[0m: "
          ]
        }
      ],
      "source": [
        "# Train Model\n",
        "input_shape = (7)\n",
        "num_classes = 1\n",
        "model = Tabular_net_model(input_shape,num_classes).Tabular_Net()\n",
        "\n",
        "model.compile(optimizer=keras.optimizers.SGD(learning_rate=1e-5), loss=\"binary_crossentropy\", metrics=['accuracy'])\n",
        "# keras.losses.BinaryFocalCrossentropy(\n",
        "#         apply_class_balancing=False,alpha=0.65,gamma=2.0, from_logits=True)\n",
        "\n",
        "callbacks = [\n",
        "    keras.callbacks.ModelCheckpoint(\"anomaly_tabular_net.keras\", save_best_only=True)\n",
        "]\n",
        "callback_stop = keras.callbacks.EarlyStopping(monitor='val_loss',patience=20)\n",
        "\n",
        "# Train the model, doing validation at the end of each epoch.\n",
        "epochs = 150\n",
        "history = model.fit(train_gen, epochs=epochs, validation_data=val_gen, callbacks=[callbacks,callback_stop])\n",
        "# history = model.fit(x=train_data, y=train_data, batch_size=128, epochs=epochs, validation_data=[val_data,val_data], callbacks=[callbacks])"
      ]
    },
    {
      "cell_type": "code",
      "source": [
        "from matplotlib import pyplot as plt\n",
        "# Plot Train and Validation Loss\n",
        "plt.plot(history.history['loss'])\n",
        "plt.plot(history.history['val_loss'])\n",
        "plt.title('model loss')\n",
        "plt.ylabel('loss')\n",
        "plt.xlabel('epoch')\n",
        "plt.legend(['train', 'validation'], loc='upper left')\n",
        "plt.show()\n",
        "\n",
        "# Plot Precision\n",
        "plt.plot(history.history['accuracy'])\n",
        "plt.plot(history.history['val_accuracy'])\n",
        "plt.title('model accuracy')\n",
        "plt.ylabel('accuracy')\n",
        "plt.xlabel('epoch')\n",
        "plt.legend(['train', 'val'], loc='upper left')\n",
        "plt.show()"
      ],
      "metadata": {
        "colab": {
          "base_uri": "https://localhost:8080/",
          "height": 927
        },
        "id": "aede_US49uDZ",
        "outputId": "356bf200-b79a-4753-d1e1-a466261aa084"
      },
      "execution_count": 14,
      "outputs": [
        {
          "output_type": "display_data",
          "data": {
            "text/plain": [
              "<Figure size 640x480 with 1 Axes>"
            ],
            "image/png": "[encoded data removed]"
          },
          "metadata": {}
        },
        {
          "output_type": "display_data",
          "data": {
            "text/plain": [
              "<Figure size 640x480 with 1 Axes>"
            ],
            "image/png": "[encoded data removed]"
          },
          "metadata": {}
        }
      ]
    },
    {
      "cell_type": "code",
      "execution_count": 15,
      "metadata": {
        "colab": {
          "base_uri": "https://localhost:8080/"
        },
        "id": "FMKw_GNrAQ77",
        "outputId": "98e971fc-d2ba-4783-c0f6-ca6e314246ca"
      },
      "outputs": [
        {
          "output_type": "stream",
          "name": "stdout",
          "text": [
            "151580/151580 [==============================] - 203s 1ms/step\n"
          ]
        }
      ],
      "source": [
        "test_preds = model.predict(test_data,batch_size=1)"
      ]
    },
    {
      "cell_type": "code",
      "source": [
        "preds_mask = np.zeros((test_preds.shape))\n",
        "# (np.max(test_preds)-np.min(test_preds))/2)\n",
        "preds_mask[np.where(test_preds >= 0.5)] = 1"
      ],
      "metadata": {
        "id": "VygTowc4a5oP"
      },
      "execution_count": 16,
      "outputs": []
    },
    {
      "cell_type": "code",
      "source": [
        "print(np.max(test_preds))\n",
        "print(np.min(test_preds))"
      ],
      "metadata": {
        "colab": {
          "base_uri": "https://localhost:8080/"
        },
        "id": "xjYrI-VajHX7",
        "outputId": "bfcf18d6-f012-4b2b-9061-8dea02e9671d"
      },
      "execution_count": 17,
      "outputs": [
        {
          "output_type": "stream",
          "name": "stdout",
          "text": [
            "0.3855012\n",
            "7.924067e-05\n"
          ]
        }
      ]
    },
    {
      "cell_type": "code",
      "source": [
        "# Calculate precision and recall\n",
        "predicted = preds_mask.flatten()\n",
        "actual = test_labels.flatten()\n",
        "TP = np.count_nonzero(predicted * actual)\n",
        "TN = np.count_nonzero((predicted - 1) * (actual - 1))\n",
        "FP = np.count_nonzero(predicted * (actual - 1))\n",
        "FN = np.count_nonzero((predicted - 1) * actual)\n",
        "\n",
        "precision = TP/(TP + FP)\n",
        "recall = TP/(TP + FN)\n",
        "\n",
        "print(\"True Positive: \",TP)\n",
        "print(\"True Negative: \",TN)\n",
        "print(\"False Positive: \",FP)\n",
        "print(\"False Negative: \",FN)\n",
        "print(\"Accuracy: \", (TP+TN)/(TP + TN + FP + FN))\n",
        "print(\"Precision: \", precision)\n",
        "print(\"Recall: \", recall)\n",
        "print(\"F1-Score: \", precision*recall/(precision+recall))"
      ],
      "metadata": {
        "colab": {
          "base_uri": "https://localhost:8080/",
          "height": 211
        },
        "id": "WxsAjs54Qhe0",
        "outputId": "ca3f784c-49ea-40a1-c20a-0b1cd90de968"
      },
      "execution_count": 18,
      "outputs": [
        {
          "output_type": "error",
          "ename": "ZeroDivisionError",
          "evalue": "division by zero",
          "traceback": [
            "\u001b[0;31m---------------------------------------------------------------------------\u001b[0m",
            "\u001b[0;31mZeroDivisionError\u001b[0m                         Traceback (most recent call last)",
            "\u001b[0;32m<ipython-input-18-b2777a3b2f83>\u001b[0m in \u001b[0;36m<cell line: 9>\u001b[0;34m()\u001b[0m\n\u001b[1;32m      7\u001b[0m \u001b[0mFN\u001b[0m \u001b[0;34m=\u001b[0m \u001b[0mnp\u001b[0m\u001b[0;34m.\u001b[0m\u001b[0mcount_nonzero\u001b[0m\u001b[0;34m(\u001b[0m\u001b[0;34m(\u001b[0m\u001b[0mpredicted\u001b[0m \u001b[0;34m-\u001b[0m \u001b[0;36m1\u001b[0m\u001b[0;34m)\u001b[0m \u001b[0;34m*\u001b[0m \u001b[0mactual\u001b[0m\u001b[0;34m)\u001b[0m\u001b[0;34m\u001b[0m\u001b[0;34m\u001b[0m\u001b[0m\n\u001b[1;32m      8\u001b[0m \u001b[0;34m\u001b[0m\u001b[0m\n\u001b[0;32m----> 9\u001b[0;31m \u001b[0mprecision\u001b[0m \u001b[0;34m=\u001b[0m \u001b[0mTP\u001b[0m\u001b[0;34m/\u001b[0m\u001b[0;34m(\u001b[0m\u001b[0mTP\u001b[0m \u001b[0;34m+\u001b[0m \u001b[0mFP\u001b[0m\u001b[0;34m)\u001b[0m\u001b[0;34m\u001b[0m\u001b[0;34m\u001b[0m\u001b[0m\n\u001b[0m\u001b[1;32m     10\u001b[0m \u001b[0mrecall\u001b[0m \u001b[0;34m=\u001b[0m \u001b[0mTP\u001b[0m\u001b[0;34m/\u001b[0m\u001b[0;34m(\u001b[0m\u001b[0mTP\u001b[0m \u001b[0;34m+\u001b[0m \u001b[0mFN\u001b[0m\u001b[0;34m)\u001b[0m\u001b[0;34m\u001b[0m\u001b[0;34m\u001b[0m\u001b[0m\n\u001b[1;32m     11\u001b[0m \u001b[0;34m\u001b[0m\u001b[0m\n",
            "\u001b[0;31mZeroDivisionError\u001b[0m: division by zero"
          ]
        }
      ]
    },
    {
      "cell_type": "code",
      "source": [
        "# test_scores = np.zeros((test_preds.shape[0]))\n",
        "# for i in range(test_preds.shape[0]):\n",
        "#   # Calculate RMSE\n",
        "#   test_scores[i] = np.sqrt(np.sum(np.square(test_preds[i] - test_data[i])))"
      ],
      "metadata": {
        "id": "RpQmcvmIaVq9"
      },
      "execution_count": null,
      "outputs": []
    },
    {
      "cell_type": "code",
      "source": [
        "# threshold = 25\n",
        "# anomaly_or_not = np.zeros(test_scores.shape)\n",
        "# anomaly_or_not[np.where(test_scores >= threshold)] = 1"
      ],
      "metadata": {
        "id": "6iL6qRUkdByb"
      },
      "execution_count": null,
      "outputs": []
    },
    {
      "cell_type": "code",
      "source": [
        "# print(test_labels)\n",
        "# print(anomaly_or_not)"
      ],
      "metadata": {
        "id": "V_MUwyl_dsQF"
      },
      "execution_count": null,
      "outputs": []
    },
    {
      "cell_type": "code",
      "source": [
        "import torch\n",
        "import torch.nn as nn\n",
        "\n",
        "# Define the model\n",
        "class Tabular_net_model(nn.Module):\n",
        "  def __init__(self,input,device):\n",
        "    super(Tabular_net_model, self).__init__()\n",
        "    self.device = device\n",
        "\n",
        "    self.layer = nn.Sequential(\n",
        "        nn.Linear(4,16),\n",
        "        nn.ReLU(),\n",
        "        nn.Linear(16,32),\n",
        "        nn.ReLU(),\n",
        "        nn.Linear(32,64),\n",
        "        nn.ReLU(),\n",
        "        nn.Dropout(p=0.2),\n",
        "        nn.Linear(64,32),\n",
        "        nn.ReLU(),\n",
        "        nn.Linear(32,16),\n",
        "        nn.ReLU(),\n",
        "        nn.Linear(16,4)\n",
        "    )\n",
        "  def forward(self,x):\n",
        "    x = x.type(torch.FloatTensor).to(self.device)\n",
        "    return self.layer(x)"
      ],
      "metadata": {
        "id": "7FXzKLrw9cyO"
      },
      "execution_count": 19,
      "outputs": []
    },
    {
      "cell_type": "code",
      "source": [
        "from torchsummary import summary\n",
        "batch_size = 128\n",
        "device = torch.device('cuda:0' if torch.cuda.is_available() else 'cpu')\n",
        "print(device)\n",
        "input_shape = (4,)\n",
        "num_classes = 4\n",
        "model = Tabular_net_model(input_shape,device)\n",
        "model = model.to(device)\n",
        "summary(model,input_shape,batch_size)"
      ],
      "metadata": {
        "colab": {
          "base_uri": "https://localhost:8080/"
        },
        "id": "QnOlosEp-W8y",
        "outputId": "81aeb6de-3e92-426d-bc45-262bbed66654"
      },
      "execution_count": 8,
      "outputs": [
        {
          "output_type": "stream",
          "name": "stdout",
          "text": [
            "cuda:0\n",
            "----------------------------------------------------------------\n",
            "        Layer (type)               Output Shape         Param #\n",
            "================================================================\n",
            "            Linear-1                  [128, 16]              80\n",
            "              ReLU-2                  [128, 16]               0\n",
            "            Linear-3                  [128, 32]             544\n",
            "              ReLU-4                  [128, 32]               0\n",
            "            Linear-5                  [128, 64]           2,112\n",
            "              ReLU-6                  [128, 64]               0\n",
            "           Dropout-7                  [128, 64]               0\n",
            "            Linear-8                  [128, 32]           2,080\n",
            "              ReLU-9                  [128, 32]               0\n",
            "           Linear-10                  [128, 16]             528\n",
            "             ReLU-11                  [128, 16]               0\n",
            "           Linear-12                   [128, 4]              68\n",
            "================================================================\n",
            "Total params: 5,412\n",
            "Trainable params: 5,412\n",
            "Non-trainable params: 0\n",
            "----------------------------------------------------------------\n",
            "Input size (MB): 0.00\n",
            "Forward/backward pass size (MB): 0.38\n",
            "Params size (MB): 0.02\n",
            "Estimated Total Size (MB): 0.40\n",
            "----------------------------------------------------------------\n"
          ]
        }
      ]
    },
    {
      "cell_type": "code",
      "source": [
        "import torch\n",
        "#  Create class for formatting data\n",
        "class AnomalyData(torch.utils.data.Dataset):\n",
        "    def __init__(self,input_shape,batch_size,input_data,input_label):\n",
        "        self.input_shape = input_shape\n",
        "        self.batch_size = batch_size\n",
        "        self.input_data = input_data\n",
        "        self.input_label = input_label\n",
        "\n",
        "    def __len__(self):\n",
        "        return len(self.input_data)\n",
        "\n",
        "    def __getitem__(self, idx):\n",
        "        # Input data\n",
        "        data = self.input_data[idx]\n",
        "        x = data\n",
        "\n",
        "        # Input label\n",
        "        label = self.input_label[idx]\n",
        "        y = label\n",
        "\n",
        "        return torch.tensor(x), torch.tensor(y)"
      ],
      "metadata": {
        "id": "MWTi4143H6AC"
      },
      "execution_count": 9,
      "outputs": []
    },
    {
      "cell_type": "code",
      "source": [
        "import torch.nn.functional as F\n",
        "\n",
        "#  Loss function\n",
        "def CenterDistLoss(outputs,center,device):\n",
        "  dist = torch.sum((outputs.to(device) - center.to(device)) ** 2, dim=1)\n",
        "  return torch.mean(dist)"
      ],
      "metadata": {
        "id": "sTw4uyAqGgkM"
      },
      "execution_count": 46,
      "outputs": []
    },
    {
      "cell_type": "code",
      "source": [
        "def init_center_c(train_loader, model, device, eps=0.1):\n",
        "  \"\"\"Initialize hypersphere center c as the mean from an initial forward pass on the data.\"\"\"\n",
        "\n",
        "  n_samples = 0\n",
        "  c = torch.zeros([4,]).to(device)\n",
        "\n",
        "  model.eval()\n",
        "  with torch.no_grad():\n",
        "      for data in train_loader:\n",
        "          # get the inputs of the batch\n",
        "          inputs, _ = data\n",
        "          inputs = inputs.to(device)\n",
        "          # print(tf.shape(inputs))\n",
        "          outputs = model(inputs)\n",
        "          n_samples += outputs.shape[0]\n",
        "          c += torch.sum(outputs, dim=0)\n",
        "\n",
        "  c /= n_samples\n",
        "\n",
        "  # If c_i is too close to 0, set to +-eps. Reason: a zero unit can be trivially matched with zero weights.\n",
        "  c[(abs(c) < eps) & (c < 0)] = -eps\n",
        "  c[(abs(c) < eps) & (c > 0)] = eps\n",
        "\n",
        "  return c"
      ],
      "metadata": {
        "id": "myVS-G91GloQ"
      },
      "execution_count": 47,
      "outputs": []
    },
    {
      "cell_type": "code",
      "source": [
        "class AnomalyTrainer():\n",
        "  def __init__(self,epochs,model,train_dataloader,val_dataloader,test_dataloader,optimizer,loss_function,center,device):\n",
        "    self.epochs = epochs\n",
        "    self.model = model\n",
        "    self.train_dataloader = train_dataloader\n",
        "    self.val_dataloader = val_dataloader\n",
        "    self.test_dataloader = test_dataloader\n",
        "    self.optimizer = optimizer\n",
        "    self.loss_function = loss_function\n",
        "    self.center = center\n",
        "    self.device = torch.device(device)\n",
        "    # self.model = self.model.to(self.device)\n",
        "    self.model = model\n",
        "\n",
        "  def train(self):\n",
        "    train_losses = []\n",
        "    val_losses = []\n",
        "    #  For each Epoch, do the following:\n",
        "    for j in range(self.epochs):\n",
        "      running_loss = 0.0\n",
        "      for i, data in enumerate(self.train_dataloader, 0):\n",
        "        # get the inputs; data is a list of [inputs, labels]\n",
        "        inputs, labels = data\n",
        "\n",
        "        # zero the parameter gradients\n",
        "        self.optimizer.zero_grad()\n",
        "\n",
        "        # forward + backward + optimize\n",
        "        outputs = self.model(inputs.to(self.device))\n",
        "        loss = self.loss_function(outputs,self.center,self.device)\n",
        "        loss.backward()\n",
        "        self.optimizer.step()\n",
        "\n",
        "        #  Update loss\n",
        "        running_loss += loss.item()\n",
        "\n",
        "      # Print statistics once done\n",
        "      print(f' Epoch [{j + 1}/{self.epochs}] train_loss: {running_loss / i:.3f}')\n",
        "      train_losses.append(running_loss / i)\n",
        "      running_loss = 0.0\n",
        "\n",
        "      # Validating\n",
        "      val_loss = 0.0\n",
        "      for i, data in enumerate(self.val_dataloader, 0):\n",
        "        # Get the inputs and labels\n",
        "        inputs, labels = data\n",
        "\n",
        "        # Zero the parameter gradients\n",
        "        self.optimizer.zero_grad()\n",
        "\n",
        "        # Forward, Backward, Optimize\n",
        "        outputs = model(inputs.to(self.device))\n",
        "        loss = self.loss_function(outputs,labels,self.device)\n",
        "        val_loss += loss.item()\n",
        "\n",
        "      #  Print statistics once done\n",
        "      print(f' Epoch [{j + 1}/{self.epochs}] val_loss: {val_loss / i:.3f}')\n",
        "      val_losses.append(val_loss / i)\n",
        "      val_loss = 0.0\n",
        "    print('Finished Training')\n",
        "    # Plot the training and validation losses\n",
        "    plt.plot(range(1, self.epochs+1), train_losses, label='Train Loss')\n",
        "    plt.plot(range(1, self.epochs+1), val_losses, label='Val Loss')\n",
        "    plt.xlabel('Epoch')\n",
        "    plt.ylabel('Loss')\n",
        "    plt.title('Training and Validation Losses')\n",
        "    plt.legend()\n",
        "    plt.show()\n",
        "\n",
        "  def test(self):\n",
        "    test_scores = np.zeros((test_data.shape[0]))\n",
        "    with torch.no_grad():\n",
        "      for i,data in enumerate(self.test_dataloader):\n",
        "        # reconstruct test set\n",
        "        input, labels = data\n",
        "        outputs = self.model(input.to(self.device))\n",
        "        outputs = outputs.cpu().numpy()\n",
        "\n",
        "        #  Calculate RMSE\n",
        "        test_scores[i] = np.sqrt(np.sum(np.square(outputs - self.center.cpu().numpy())))\n",
        "\n",
        ""
      ],
      "metadata": {
        "id": "ozulHnpWG5PP"
      },
      "execution_count": 54,
      "outputs": []
    },
    {
      "cell_type": "code",
      "source": [
        "def run_experiment():\n",
        "    batch_size = 128\n",
        "    input_shape = (4,)\n",
        "    num_classes = 4\n",
        "\n",
        "    # Load training set\n",
        "    train_set = AnomalyData(input_shape,batch_size=batch_size,input_data=train_data, input_label=train_label)\n",
        "    train_dataloader = torch.utils.data.DataLoader(\n",
        "                train_set,\n",
        "                batch_size,\n",
        "                num_workers=1,\n",
        "                shuffle=True,\n",
        "            )\n",
        "\n",
        "    # Load validation set\n",
        "    val_set = AnomalyData(input_shape, batch_size=batch_size, input_data=val_data, input_label=val_labels)\n",
        "    val_dataloader = torch.utils.data.DataLoader(\n",
        "                val_set,\n",
        "                batch_size,\n",
        "                num_workers=1,\n",
        "                shuffle=True,\n",
        "            )\n",
        "\n",
        "    # Load testing set\n",
        "    test_set = AnomalyData(input_shape, batch_size=batch_size, input_data=test_data, input_label=test_labels)\n",
        "    test_dataloader = torch.utils.data.DataLoader(\n",
        "                test_set,\n",
        "                batch_size=1,\n",
        "                num_workers=1,\n",
        "                shuffle=True,\n",
        "            )\n",
        "    # Get device type\n",
        "    device = 'cuda' if torch.cuda.is_available() else 'cpu'\n",
        "\n",
        "    # Get model\n",
        "    model = Tabular_net_model(input_shape,device)\n",
        "\n",
        "    # Set device for model\n",
        "    model.to(device)\n",
        "\n",
        "    # Initialize hypersphere center\n",
        "    center = init_center_c(train_dataloader, model, device, eps=0.1)\n",
        "\n",
        "    #  Set Model Params\n",
        "    epochs = 30\n",
        "\n",
        "    optimizer = torch.optim.Adam(model.parameters(),lr=1e-2,weight_decay=1e-6,amsgrad=True)\n",
        "    scheduler = torch.optim.lr_scheduler.MultiStepLR(optimizer, milestones=[5,10,20], gamma=0.1)\n",
        "\n",
        "    #  Set Loss\n",
        "    loss_fn = CenterDistLoss\n",
        "\n",
        "    # Initialize trainer class\n",
        "    running = AnomalyTrainer(epochs,model,train_dataloader,val_dataloader,test_dataloader,optimizer,loss_function=loss_fn,center=center,device=device)\n",
        "\n",
        "    # Train Model\n",
        "    running.train()\n",
        "\n",
        "    # Test Model\n",
        "    running.test()"
      ],
      "metadata": {
        "id": "PANseLKwb1nC"
      },
      "execution_count": 64,
      "outputs": []
    },
    {
      "cell_type": "code",
      "source": [
        "run_experiment()"
      ],
      "metadata": {
        "colab": {
          "base_uri": "https://localhost:8080/",
          "height": 1000
        },
        "id": "LsOKoUq6HBPu",
        "outputId": "f9bab2e9-d0f1-4ad1-b226-696239f20dfc"
      },
      "execution_count": 65,
      "outputs": [
        {
          "output_type": "stream",
          "name": "stderr",
          "text": [
            "/usr/lib/python3.10/multiprocessing/popen_fork.py:66: RuntimeWarning: os.fork() was called. os.fork() is incompatible with multithreaded code, and JAX is multithreaded, so this will likely lead to a deadlock.\n",
            "  self.pid = os.fork()\n",
            "Exception ignored in: <function _MultiProcessingDataLoaderIter.__del__ at 0x798c01c3cf70>\n",
            "Traceback (most recent call last):\n",
            "  File \"/usr/local/lib/python3.10/dist-packages/torch/utils/data/dataloader.py\", line 1479, in __del__\n",
            "    self._shutdown_workers()\n",
            "  File \"/usr/local/lib/python3.10/dist-packages/torch/utils/data/dataloader.py\", line 1462, in _shutdown_workers\n",
            "    if w.is_alive():\n",
            "  File \"/usr/lib/python3.10/multiprocessing/process.py\", line 160, in is_alive\n",
            "    assert self._parent_pid == os.getpid(), 'can only test a child process'\n",
            "AssertionError: can only test a child process\n",
            "Exception ignored in: <function _MultiProcessingDataLoaderIter.__del__ at 0x798c01c3cf70>\n",
            "Traceback (most recent call last):\n",
            "  File \"/usr/local/lib/python3.10/dist-packages/torch/utils/data/dataloader.py\", line 1479, in __del__\n",
            "    self._shutdown_workers()\n",
            "  File \"/usr/local/lib/python3.10/dist-packages/torch/utils/data/dataloader.py\", line 1462, in _shutdown_workers\n",
            "    if w.is_alive():\n",
            "  File \"/usr/lib/python3.10/multiprocessing/process.py\", line 160, in is_alive\n",
            "    assert self._parent_pid == os.getpid(), 'can only test a child process'\n",
            "AssertionError: can only test a child process\n"
          ]
        },
        {
          "output_type": "stream",
          "name": "stdout",
          "text": [
            " Epoch [1/30] train_loss: 0.008\n"
          ]
        },
        {
          "output_type": "stream",
          "name": "stderr",
          "text": [
            "Exception ignored in: <function _MultiProcessingDataLoaderIter.__del__ at 0x798c01c3cf70>\n",
            "Traceback (most recent call last):\n",
            "  File \"/usr/local/lib/python3.10/dist-packages/torch/utils/data/dataloader.py\", line 1479, in __del__\n",
            "    self._shutdown_workers()\n",
            "  File \"/usr/local/lib/python3.10/dist-packages/torch/utils/data/dataloader.py\", line 1462, in _shutdown_workers\n",
            "    if w.is_alive():\n",
            "  File \"/usr/lib/python3.10/multiprocessing/process.py\", line 160, in is_alive\n",
            "    assert self._parent_pid == os.getpid(), 'can only test a child process'\n",
            "AssertionError: can only test a child process\n"
          ]
        },
        {
          "output_type": "stream",
          "name": "stdout",
          "text": [
            " Epoch [1/30] val_loss: 44.752\n"
          ]
        },
        {
          "output_type": "stream",
          "name": "stderr",
          "text": [
            "Exception ignored in: <function _MultiProcessingDataLoaderIter.__del__ at 0x798c01c3cf70>\n",
            "Traceback (most recent call last):\n",
            "  File \"/usr/local/lib/python3.10/dist-packages/torch/utils/data/dataloader.py\", line 1479, in __del__\n",
            "    self._shutdown_workers()\n",
            "  File \"/usr/local/lib/python3.10/dist-packages/torch/utils/data/dataloader.py\", line 1462, in _shutdown_workers\n",
            "    if w.is_alive():\n",
            "  File \"/usr/lib/python3.10/multiprocessing/process.py\", line 160, in is_alive\n",
            "    assert self._parent_pid == os.getpid(), 'can only test a child process'\n",
            "AssertionError: can only test a child process\n"
          ]
        },
        {
          "output_type": "stream",
          "name": "stdout",
          "text": [
            " Epoch [2/30] train_loss: 0.000\n"
          ]
        },
        {
          "output_type": "stream",
          "name": "stderr",
          "text": [
            "Exception ignored in: <function _MultiProcessingDataLoaderIter.__del__ at 0x798c01c3cf70>\n",
            "Traceback (most recent call last):\n",
            "  File \"/usr/local/lib/python3.10/dist-packages/torch/utils/data/dataloader.py\", line 1479, in __del__\n",
            "    self._shutdown_workers()\n",
            "  File \"/usr/local/lib/python3.10/dist-packages/torch/utils/data/dataloader.py\", line 1462, in _shutdown_workers\n",
            "    if w.is_alive():\n",
            "  File \"/usr/lib/python3.10/multiprocessing/process.py\", line 160, in is_alive\n",
            "    assert self._parent_pid == os.getpid(), 'can only test a child process'\n",
            "AssertionError: can only test a child process\n"
          ]
        },
        {
          "output_type": "stream",
          "name": "stdout",
          "text": [
            " Epoch [2/30] val_loss: 44.828\n"
          ]
        },
        {
          "output_type": "stream",
          "name": "stderr",
          "text": [
            "Exception ignored in: <function _MultiProcessingDataLoaderIter.__del__ at 0x798c01c3cf70>\n",
            "Traceback (most recent call last):\n",
            "  File \"/usr/local/lib/python3.10/dist-packages/torch/utils/data/dataloader.py\", line 1479, in __del__\n",
            "    self._shutdown_workers()\n",
            "  File \"/usr/local/lib/python3.10/dist-packages/torch/utils/data/dataloader.py\", line 1462, in _shutdown_workers\n",
            "    if w.is_alive():\n",
            "  File \"/usr/lib/python3.10/multiprocessing/process.py\", line 160, in is_alive\n",
            "    assert self._parent_pid == os.getpid(), 'can only test a child process'\n",
            "AssertionError: can only test a child process\n"
          ]
        },
        {
          "output_type": "stream",
          "name": "stdout",
          "text": [
            " Epoch [3/30] train_loss: 0.000\n"
          ]
        },
        {
          "output_type": "stream",
          "name": "stderr",
          "text": [
            "Exception ignored in: <function _MultiProcessingDataLoaderIter.__del__ at 0x798c01c3cf70>\n",
            "Traceback (most recent call last):\n",
            "  File \"/usr/local/lib/python3.10/dist-packages/torch/utils/data/dataloader.py\", line 1479, in __del__\n",
            "    self._shutdown_workers()\n",
            "  File \"/usr/local/lib/python3.10/dist-packages/torch/utils/data/dataloader.py\", line 1462, in _shutdown_workers\n",
            "    if w.is_alive():\n",
            "  File \"/usr/lib/python3.10/multiprocessing/process.py\", line 160, in is_alive\n",
            "    assert self._parent_pid == os.getpid(), 'can only test a child process'\n",
            "AssertionError: can only test a child process\n"
          ]
        },
        {
          "output_type": "stream",
          "name": "stdout",
          "text": [
            " Epoch [3/30] val_loss: 44.752\n"
          ]
        },
        {
          "output_type": "stream",
          "name": "stderr",
          "text": [
            "Exception ignored in: <function _MultiProcessingDataLoaderIter.__del__ at 0x798c01c3cf70>\n",
            "Traceback (most recent call last):\n",
            "  File \"/usr/local/lib/python3.10/dist-packages/torch/utils/data/dataloader.py\", line 1479, in __del__\n",
            "    self._shutdown_workers()\n",
            "  File \"/usr/local/lib/python3.10/dist-packages/torch/utils/data/dataloader.py\", line 1462, in _shutdown_workers\n",
            "    if w.is_alive():\n",
            "  File \"/usr/lib/python3.10/multiprocessing/process.py\", line 160, in is_alive\n",
            "    assert self._parent_pid == os.getpid(), 'can only test a child process'\n",
            "AssertionError: can only test a child process\n"
          ]
        },
        {
          "output_type": "stream",
          "name": "stdout",
          "text": [
            " Epoch [4/30] train_loss: 0.000\n"
          ]
        },
        {
          "output_type": "stream",
          "name": "stderr",
          "text": [
            "Exception ignored in: <function _MultiProcessingDataLoaderIter.__del__ at 0x798c01c3cf70>\n",
            "Traceback (most recent call last):\n",
            "  File \"/usr/local/lib/python3.10/dist-packages/torch/utils/data/dataloader.py\", line 1479, in __del__\n",
            "    self._shutdown_workers()\n",
            "  File \"/usr/local/lib/python3.10/dist-packages/torch/utils/data/dataloader.py\", line 1462, in _shutdown_workers\n",
            "    if w.is_alive():\n",
            "  File \"/usr/lib/python3.10/multiprocessing/process.py\", line 160, in is_alive\n",
            "    assert self._parent_pid == os.getpid(), 'can only test a child process'\n",
            "AssertionError: can only test a child process\n"
          ]
        },
        {
          "output_type": "stream",
          "name": "stdout",
          "text": [
            " Epoch [4/30] val_loss: 44.703\n"
          ]
        },
        {
          "output_type": "stream",
          "name": "stderr",
          "text": [
            "Exception ignored in: <function _MultiProcessingDataLoaderIter.__del__ at 0x798c01c3cf70>\n",
            "Traceback (most recent call last):\n",
            "  File \"/usr/local/lib/python3.10/dist-packages/torch/utils/data/dataloader.py\", line 1479, in __del__\n",
            "    self._shutdown_workers()\n",
            "  File \"/usr/local/lib/python3.10/dist-packages/torch/utils/data/dataloader.py\", line 1462, in _shutdown_workers\n",
            "    if w.is_alive():\n",
            "  File \"/usr/lib/python3.10/multiprocessing/process.py\", line 160, in is_alive\n",
            "    assert self._parent_pid == os.getpid(), 'can only test a child process'\n",
            "AssertionError: can only test a child process\n"
          ]
        },
        {
          "output_type": "stream",
          "name": "stdout",
          "text": [
            " Epoch [5/30] train_loss: 0.000\n"
          ]
        },
        {
          "output_type": "stream",
          "name": "stderr",
          "text": [
            "Exception ignored in: <function _MultiProcessingDataLoaderIter.__del__ at 0x798c01c3cf70>\n",
            "Traceback (most recent call last):\n",
            "  File \"/usr/local/lib/python3.10/dist-packages/torch/utils/data/dataloader.py\", line 1479, in __del__\n",
            "    self._shutdown_workers()\n",
            "  File \"/usr/local/lib/python3.10/dist-packages/torch/utils/data/dataloader.py\", line 1462, in _shutdown_workers\n",
            "    if w.is_alive():\n",
            "  File \"/usr/lib/python3.10/multiprocessing/process.py\", line 160, in is_alive\n",
            "    assert self._parent_pid == os.getpid(), 'can only test a child process'\n",
            "AssertionError: can only test a child process\n"
          ]
        },
        {
          "output_type": "stream",
          "name": "stdout",
          "text": [
            " Epoch [5/30] val_loss: 44.719\n"
          ]
        },
        {
          "output_type": "stream",
          "name": "stderr",
          "text": [
            "Exception ignored in: <function _MultiProcessingDataLoaderIter.__del__ at 0x798c01c3cf70>\n",
            "Traceback (most recent call last):\n",
            "  File \"/usr/local/lib/python3.10/dist-packages/torch/utils/data/dataloader.py\", line 1479, in __del__\n",
            "    self._shutdown_workers()\n",
            "  File \"/usr/local/lib/python3.10/dist-packages/torch/utils/data/dataloader.py\", line 1462, in _shutdown_workers\n",
            "    if w.is_alive():\n",
            "  File \"/usr/lib/python3.10/multiprocessing/process.py\", line 160, in is_alive\n",
            "    assert self._parent_pid == os.getpid(), 'can only test a child process'\n",
            "AssertionError: can only test a child process\n"
          ]
        },
        {
          "output_type": "stream",
          "name": "stdout",
          "text": [
            " Epoch [6/30] train_loss: 0.000\n"
          ]
        },
        {
          "output_type": "stream",
          "name": "stderr",
          "text": [
            "Exception ignored in: <function _MultiProcessingDataLoaderIter.__del__ at 0x798c01c3cf70>\n",
            "Traceback (most recent call last):\n",
            "  File \"/usr/local/lib/python3.10/dist-packages/torch/utils/data/dataloader.py\", line 1479, in __del__\n",
            "    self._shutdown_workers()\n",
            "  File \"/usr/local/lib/python3.10/dist-packages/torch/utils/data/dataloader.py\", line 1462, in _shutdown_workers\n",
            "    if w.is_alive():\n",
            "  File \"/usr/lib/python3.10/multiprocessing/process.py\", line 160, in is_alive\n",
            "    assert self._parent_pid == os.getpid(), 'can only test a child process'\n",
            "AssertionError: can only test a child process\n"
          ]
        },
        {
          "output_type": "stream",
          "name": "stdout",
          "text": [
            " Epoch [6/30] val_loss: 44.684\n"
          ]
        },
        {
          "output_type": "stream",
          "name": "stderr",
          "text": [
            "Exception ignored in: <function _MultiProcessingDataLoaderIter.__del__ at 0x798c01c3cf70>\n",
            "Traceback (most recent call last):\n",
            "  File \"/usr/local/lib/python3.10/dist-packages/torch/utils/data/dataloader.py\", line 1479, in __del__\n",
            "    self._shutdown_workers()\n",
            "  File \"/usr/local/lib/python3.10/dist-packages/torch/utils/data/dataloader.py\", line 1462, in _shutdown_workers\n",
            "    if w.is_alive():\n",
            "  File \"/usr/lib/python3.10/multiprocessing/process.py\", line 160, in is_alive\n",
            "    assert self._parent_pid == os.getpid(), 'can only test a child process'\n",
            "AssertionError: can only test a child process\n"
          ]
        },
        {
          "output_type": "stream",
          "name": "stdout",
          "text": [
            " Epoch [7/30] train_loss: 0.000\n"
          ]
        },
        {
          "output_type": "stream",
          "name": "stderr",
          "text": [
            "Exception ignored in: <function _MultiProcessingDataLoaderIter.__del__ at 0x798c01c3cf70>\n",
            "Traceback (most recent call last):\n",
            "  File \"/usr/local/lib/python3.10/dist-packages/torch/utils/data/dataloader.py\", line 1479, in __del__\n",
            "    self._shutdown_workers()\n",
            "  File \"/usr/local/lib/python3.10/dist-packages/torch/utils/data/dataloader.py\", line 1462, in _shutdown_workers\n",
            "    if w.is_alive():\n",
            "  File \"/usr/lib/python3.10/multiprocessing/process.py\", line 160, in is_alive\n",
            "    assert self._parent_pid == os.getpid(), 'can only test a child process'\n",
            "AssertionError: can only test a child process\n"
          ]
        },
        {
          "output_type": "stream",
          "name": "stdout",
          "text": [
            " Epoch [7/30] val_loss: 44.752\n"
          ]
        },
        {
          "output_type": "stream",
          "name": "stderr",
          "text": [
            "Exception ignored in: <function _MultiProcessingDataLoaderIter.__del__ at 0x798c01c3cf70>\n",
            "Traceback (most recent call last):\n",
            "  File \"/usr/local/lib/python3.10/dist-packages/torch/utils/data/dataloader.py\", line 1479, in __del__\n",
            "    self._shutdown_workers()\n",
            "  File \"/usr/local/lib/python3.10/dist-packages/torch/utils/data/dataloader.py\", line 1462, in _shutdown_workers\n",
            "    if w.is_alive():\n",
            "  File \"/usr/lib/python3.10/multiprocessing/process.py\", line 160, in is_alive\n",
            "    assert self._parent_pid == os.getpid(), 'can only test a child process'\n",
            "AssertionError: can only test a child process\n"
          ]
        },
        {
          "output_type": "stream",
          "name": "stdout",
          "text": [
            " Epoch [8/30] train_loss: 0.000\n"
          ]
        },
        {
          "output_type": "stream",
          "name": "stderr",
          "text": [
            "Exception ignored in: <function _MultiProcessingDataLoaderIter.__del__ at 0x798c01c3cf70>\n",
            "Traceback (most recent call last):\n",
            "  File \"/usr/local/lib/python3.10/dist-packages/torch/utils/data/dataloader.py\", line 1479, in __del__\n",
            "    self._shutdown_workers()\n",
            "  File \"/usr/local/lib/python3.10/dist-packages/torch/utils/data/dataloader.py\", line 1462, in _shutdown_workers\n",
            "    if w.is_alive():\n",
            "  File \"/usr/lib/python3.10/multiprocessing/process.py\", line 160, in is_alive\n",
            "    assert self._parent_pid == os.getpid(), 'can only test a child process'\n",
            "AssertionError: can only test a child process\n"
          ]
        },
        {
          "output_type": "stream",
          "name": "stdout",
          "text": [
            " Epoch [8/30] val_loss: 44.763\n"
          ]
        },
        {
          "output_type": "stream",
          "name": "stderr",
          "text": [
            "Exception ignored in: <function _MultiProcessingDataLoaderIter.__del__ at 0x798c01c3cf70>\n",
            "Traceback (most recent call last):\n",
            "  File \"/usr/local/lib/python3.10/dist-packages/torch/utils/data/dataloader.py\", line 1479, in __del__\n",
            "    self._shutdown_workers()\n",
            "  File \"/usr/local/lib/python3.10/dist-packages/torch/utils/data/dataloader.py\", line 1462, in _shutdown_workers\n",
            "    if w.is_alive():\n",
            "  File \"/usr/lib/python3.10/multiprocessing/process.py\", line 160, in is_alive\n",
            "    assert self._parent_pid == os.getpid(), 'can only test a child process'\n",
            "AssertionError: can only test a child process\n"
          ]
        },
        {
          "output_type": "stream",
          "name": "stdout",
          "text": [
            " Epoch [9/30] train_loss: 0.000\n"
          ]
        },
        {
          "output_type": "stream",
          "name": "stderr",
          "text": [
            "Exception ignored in: <function _MultiProcessingDataLoaderIter.__del__ at 0x798c01c3cf70>\n",
            "Traceback (most recent call last):\n",
            "  File \"/usr/local/lib/python3.10/dist-packages/torch/utils/data/dataloader.py\", line 1479, in __del__\n",
            "    self._shutdown_workers()\n",
            "  File \"/usr/local/lib/python3.10/dist-packages/torch/utils/data/dataloader.py\", line 1462, in _shutdown_workers\n",
            "    if w.is_alive():\n",
            "  File \"/usr/lib/python3.10/multiprocessing/process.py\", line 160, in is_alive\n",
            "    assert self._parent_pid == os.getpid(), 'can only test a child process'\n",
            "AssertionError: can only test a child process\n"
          ]
        },
        {
          "output_type": "stream",
          "name": "stdout",
          "text": [
            " Epoch [9/30] val_loss: 44.697\n"
          ]
        },
        {
          "output_type": "stream",
          "name": "stderr",
          "text": [
            "Exception ignored in: <function _MultiProcessingDataLoaderIter.__del__ at 0x798c01c3cf70>\n",
            "Traceback (most recent call last):\n",
            "  File \"/usr/local/lib/python3.10/dist-packages/torch/utils/data/dataloader.py\", line 1479, in __del__\n",
            "    self._shutdown_workers()\n",
            "  File \"/usr/local/lib/python3.10/dist-packages/torch/utils/data/dataloader.py\", line 1462, in _shutdown_workers\n",
            "    if w.is_alive():\n",
            "  File \"/usr/lib/python3.10/multiprocessing/process.py\", line 160, in is_alive\n",
            "    assert self._parent_pid == os.getpid(), 'can only test a child process'\n",
            "AssertionError: can only test a child process\n"
          ]
        },
        {
          "output_type": "stream",
          "name": "stdout",
          "text": [
            " Epoch [10/30] train_loss: 0.000\n"
          ]
        },
        {
          "output_type": "stream",
          "name": "stderr",
          "text": [
            "Exception ignored in: <function _MultiProcessingDataLoaderIter.__del__ at 0x798c01c3cf70>\n",
            "Traceback (most recent call last):\n",
            "  File \"/usr/local/lib/python3.10/dist-packages/torch/utils/data/dataloader.py\", line 1479, in __del__\n",
            "    self._shutdown_workers()\n",
            "  File \"/usr/local/lib/python3.10/dist-packages/torch/utils/data/dataloader.py\", line 1462, in _shutdown_workers\n",
            "    if w.is_alive():\n",
            "  File \"/usr/lib/python3.10/multiprocessing/process.py\", line 160, in is_alive\n",
            "    assert self._parent_pid == os.getpid(), 'can only test a child process'\n",
            "AssertionError: can only test a child process\n"
          ]
        },
        {
          "output_type": "stream",
          "name": "stdout",
          "text": [
            " Epoch [10/30] val_loss: 44.715\n"
          ]
        },
        {
          "output_type": "stream",
          "name": "stderr",
          "text": [
            "Exception ignored in: <function _MultiProcessingDataLoaderIter.__del__ at 0x798c01c3cf70>\n",
            "Traceback (most recent call last):\n",
            "  File \"/usr/local/lib/python3.10/dist-packages/torch/utils/data/dataloader.py\", line 1479, in __del__\n",
            "    self._shutdown_workers()\n",
            "  File \"/usr/local/lib/python3.10/dist-packages/torch/utils/data/dataloader.py\", line 1462, in _shutdown_workers\n",
            "    if w.is_alive():\n",
            "  File \"/usr/lib/python3.10/multiprocessing/process.py\", line 160, in is_alive\n",
            "    assert self._parent_pid == os.getpid(), 'can only test a child process'\n",
            "AssertionError: can only test a child process\n"
          ]
        },
        {
          "output_type": "stream",
          "name": "stdout",
          "text": [
            " Epoch [11/30] train_loss: 0.000\n"
          ]
        },
        {
          "output_type": "stream",
          "name": "stderr",
          "text": [
            "Exception ignored in: <function _MultiProcessingDataLoaderIter.__del__ at 0x798c01c3cf70>\n",
            "Traceback (most recent call last):\n",
            "  File \"/usr/local/lib/python3.10/dist-packages/torch/utils/data/dataloader.py\", line 1479, in __del__\n",
            "    self._shutdown_workers()\n",
            "  File \"/usr/local/lib/python3.10/dist-packages/torch/utils/data/dataloader.py\", line 1462, in _shutdown_workers\n",
            "    if w.is_alive():\n",
            "  File \"/usr/lib/python3.10/multiprocessing/process.py\", line 160, in is_alive\n",
            "    assert self._parent_pid == os.getpid(), 'can only test a child process'\n",
            "AssertionError: can only test a child process\n"
          ]
        },
        {
          "output_type": "stream",
          "name": "stdout",
          "text": [
            " Epoch [11/30] val_loss: 44.762\n"
          ]
        },
        {
          "output_type": "stream",
          "name": "stderr",
          "text": [
            "Exception ignored in: <function _MultiProcessingDataLoaderIter.__del__ at 0x798c01c3cf70>\n",
            "Traceback (most recent call last):\n",
            "  File \"/usr/local/lib/python3.10/dist-packages/torch/utils/data/dataloader.py\", line 1479, in __del__\n",
            "    self._shutdown_workers()\n",
            "  File \"/usr/local/lib/python3.10/dist-packages/torch/utils/data/dataloader.py\", line 1462, in _shutdown_workers\n",
            "    if w.is_alive():\n",
            "  File \"/usr/lib/python3.10/multiprocessing/process.py\", line 160, in is_alive\n",
            "    assert self._parent_pid == os.getpid(), 'can only test a child process'\n",
            "AssertionError: can only test a child process\n"
          ]
        },
        {
          "output_type": "stream",
          "name": "stdout",
          "text": [
            " Epoch [12/30] train_loss: 0.000\n"
          ]
        },
        {
          "output_type": "stream",
          "name": "stderr",
          "text": [
            "Exception ignored in: <function _MultiProcessingDataLoaderIter.__del__ at 0x798c01c3cf70>\n",
            "Traceback (most recent call last):\n",
            "  File \"/usr/local/lib/python3.10/dist-packages/torch/utils/data/dataloader.py\", line 1479, in __del__\n",
            "    self._shutdown_workers()\n",
            "  File \"/usr/local/lib/python3.10/dist-packages/torch/utils/data/dataloader.py\", line 1462, in _shutdown_workers\n",
            "    if w.is_alive():\n",
            "  File \"/usr/lib/python3.10/multiprocessing/process.py\", line 160, in is_alive\n",
            "    assert self._parent_pid == os.getpid(), 'can only test a child process'\n",
            "AssertionError: can only test a child process\n"
          ]
        },
        {
          "output_type": "stream",
          "name": "stdout",
          "text": [
            " Epoch [12/30] val_loss: 44.725\n"
          ]
        },
        {
          "output_type": "stream",
          "name": "stderr",
          "text": [
            "Exception ignored in: <function _MultiProcessingDataLoaderIter.__del__ at 0x798c01c3cf70>\n",
            "Traceback (most recent call last):\n",
            "  File \"/usr/local/lib/python3.10/dist-packages/torch/utils/data/dataloader.py\", line 1479, in __del__\n",
            "    self._shutdown_workers()\n",
            "  File \"/usr/local/lib/python3.10/dist-packages/torch/utils/data/dataloader.py\", line 1462, in _shutdown_workers\n",
            "    if w.is_alive():\n",
            "  File \"/usr/lib/python3.10/multiprocessing/process.py\", line 160, in is_alive\n",
            "    assert self._parent_pid == os.getpid(), 'can only test a child process'\n",
            "AssertionError: can only test a child process\n"
          ]
        },
        {
          "output_type": "stream",
          "name": "stdout",
          "text": [
            " Epoch [13/30] train_loss: 0.000\n"
          ]
        },
        {
          "output_type": "stream",
          "name": "stderr",
          "text": [
            "Exception ignored in: <function _MultiProcessingDataLoaderIter.__del__ at 0x798c01c3cf70>\n",
            "Traceback (most recent call last):\n",
            "  File \"/usr/local/lib/python3.10/dist-packages/torch/utils/data/dataloader.py\", line 1479, in __del__\n",
            "    self._shutdown_workers()\n",
            "  File \"/usr/local/lib/python3.10/dist-packages/torch/utils/data/dataloader.py\", line 1462, in _shutdown_workers\n",
            "    if w.is_alive():\n",
            "  File \"/usr/lib/python3.10/multiprocessing/process.py\", line 160, in is_alive\n",
            "    assert self._parent_pid == os.getpid(), 'can only test a child process'\n",
            "AssertionError: can only test a child process\n"
          ]
        },
        {
          "output_type": "stream",
          "name": "stdout",
          "text": [
            " Epoch [13/30] val_loss: 44.688\n"
          ]
        },
        {
          "output_type": "stream",
          "name": "stderr",
          "text": [
            "Exception ignored in: <function _MultiProcessingDataLoaderIter.__del__ at 0x798c01c3cf70>\n",
            "Traceback (most recent call last):\n",
            "  File \"/usr/local/lib/python3.10/dist-packages/torch/utils/data/dataloader.py\", line 1479, in __del__\n",
            "    self._shutdown_workers()\n",
            "  File \"/usr/local/lib/python3.10/dist-packages/torch/utils/data/dataloader.py\", line 1462, in _shutdown_workers\n",
            "    if w.is_alive():\n",
            "  File \"/usr/lib/python3.10/multiprocessing/process.py\", line 160, in is_alive\n",
            "    assert self._parent_pid == os.getpid(), 'can only test a child process'\n",
            "AssertionError: can only test a child process\n"
          ]
        },
        {
          "output_type": "stream",
          "name": "stdout",
          "text": [
            " Epoch [14/30] train_loss: 0.000\n"
          ]
        },
        {
          "output_type": "stream",
          "name": "stderr",
          "text": [
            "Exception ignored in: <function _MultiProcessingDataLoaderIter.__del__ at 0x798c01c3cf70>\n",
            "Traceback (most recent call last):\n",
            "  File \"/usr/local/lib/python3.10/dist-packages/torch/utils/data/dataloader.py\", line 1479, in __del__\n",
            "    self._shutdown_workers()\n",
            "  File \"/usr/local/lib/python3.10/dist-packages/torch/utils/data/dataloader.py\", line 1462, in _shutdown_workers\n",
            "    if w.is_alive():\n",
            "  File \"/usr/lib/python3.10/multiprocessing/process.py\", line 160, in is_alive\n",
            "    assert self._parent_pid == os.getpid(), 'can only test a child process'\n",
            "AssertionError: can only test a child process\n"
          ]
        },
        {
          "output_type": "stream",
          "name": "stdout",
          "text": [
            " Epoch [14/30] val_loss: 44.765\n"
          ]
        },
        {
          "output_type": "stream",
          "name": "stderr",
          "text": [
            "Exception ignored in: <function _MultiProcessingDataLoaderIter.__del__ at 0x798c01c3cf70>\n",
            "Traceback (most recent call last):\n",
            "  File \"/usr/local/lib/python3.10/dist-packages/torch/utils/data/dataloader.py\", line 1479, in __del__\n",
            "    self._shutdown_workers()\n",
            "  File \"/usr/local/lib/python3.10/dist-packages/torch/utils/data/dataloader.py\", line 1462, in _shutdown_workers\n",
            "    if w.is_alive():\n",
            "  File \"/usr/lib/python3.10/multiprocessing/process.py\", line 160, in is_alive\n",
            "    assert self._parent_pid == os.getpid(), 'can only test a child process'\n",
            "AssertionError: can only test a child process\n"
          ]
        },
        {
          "output_type": "stream",
          "name": "stdout",
          "text": [
            " Epoch [15/30] train_loss: 0.000\n"
          ]
        },
        {
          "output_type": "stream",
          "name": "stderr",
          "text": [
            "Exception ignored in: <function _MultiProcessingDataLoaderIter.__del__ at 0x798c01c3cf70>\n",
            "Traceback (most recent call last):\n",
            "  File \"/usr/local/lib/python3.10/dist-packages/torch/utils/data/dataloader.py\", line 1479, in __del__\n",
            "    self._shutdown_workers()\n",
            "  File \"/usr/local/lib/python3.10/dist-packages/torch/utils/data/dataloader.py\", line 1462, in _shutdown_workers\n",
            "    if w.is_alive():\n",
            "  File \"/usr/lib/python3.10/multiprocessing/process.py\", line 160, in is_alive\n",
            "    assert self._parent_pid == os.getpid(), 'can only test a child process'\n",
            "AssertionError: can only test a child process\n"
          ]
        },
        {
          "output_type": "error",
          "ename": "KeyboardInterrupt",
          "evalue": "",
          "traceback": [
            "\u001b[0;31m---------------------------------------------------------------------------\u001b[0m",
            "\u001b[0;31mKeyboardInterrupt\u001b[0m                         Traceback (most recent call last)",
            "\u001b[0;32m<ipython-input-65-400188e9bc26>\u001b[0m in \u001b[0;36m<cell line: 1>\u001b[0;34m()\u001b[0m\n\u001b[0;32m----> 1\u001b[0;31m \u001b[0mrun_experiment\u001b[0m\u001b[0;34m(\u001b[0m\u001b[0;34m)\u001b[0m\u001b[0;34m\u001b[0m\u001b[0;34m\u001b[0m\u001b[0m\n\u001b[0m",
            "\u001b[0;32m<ipython-input-64-29ff35505944>\u001b[0m in \u001b[0;36mrun_experiment\u001b[0;34m()\u001b[0m\n\u001b[1;32m     55\u001b[0m \u001b[0;34m\u001b[0m\u001b[0m\n\u001b[1;32m     56\u001b[0m     \u001b[0;31m# Train Model\u001b[0m\u001b[0;34m\u001b[0m\u001b[0;34m\u001b[0m\u001b[0m\n\u001b[0;32m---> 57\u001b[0;31m     \u001b[0mrunning\u001b[0m\u001b[0;34m.\u001b[0m\u001b[0mtrain\u001b[0m\u001b[0;34m(\u001b[0m\u001b[0;34m)\u001b[0m\u001b[0;34m\u001b[0m\u001b[0;34m\u001b[0m\u001b[0m\n\u001b[0m\u001b[1;32m     58\u001b[0m \u001b[0;34m\u001b[0m\u001b[0m\n\u001b[1;32m     59\u001b[0m     \u001b[0;31m# Test Model\u001b[0m\u001b[0;34m\u001b[0m\u001b[0;34m\u001b[0m\u001b[0m\n",
            "\u001b[0;32m<ipython-input-54-061dbd019e75>\u001b[0m in \u001b[0;36mtrain\u001b[0;34m(self)\u001b[0m\n\u001b[1;32m     51\u001b[0m         \u001b[0;31m# Forward, Backward, Optimize\u001b[0m\u001b[0;34m\u001b[0m\u001b[0;34m\u001b[0m\u001b[0m\n\u001b[1;32m     52\u001b[0m         \u001b[0moutputs\u001b[0m \u001b[0;34m=\u001b[0m \u001b[0mmodel\u001b[0m\u001b[0;34m(\u001b[0m\u001b[0minputs\u001b[0m\u001b[0;34m.\u001b[0m\u001b[0mto\u001b[0m\u001b[0;34m(\u001b[0m\u001b[0mself\u001b[0m\u001b[0;34m.\u001b[0m\u001b[0mdevice\u001b[0m\u001b[0;34m)\u001b[0m\u001b[0;34m)\u001b[0m\u001b[0;34m\u001b[0m\u001b[0;34m\u001b[0m\u001b[0m\n\u001b[0;32m---> 53\u001b[0;31m         \u001b[0mloss\u001b[0m \u001b[0;34m=\u001b[0m \u001b[0mself\u001b[0m\u001b[0;34m.\u001b[0m\u001b[0mloss_function\u001b[0m\u001b[0;34m(\u001b[0m\u001b[0moutputs\u001b[0m\u001b[0;34m,\u001b[0m\u001b[0mlabels\u001b[0m\u001b[0;34m,\u001b[0m\u001b[0mself\u001b[0m\u001b[0;34m.\u001b[0m\u001b[0mdevice\u001b[0m\u001b[0;34m)\u001b[0m\u001b[0;34m\u001b[0m\u001b[0;34m\u001b[0m\u001b[0m\n\u001b[0m\u001b[1;32m     54\u001b[0m         \u001b[0mval_loss\u001b[0m \u001b[0;34m+=\u001b[0m \u001b[0mloss\u001b[0m\u001b[0;34m.\u001b[0m\u001b[0mitem\u001b[0m\u001b[0;34m(\u001b[0m\u001b[0;34m)\u001b[0m\u001b[0;34m\u001b[0m\u001b[0;34m\u001b[0m\u001b[0m\n\u001b[1;32m     55\u001b[0m \u001b[0;34m\u001b[0m\u001b[0m\n",
            "\u001b[0;32m<ipython-input-46-ab87219b0f4a>\u001b[0m in \u001b[0;36mCenterDistLoss\u001b[0;34m(outputs, center, device)\u001b[0m\n\u001b[1;32m      3\u001b[0m \u001b[0;31m#  Loss function\u001b[0m\u001b[0;34m\u001b[0m\u001b[0;34m\u001b[0m\u001b[0m\n\u001b[1;32m      4\u001b[0m \u001b[0;32mdef\u001b[0m \u001b[0mCenterDistLoss\u001b[0m\u001b[0;34m(\u001b[0m\u001b[0moutputs\u001b[0m\u001b[0;34m,\u001b[0m\u001b[0mcenter\u001b[0m\u001b[0;34m,\u001b[0m\u001b[0mdevice\u001b[0m\u001b[0;34m)\u001b[0m\u001b[0;34m:\u001b[0m\u001b[0;34m\u001b[0m\u001b[0;34m\u001b[0m\u001b[0m\n\u001b[0;32m----> 5\u001b[0;31m   \u001b[0mdist\u001b[0m \u001b[0;34m=\u001b[0m \u001b[0mtorch\u001b[0m\u001b[0;34m.\u001b[0m\u001b[0msum\u001b[0m\u001b[0;34m(\u001b[0m\u001b[0;34m(\u001b[0m\u001b[0moutputs\u001b[0m\u001b[0;34m.\u001b[0m\u001b[0mto\u001b[0m\u001b[0;34m(\u001b[0m\u001b[0mdevice\u001b[0m\u001b[0;34m)\u001b[0m \u001b[0;34m-\u001b[0m \u001b[0mcenter\u001b[0m\u001b[0;34m.\u001b[0m\u001b[0mto\u001b[0m\u001b[0;34m(\u001b[0m\u001b[0mdevice\u001b[0m\u001b[0;34m)\u001b[0m\u001b[0;34m)\u001b[0m \u001b[0;34m**\u001b[0m \u001b[0;36m2\u001b[0m\u001b[0;34m,\u001b[0m \u001b[0mdim\u001b[0m\u001b[0;34m=\u001b[0m\u001b[0;36m1\u001b[0m\u001b[0;34m)\u001b[0m\u001b[0;34m\u001b[0m\u001b[0;34m\u001b[0m\u001b[0m\n\u001b[0m\u001b[1;32m      6\u001b[0m   \u001b[0;32mreturn\u001b[0m \u001b[0mtorch\u001b[0m\u001b[0;34m.\u001b[0m\u001b[0mmean\u001b[0m\u001b[0;34m(\u001b[0m\u001b[0mdist\u001b[0m\u001b[0;34m)\u001b[0m\u001b[0;34m\u001b[0m\u001b[0;34m\u001b[0m\u001b[0m\n",
            "\u001b[0;31mKeyboardInterrupt\u001b[0m: "
          ]
        }
      ]
    },
    {
      "cell_type": "code",
      "source": [
        "from sklearn.metrics import roc_auc_score\n",
        "print(test_scores)\n",
        "test_auc = roc_auc_score(test_labels, test_scores)\n",
        "print(\"Test_auc:\", test_auc)"
      ],
      "metadata": {
        "colab": {
          "base_uri": "https://localhost:8080/"
        },
        "id": "ErKkgrcHfnWU",
        "outputId": "bd406729-b093-47df-f0bf-679784fe9841"
      },
      "execution_count": 86,
      "outputs": [
        {
          "output_type": "stream",
          "name": "stdout",
          "text": [
            "[1694.6035504 1914.0877869 1585.3348802 ...    0.           0.\n",
            "    0.       ]\n",
            "Test_auc: 0.4996422164873231\n"
          ]
        }
      ]
    },
    {
      "cell_type": "code",
      "source": [
        "from sklearn.metrics import roc_curve\n",
        "from sklearn.metrics import RocCurveDisplay\n",
        "y_test = test_labels\n",
        "y_pred = test_scores\n",
        "def plot_sklearn_roc_curve(y_real, y_pred):\n",
        "    fpr, tpr, _ = roc_curve(y_real, y_pred)\n",
        "    roc_display = RocCurveDisplay(fpr=fpr, tpr=tpr).plot()\n",
        "    roc_display.figure_.set_size_inches(5,5)\n",
        "    plt.plot([0, 1], [0, 1], color = 'g')\n",
        "# Plots the ROC curve using the sklearn methods - Good plot\n",
        "# plot_sklearn_roc_curve(y_test, y_proba[:, 1])\n",
        "# Plots the ROC curve using the sklearn methods - Bad plot\n",
        "plot_sklearn_roc_curve(y_test, y_pred)"
      ],
      "metadata": {
        "colab": {
          "base_uri": "https://localhost:8080/",
          "height": 465
        },
        "id": "0kOt2_anmjMv",
        "outputId": "3c84a946-d98b-4dfb-f042-ce80451024d4"
      },
      "execution_count": 87,
      "outputs": [
        {
          "output_type": "display_data",
          "data": {
            "text/plain": [
              "<Figure size 500x500 with 1 Axes>"
            ],
            "image/png": "[encoded data removed]"
          },
          "metadata": {}
        }
      ]
    },
    {
      "cell_type": "code",
      "source": [
        "# Calculate precision and recall\n",
        "from sklearn.metrics import precision_score, recall_score, accuracy_score\n",
        "precision = precision_score(np.squeeze(test_labels), test_scores)\n",
        "recall = recall_score(np.squeeze(test_labels), test_scores)\n",
        "accuracy = accuracy_score(np.squeeze(test_labels), test_scores)\n",
        "print(\"Accuracy: \", accuracy)\n",
        "print(\"Precision: \", precision)\n",
        "print(\"Recall: \", recall)"
      ],
      "metadata": {
        "colab": {
          "base_uri": "https://localhost:8080/",
          "height": 391
        },
        "id": "EJW2VfV2S_zn",
        "outputId": "84193bf2-2847-4501-cb38-a5019bc1024d"
      },
      "execution_count": 76,
      "outputs": [
        {
          "output_type": "error",
          "ename": "ValueError",
          "evalue": "Classification metrics can't handle a mix of binary and continuous targets",
          "traceback": [
            "\u001b[0;31m---------------------------------------------------------------------------\u001b[0m",
            "\u001b[0;31mValueError\u001b[0m                                Traceback (most recent call last)",
            "\u001b[0;32m<ipython-input-76-37fe600412b0>\u001b[0m in \u001b[0;36m<cell line: 3>\u001b[0;34m()\u001b[0m\n\u001b[1;32m      1\u001b[0m \u001b[0;31m# Calculate precision and recall\u001b[0m\u001b[0;34m\u001b[0m\u001b[0;34m\u001b[0m\u001b[0m\n\u001b[1;32m      2\u001b[0m \u001b[0;32mfrom\u001b[0m \u001b[0msklearn\u001b[0m\u001b[0;34m.\u001b[0m\u001b[0mmetrics\u001b[0m \u001b[0;32mimport\u001b[0m \u001b[0mprecision_score\u001b[0m\u001b[0;34m,\u001b[0m \u001b[0mrecall_score\u001b[0m\u001b[0;34m,\u001b[0m \u001b[0maccuracy_score\u001b[0m\u001b[0;34m\u001b[0m\u001b[0;34m\u001b[0m\u001b[0m\n\u001b[0;32m----> 3\u001b[0;31m \u001b[0mprecision\u001b[0m \u001b[0;34m=\u001b[0m \u001b[0mprecision_score\u001b[0m\u001b[0;34m(\u001b[0m\u001b[0mnp\u001b[0m\u001b[0;34m.\u001b[0m\u001b[0msqueeze\u001b[0m\u001b[0;34m(\u001b[0m\u001b[0mtest_labels\u001b[0m\u001b[0;34m)\u001b[0m\u001b[0;34m,\u001b[0m \u001b[0mtest_scores\u001b[0m\u001b[0;34m)\u001b[0m\u001b[0;34m\u001b[0m\u001b[0;34m\u001b[0m\u001b[0m\n\u001b[0m\u001b[1;32m      4\u001b[0m \u001b[0mrecall\u001b[0m \u001b[0;34m=\u001b[0m \u001b[0mrecall_score\u001b[0m\u001b[0;34m(\u001b[0m\u001b[0mnp\u001b[0m\u001b[0;34m.\u001b[0m\u001b[0msqueeze\u001b[0m\u001b[0;34m(\u001b[0m\u001b[0mtest_labels\u001b[0m\u001b[0;34m)\u001b[0m\u001b[0;34m,\u001b[0m \u001b[0mtest_scores\u001b[0m\u001b[0;34m)\u001b[0m\u001b[0;34m\u001b[0m\u001b[0;34m\u001b[0m\u001b[0m\n\u001b[1;32m      5\u001b[0m \u001b[0maccuracy\u001b[0m \u001b[0;34m=\u001b[0m \u001b[0maccuracy_score\u001b[0m\u001b[0;34m(\u001b[0m\u001b[0mnp\u001b[0m\u001b[0;34m.\u001b[0m\u001b[0msqueeze\u001b[0m\u001b[0;34m(\u001b[0m\u001b[0mtest_labels\u001b[0m\u001b[0;34m)\u001b[0m\u001b[0;34m,\u001b[0m \u001b[0mtest_scores\u001b[0m\u001b[0;34m)\u001b[0m\u001b[0;34m\u001b[0m\u001b[0;34m\u001b[0m\u001b[0m\n",
            "\u001b[0;32m/usr/local/lib/python3.10/dist-packages/sklearn/metrics/_classification.py\u001b[0m in \u001b[0;36mprecision_score\u001b[0;34m(y_true, y_pred, labels, pos_label, average, sample_weight, zero_division)\u001b[0m\n\u001b[1;32m   1952\u001b[0m     \u001b[0marray\u001b[0m\u001b[0;34m(\u001b[0m\u001b[0;34m[\u001b[0m\u001b[0;36m0.5\u001b[0m\u001b[0;34m,\u001b[0m \u001b[0;36m1.\u001b[0m \u001b[0;34m,\u001b[0m \u001b[0;36m1.\u001b[0m \u001b[0;34m]\u001b[0m\u001b[0;34m)\u001b[0m\u001b[0;34m\u001b[0m\u001b[0;34m\u001b[0m\u001b[0m\n\u001b[1;32m   1953\u001b[0m     \"\"\"\n\u001b[0;32m-> 1954\u001b[0;31m     p, _, _, _ = precision_recall_fscore_support(\n\u001b[0m\u001b[1;32m   1955\u001b[0m         \u001b[0my_true\u001b[0m\u001b[0;34m,\u001b[0m\u001b[0;34m\u001b[0m\u001b[0;34m\u001b[0m\u001b[0m\n\u001b[1;32m   1956\u001b[0m         \u001b[0my_pred\u001b[0m\u001b[0;34m,\u001b[0m\u001b[0;34m\u001b[0m\u001b[0;34m\u001b[0m\u001b[0m\n",
            "\u001b[0;32m/usr/local/lib/python3.10/dist-packages/sklearn/metrics/_classification.py\u001b[0m in \u001b[0;36mprecision_recall_fscore_support\u001b[0;34m(y_true, y_pred, beta, labels, pos_label, average, warn_for, sample_weight, zero_division)\u001b[0m\n\u001b[1;32m   1571\u001b[0m     \u001b[0;32mif\u001b[0m \u001b[0mbeta\u001b[0m \u001b[0;34m<\u001b[0m \u001b[0;36m0\u001b[0m\u001b[0;34m:\u001b[0m\u001b[0;34m\u001b[0m\u001b[0;34m\u001b[0m\u001b[0m\n\u001b[1;32m   1572\u001b[0m         \u001b[0;32mraise\u001b[0m \u001b[0mValueError\u001b[0m\u001b[0;34m(\u001b[0m\u001b[0;34m\"beta should be >=0 in the F-beta score\"\u001b[0m\u001b[0;34m)\u001b[0m\u001b[0;34m\u001b[0m\u001b[0;34m\u001b[0m\u001b[0m\n\u001b[0;32m-> 1573\u001b[0;31m     \u001b[0mlabels\u001b[0m \u001b[0;34m=\u001b[0m \u001b[0m_check_set_wise_labels\u001b[0m\u001b[0;34m(\u001b[0m\u001b[0my_true\u001b[0m\u001b[0;34m,\u001b[0m \u001b[0my_pred\u001b[0m\u001b[0;34m,\u001b[0m \u001b[0maverage\u001b[0m\u001b[0;34m,\u001b[0m \u001b[0mlabels\u001b[0m\u001b[0;34m,\u001b[0m \u001b[0mpos_label\u001b[0m\u001b[0;34m)\u001b[0m\u001b[0;34m\u001b[0m\u001b[0;34m\u001b[0m\u001b[0m\n\u001b[0m\u001b[1;32m   1574\u001b[0m \u001b[0;34m\u001b[0m\u001b[0m\n\u001b[1;32m   1575\u001b[0m     \u001b[0;31m# Calculate tp_sum, pred_sum, true_sum ###\u001b[0m\u001b[0;34m\u001b[0m\u001b[0;34m\u001b[0m\u001b[0m\n",
            "\u001b[0;32m/usr/local/lib/python3.10/dist-packages/sklearn/metrics/_classification.py\u001b[0m in \u001b[0;36m_check_set_wise_labels\u001b[0;34m(y_true, y_pred, average, labels, pos_label)\u001b[0m\n\u001b[1;32m   1372\u001b[0m         \u001b[0;32mraise\u001b[0m \u001b[0mValueError\u001b[0m\u001b[0;34m(\u001b[0m\u001b[0;34m\"average has to be one of \"\u001b[0m \u001b[0;34m+\u001b[0m \u001b[0mstr\u001b[0m\u001b[0;34m(\u001b[0m\u001b[0maverage_options\u001b[0m\u001b[0;34m)\u001b[0m\u001b[0;34m)\u001b[0m\u001b[0;34m\u001b[0m\u001b[0;34m\u001b[0m\u001b[0m\n\u001b[1;32m   1373\u001b[0m \u001b[0;34m\u001b[0m\u001b[0m\n\u001b[0;32m-> 1374\u001b[0;31m     \u001b[0my_type\u001b[0m\u001b[0;34m,\u001b[0m \u001b[0my_true\u001b[0m\u001b[0;34m,\u001b[0m \u001b[0my_pred\u001b[0m \u001b[0;34m=\u001b[0m \u001b[0m_check_targets\u001b[0m\u001b[0;34m(\u001b[0m\u001b[0my_true\u001b[0m\u001b[0;34m,\u001b[0m \u001b[0my_pred\u001b[0m\u001b[0;34m)\u001b[0m\u001b[0;34m\u001b[0m\u001b[0;34m\u001b[0m\u001b[0m\n\u001b[0m\u001b[1;32m   1375\u001b[0m     \u001b[0;31m# Convert to Python primitive type to avoid NumPy type / Python str\u001b[0m\u001b[0;34m\u001b[0m\u001b[0;34m\u001b[0m\u001b[0m\n\u001b[1;32m   1376\u001b[0m     \u001b[0;31m# comparison. See https://github.com/numpy/numpy/issues/6784\u001b[0m\u001b[0;34m\u001b[0m\u001b[0;34m\u001b[0m\u001b[0m\n",
            "\u001b[0;32m/usr/local/lib/python3.10/dist-packages/sklearn/metrics/_classification.py\u001b[0m in \u001b[0;36m_check_targets\u001b[0;34m(y_true, y_pred)\u001b[0m\n\u001b[1;32m     93\u001b[0m \u001b[0;34m\u001b[0m\u001b[0m\n\u001b[1;32m     94\u001b[0m     \u001b[0;32mif\u001b[0m \u001b[0mlen\u001b[0m\u001b[0;34m(\u001b[0m\u001b[0my_type\u001b[0m\u001b[0;34m)\u001b[0m \u001b[0;34m>\u001b[0m \u001b[0;36m1\u001b[0m\u001b[0;34m:\u001b[0m\u001b[0;34m\u001b[0m\u001b[0;34m\u001b[0m\u001b[0m\n\u001b[0;32m---> 95\u001b[0;31m         raise ValueError(\n\u001b[0m\u001b[1;32m     96\u001b[0m             \"Classification metrics can't handle a mix of {0} and {1} targets\".format(\n\u001b[1;32m     97\u001b[0m                 \u001b[0mtype_true\u001b[0m\u001b[0;34m,\u001b[0m \u001b[0mtype_pred\u001b[0m\u001b[0;34m\u001b[0m\u001b[0;34m\u001b[0m\u001b[0m\n",
            "\u001b[0;31mValueError\u001b[0m: Classification metrics can't handle a mix of binary and continuous targets"
          ]
        }
      ]
    }
  ],
  "metadata": {
    "accelerator": "GPU",
    "colab": {
      "gpuType": "L4",
      "provenance": [],
      "machine_shape": "hm",
      "authorship_tag": "ABX9TyPtiZT6aCwc0x2KaD0H3A1U",
      "include_colab_link": true
    },
    "kernelspec": {
      "display_name": "Python 3",
      "name": "python3"
    },
    "language_info": {
      "name": "python"
    }
  },
  "nbformat": 4,
  "nbformat_minor": 0
}